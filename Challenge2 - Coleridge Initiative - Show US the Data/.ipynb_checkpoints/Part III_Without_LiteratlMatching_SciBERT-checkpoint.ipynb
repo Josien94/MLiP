{
 "cells": [
  {
   "cell_type": "markdown",
   "metadata": {
    "papermill": {
     "duration": 0.045416,
     "end_time": "2021-06-13T09:29:28.470828",
     "exception": false,
     "start_time": "2021-06-13T09:29:28.425412",
     "status": "completed"
    },
    "tags": []
   },
   "source": [
    "# Part III (Testing)\n",
    "\n",
    "# 1. Introduction\n",
    "\n",
    "This notebook contains the prediction phase for the Kaggle challenge \"Coleridge Initative: Show US the Data\" (https://www.kaggle.com/c/coleridgeinitiative-show-us-the-data/). To recap, this challenge is about datasets used in scientific papers. In particular, we want to extract the datasets for scientific paper, with several NLP approaches. In this notebook, we test both BERT and SciBERT. The first model is introduced by Devlin, J., Chang, M. W., Lee, K., and Toutanova, K., in 2018 [1]. Source code of BERT can be fuond [here](https://github.com/google-research/bert). The second model is  introduced by Beltagy, I., Lo, K., and Cohan, A. in 2019 [2]. Source code of SciBERT can be found [here](https://github.com/allenai/scibert).\n",
    "\n",
    "\n",
    "Furthermore, we append the existing data with a specialized Corpus for dataset tagging. TDMSci is a Corpus existing of annotated data for tasks, metrices and datasets. Here, B-DATASET and I-DATASET are the NER-labels indicating a word is (part of) a dataset [3]. Source code (and annotated data) of TDMSci can be found [here](https://github.com/IBM/science-result-extractor).\n",
    "\n",
    "This boils down to exectuing Named Entity Recognition (NER), in particular token classfication.\n",
    "\n",
    "We have created three notebooks, one for **dataset creation** ([Part I](https://github.com/Josien94/MLiP/blob/main/Challenge2%20-%20Coleridge%20Initiative%20-%20Show%20US%20the%20Data/Part%20I_Creating_Dataset.ipynb)), one for **training** ([Part IIa](https://github.com/Josien94/MLiP/blob/main/Challenge2%20-%20Coleridge%20Initiative%20-%20Show%20US%20the%20Data/Part_IIa_BERT_Training.ipynb) and [Part IIb](https://github.com/Josien94/MLiP/blob/main/Challenge2%20-%20Coleridge%20Initiative%20-%20Show%20US%20the%20Data/Part_IIb_SciBERT_Training.ipynb)) and this one for **testing** (Part III). This part exists of the testing phase of the model. We loaded the pre-trained model from either _part IIa_ or _part IIb_, and executed predictions with the pre-trained model on our validation set.\n",
    "\n",
    "\n",
    "[1] Devlin, J., Chang, M. W., Lee, K., & Toutanova, K. (2018). Bert: Pre-training of deep bidirectional transformers for language understanding. arXiv preprint arXiv:1810.04805.  \n",
    "[2] Beltagy, I., Lo, K., & Cohan, A. (2019). SciBERT: A pretrained language model for scientific text. arXiv preprint arXiv:1903.10676.  \n",
    "[3] Hou, Y., Jochim, C., Gleize, M., Bonin, F., & Ganguly, D. (2021). TDMSci: A Specialized Corpus for Scientific Literature Entity Tagging of Tasks Datasets and Metrics. arXiv preprint arXiv:2101.10273.\n"
   ]
  },
  {
   "cell_type": "markdown",
   "metadata": {
    "papermill": {
     "duration": 0.041297,
     "end_time": "2021-06-13T09:29:28.553600",
     "exception": false,
     "start_time": "2021-06-13T09:29:28.512303",
     "status": "completed"
    },
    "tags": []
   },
   "source": [
    "# 2. Preparing Notebook"
   ]
  },
  {
   "cell_type": "code",
   "execution_count": 1,
   "metadata": {
    "execution": {
     "iopub.execute_input": "2021-06-13T09:29:28.652585Z",
     "iopub.status.busy": "2021-06-13T09:29:28.651878Z",
     "iopub.status.idle": "2021-06-13T09:31:29.973247Z",
     "shell.execute_reply": "2021-06-13T09:31:29.972034Z",
     "shell.execute_reply.started": "2021-06-13T08:59:37.127064Z"
    },
    "papermill": {
     "duration": 121.377796,
     "end_time": "2021-06-13T09:31:29.973513",
     "exception": false,
     "start_time": "2021-06-13T09:29:28.595717",
     "status": "completed"
    },
    "tags": []
   },
   "outputs": [
    {
     "name": "stdout",
     "output_type": "stream",
     "text": [
      "Looking in links: file:///kaggle/input/coleridge-packages/packages/datasets\r\n",
      "Processing /kaggle/input/coleridge-packages/packages/datasets/datasets-1.5.0-py3-none-any.whl\r\n",
      "Requirement already satisfied: importlib-metadata in /opt/conda/lib/python3.7/site-packages (from datasets) (3.4.0)\r\n",
      "Requirement already satisfied: numpy>=1.17 in /opt/conda/lib/python3.7/site-packages (from datasets) (1.19.5)\r\n",
      "Processing /kaggle/input/coleridge-packages/packages/datasets/huggingface_hub-0.0.7-py3-none-any.whl\r\n",
      "Processing /kaggle/input/coleridge-packages/packages/datasets/tqdm-4.49.0-py2.py3-none-any.whl\r\n",
      "Requirement already satisfied: multiprocess in /opt/conda/lib/python3.7/site-packages (from datasets) (0.70.11.1)\r\n",
      "Requirement already satisfied: dill in /opt/conda/lib/python3.7/site-packages (from datasets) (0.3.3)\r\n",
      "Processing /kaggle/input/coleridge-packages/packages/datasets/xxhash-2.0.0-cp37-cp37m-manylinux2010_x86_64.whl\r\n",
      "Requirement already satisfied: pandas in /opt/conda/lib/python3.7/site-packages (from datasets) (1.1.5)\r\n",
      "Requirement already satisfied: requests>=2.19.0 in /opt/conda/lib/python3.7/site-packages (from datasets) (2.25.1)\r\n",
      "Requirement already satisfied: pyarrow>=0.17.1 in /opt/conda/lib/python3.7/site-packages (from datasets) (1.0.1)\r\n",
      "Requirement already satisfied: fsspec in /opt/conda/lib/python3.7/site-packages (from datasets) (0.8.5)\r\n",
      "Requirement already satisfied: filelock in /opt/conda/lib/python3.7/site-packages (from huggingface-hub<0.1.0->datasets) (3.0.12)\r\n",
      "Requirement already satisfied: urllib3<1.27,>=1.21.1 in /opt/conda/lib/python3.7/site-packages (from requests>=2.19.0->datasets) (1.26.3)\r\n",
      "Requirement already satisfied: certifi>=2017.4.17 in /opt/conda/lib/python3.7/site-packages (from requests>=2.19.0->datasets) (2020.12.5)\r\n",
      "Requirement already satisfied: idna<3,>=2.5 in /opt/conda/lib/python3.7/site-packages (from requests>=2.19.0->datasets) (2.10)\r\n",
      "Requirement already satisfied: chardet<5,>=3.0.2 in /opt/conda/lib/python3.7/site-packages (from requests>=2.19.0->datasets) (3.0.4)\r\n",
      "Requirement already satisfied: zipp>=0.5 in /opt/conda/lib/python3.7/site-packages (from importlib-metadata->datasets) (3.4.0)\r\n",
      "Requirement already satisfied: typing-extensions>=3.6.4 in /opt/conda/lib/python3.7/site-packages (from importlib-metadata->datasets) (3.7.4.3)\r\n",
      "Requirement already satisfied: python-dateutil>=2.7.3 in /opt/conda/lib/python3.7/site-packages (from pandas->datasets) (2.8.1)\r\n",
      "Requirement already satisfied: pytz>=2017.2 in /opt/conda/lib/python3.7/site-packages (from pandas->datasets) (2021.1)\r\n",
      "Requirement already satisfied: six>=1.5 in /opt/conda/lib/python3.7/site-packages (from python-dateutil>=2.7.3->pandas->datasets) (1.15.0)\r\n",
      "Installing collected packages: tqdm, xxhash, huggingface-hub, datasets\r\n",
      "  Attempting uninstall: tqdm\r\n",
      "    Found existing installation: tqdm 4.56.2\r\n",
      "    Uninstalling tqdm-4.56.2:\r\n",
      "      Successfully uninstalled tqdm-4.56.2\r\n",
      "Successfully installed datasets-1.5.0 huggingface-hub-0.0.7 tqdm-4.49.0 xxhash-2.0.0\r\n",
      "Processing /kaggle/input/coleridge-packages/seqeval-1.2.2-py3-none-any.whl\r\n",
      "Requirement already satisfied: numpy>=1.14.0 in /opt/conda/lib/python3.7/site-packages (from seqeval==1.2.2) (1.19.5)\r\n",
      "Requirement already satisfied: scikit-learn>=0.21.3 in /opt/conda/lib/python3.7/site-packages (from seqeval==1.2.2) (0.24.1)\r\n",
      "Requirement already satisfied: threadpoolctl>=2.0.0 in /opt/conda/lib/python3.7/site-packages (from scikit-learn>=0.21.3->seqeval==1.2.2) (2.1.0)\r\n",
      "Requirement already satisfied: scipy>=0.19.1 in /opt/conda/lib/python3.7/site-packages (from scikit-learn>=0.21.3->seqeval==1.2.2) (1.5.4)\r\n",
      "Requirement already satisfied: joblib>=0.11 in /opt/conda/lib/python3.7/site-packages (from scikit-learn>=0.21.3->seqeval==1.2.2) (1.0.1)\r\n",
      "Installing collected packages: seqeval\r\n",
      "Successfully installed seqeval-1.2.2\r\n",
      "Processing /kaggle/input/coleridge-packages/tokenizers-0.10.1-cp37-cp37m-manylinux1_x86_64.whl\r\n",
      "tokenizers is already installed with the same version as the provided wheel. Use --force-reinstall to force an installation of the wheel.\r\n",
      "Processing /kaggle/input/coleridge-packages/transformers-4.5.0.dev0-py3-none-any.whl\r\n",
      "Requirement already satisfied: numpy>=1.17 in /opt/conda/lib/python3.7/site-packages (from transformers==4.5.0.dev0) (1.19.5)\r\n",
      "Requirement already satisfied: sacremoses in /opt/conda/lib/python3.7/site-packages (from transformers==4.5.0.dev0) (0.0.43)\r\n",
      "Requirement already satisfied: regex!=2019.12.17 in /opt/conda/lib/python3.7/site-packages (from transformers==4.5.0.dev0) (2020.11.13)\r\n",
      "Requirement already satisfied: requests in /opt/conda/lib/python3.7/site-packages (from transformers==4.5.0.dev0) (2.25.1)\r\n",
      "Requirement already satisfied: tokenizers<0.11,>=0.10.1 in /opt/conda/lib/python3.7/site-packages (from transformers==4.5.0.dev0) (0.10.1)\r\n",
      "Requirement already satisfied: importlib-metadata in /opt/conda/lib/python3.7/site-packages (from transformers==4.5.0.dev0) (3.4.0)\r\n",
      "Requirement already satisfied: packaging in /opt/conda/lib/python3.7/site-packages (from transformers==4.5.0.dev0) (20.9)\r\n",
      "Requirement already satisfied: filelock in /opt/conda/lib/python3.7/site-packages (from transformers==4.5.0.dev0) (3.0.12)\r\n",
      "Requirement already satisfied: tqdm>=4.27 in /opt/conda/lib/python3.7/site-packages (from transformers==4.5.0.dev0) (4.49.0)\r\n",
      "Requirement already satisfied: zipp>=0.5 in /opt/conda/lib/python3.7/site-packages (from importlib-metadata->transformers==4.5.0.dev0) (3.4.0)\r\n",
      "Requirement already satisfied: typing-extensions>=3.6.4 in /opt/conda/lib/python3.7/site-packages (from importlib-metadata->transformers==4.5.0.dev0) (3.7.4.3)\r\n",
      "Requirement already satisfied: pyparsing>=2.0.2 in /opt/conda/lib/python3.7/site-packages (from packaging->transformers==4.5.0.dev0) (2.4.7)\r\n",
      "Requirement already satisfied: chardet<5,>=3.0.2 in /opt/conda/lib/python3.7/site-packages (from requests->transformers==4.5.0.dev0) (3.0.4)\r\n",
      "Requirement already satisfied: urllib3<1.27,>=1.21.1 in /opt/conda/lib/python3.7/site-packages (from requests->transformers==4.5.0.dev0) (1.26.3)\r\n",
      "Requirement already satisfied: certifi>=2017.4.17 in /opt/conda/lib/python3.7/site-packages (from requests->transformers==4.5.0.dev0) (2020.12.5)\r\n",
      "Requirement already satisfied: idna<3,>=2.5 in /opt/conda/lib/python3.7/site-packages (from requests->transformers==4.5.0.dev0) (2.10)\r\n",
      "Requirement already satisfied: click in /opt/conda/lib/python3.7/site-packages (from sacremoses->transformers==4.5.0.dev0) (7.1.2)\r\n",
      "Requirement already satisfied: six in /opt/conda/lib/python3.7/site-packages (from sacremoses->transformers==4.5.0.dev0) (1.15.0)\r\n",
      "Requirement already satisfied: joblib in /opt/conda/lib/python3.7/site-packages (from sacremoses->transformers==4.5.0.dev0) (1.0.1)\r\n",
      "Installing collected packages: transformers\r\n",
      "  Attempting uninstall: transformers\r\n",
      "    Found existing installation: transformers 4.4.2\r\n",
      "    Uninstalling transformers-4.4.2:\r\n",
      "      Successfully uninstalled transformers-4.4.2\r\n",
      "\u001b[31mERROR: pip's dependency resolver does not currently take into account all the packages that are installed. This behaviour is the source of the following dependency conflicts.\r\n",
      "allennlp 2.2.0 requires transformers<4.5,>=4.1, but you have transformers 4.5.0.dev0 which is incompatible.\u001b[0m\r\n",
      "Successfully installed transformers-4.5.0.dev0\r\n",
      "Requirement already satisfied: datasets in /opt/conda/lib/python3.7/site-packages (1.5.0)\r\n",
      "Requirement already satisfied: pandas in /opt/conda/lib/python3.7/site-packages (from datasets) (1.1.5)\r\n",
      "Requirement already satisfied: multiprocess in /opt/conda/lib/python3.7/site-packages (from datasets) (0.70.11.1)\r\n",
      "Requirement already satisfied: fsspec in /opt/conda/lib/python3.7/site-packages (from datasets) (0.8.5)\r\n",
      "Requirement already satisfied: huggingface-hub<0.1.0 in /opt/conda/lib/python3.7/site-packages (from datasets) (0.0.7)\r\n",
      "Requirement already satisfied: numpy>=1.17 in /opt/conda/lib/python3.7/site-packages (from datasets) (1.19.5)\r\n",
      "Requirement already satisfied: xxhash in /opt/conda/lib/python3.7/site-packages (from datasets) (2.0.0)\r\n",
      "Requirement already satisfied: tqdm<4.50.0,>=4.27 in /opt/conda/lib/python3.7/site-packages (from datasets) (4.49.0)\r\n",
      "Requirement already satisfied: requests>=2.19.0 in /opt/conda/lib/python3.7/site-packages (from datasets) (2.25.1)\r\n",
      "Requirement already satisfied: pyarrow>=0.17.1 in /opt/conda/lib/python3.7/site-packages (from datasets) (1.0.1)\r\n",
      "Requirement already satisfied: dill in /opt/conda/lib/python3.7/site-packages (from datasets) (0.3.3)\r\n",
      "Requirement already satisfied: importlib-metadata in /opt/conda/lib/python3.7/site-packages (from datasets) (3.4.0)\r\n",
      "Requirement already satisfied: filelock in /opt/conda/lib/python3.7/site-packages (from huggingface-hub<0.1.0->datasets) (3.0.12)\r\n",
      "Requirement already satisfied: idna<3,>=2.5 in /opt/conda/lib/python3.7/site-packages (from requests>=2.19.0->datasets) (2.10)\r\n",
      "Requirement already satisfied: certifi>=2017.4.17 in /opt/conda/lib/python3.7/site-packages (from requests>=2.19.0->datasets) (2020.12.5)\r\n",
      "Requirement already satisfied: chardet<5,>=3.0.2 in /opt/conda/lib/python3.7/site-packages (from requests>=2.19.0->datasets) (3.0.4)\r\n",
      "Requirement already satisfied: urllib3<1.27,>=1.21.1 in /opt/conda/lib/python3.7/site-packages (from requests>=2.19.0->datasets) (1.26.3)\r\n",
      "Requirement already satisfied: typing-extensions>=3.6.4 in /opt/conda/lib/python3.7/site-packages (from importlib-metadata->datasets) (3.7.4.3)\r\n",
      "Requirement already satisfied: zipp>=0.5 in /opt/conda/lib/python3.7/site-packages (from importlib-metadata->datasets) (3.4.0)\r\n",
      "Requirement already satisfied: python-dateutil>=2.7.3 in /opt/conda/lib/python3.7/site-packages (from pandas->datasets) (2.8.1)\r\n",
      "Requirement already satisfied: pytz>=2017.2 in /opt/conda/lib/python3.7/site-packages (from pandas->datasets) (2021.1)\r\n",
      "Requirement already satisfied: six>=1.5 in /opt/conda/lib/python3.7/site-packages (from python-dateutil>=2.7.3->pandas->datasets) (1.15.0)\r\n"
     ]
    }
   ],
   "source": [
    "!pip install datasets --no-index --find-links=file:///kaggle/input/coleridge-packages/packages/datasets \n",
    "!pip install ../input/coleridge-packages/seqeval-1.2.2-py3-none-any.whl \n",
    "!pip install ../input/coleridge-packages/tokenizers-0.10.1-cp37-cp37m-manylinux1_x86_64.whl \n",
    "!pip install ../input/coleridge-packages/transformers-4.5.0.dev0-py3-none-any.whl \n",
    "!pip install datasets "
   ]
  },
  {
   "cell_type": "code",
   "execution_count": 2,
   "metadata": {
    "execution": {
     "iopub.execute_input": "2021-06-13T09:31:30.157179Z",
     "iopub.status.busy": "2021-06-13T09:31:30.156122Z",
     "iopub.status.idle": "2021-06-13T09:31:42.763194Z",
     "shell.execute_reply": "2021-06-13T09:31:42.762599Z",
     "shell.execute_reply.started": "2021-06-13T09:01:34.817355Z"
    },
    "papermill": {
     "duration": 12.700515,
     "end_time": "2021-06-13T09:31:42.763368",
     "exception": false,
     "start_time": "2021-06-13T09:31:30.062853",
     "status": "completed"
    },
    "tags": []
   },
   "outputs": [
    {
     "name": "stderr",
     "output_type": "stream",
     "text": [
      "/opt/conda/lib/python3.7/site-packages/torchaudio/backend/utils.py:54: UserWarning: \"sox\" backend is being deprecated. The default backend will be changed to \"sox_io\" backend in 0.8.0 and \"sox\" backend will be removed in 0.9.0. Please migrate to \"sox_io\" backend. Please refer to https://github.com/pytorch/audio/issues/903 for the detail.\n",
      "  '\"sox\" backend is being deprecated. '\n"
     ]
    }
   ],
   "source": [
    "#Import necessary libraries\n",
    "import pandas as pd # data processing, CSV file I/O (e.g. pd.read_csv)\n",
    "import nltk\n",
    "import re\n",
    "import os\n",
    "from os import listdir\n",
    "from os.path import isfile, join\n",
    "import re\n",
    "import json\n",
    "import time\n",
    "import datetime\n",
    "import random\n",
    "import glob\n",
    "import importlib\n",
    "import allennlp\n",
    "import numpy as np\n",
    "import pandas as pd\n",
    "from transformers import *\n",
    "from tqdm import tqdm\n",
    "import matplotlib.pyplot as plt\n",
    "import seaborn as sns\n",
    "import torch\n",
    "from typing import List\n",
    "\n"
   ]
  },
  {
   "cell_type": "code",
   "execution_count": 3,
   "metadata": {
    "execution": {
     "iopub.execute_input": "2021-06-13T09:31:42.879689Z",
     "iopub.status.busy": "2021-06-13T09:31:42.878823Z",
     "iopub.status.idle": "2021-06-13T09:31:43.555949Z",
     "shell.execute_reply": "2021-06-13T09:31:43.554370Z",
     "shell.execute_reply.started": "2021-06-13T09:01:34.832603Z"
    },
    "papermill": {
     "duration": 0.7371,
     "end_time": "2021-06-13T09:31:43.556122",
     "exception": false,
     "start_time": "2021-06-13T09:31:42.819022",
     "status": "completed"
    },
    "tags": []
   },
   "outputs": [
    {
     "name": "stdout",
     "output_type": "stream",
     "text": [
      "There are 95394 rows in the training set!\n"
     ]
    }
   ],
   "source": [
    "acc = 0\n",
    "#Sanity check\n",
    "with open('/kaggle/input/tdmsci/train_ner.json') as f:\n",
    "    for row in f:\n",
    "        acc += 1\n",
    "\n",
    "print(\"There are {} rows in the training set!\".format(acc))"
   ]
  },
  {
   "cell_type": "code",
   "execution_count": 4,
   "metadata": {
    "execution": {
     "iopub.execute_input": "2021-06-13T09:31:43.671755Z",
     "iopub.status.busy": "2021-06-13T09:31:43.671072Z",
     "iopub.status.idle": "2021-06-13T09:31:43.685023Z",
     "shell.execute_reply": "2021-06-13T09:31:43.684327Z",
     "shell.execute_reply.started": "2021-06-13T09:04:14.260234Z"
    },
    "papermill": {
     "duration": 0.075646,
     "end_time": "2021-06-13T09:31:43.685211",
     "exception": false,
     "start_time": "2021-06-13T09:31:43.609565",
     "status": "completed"
    },
    "tags": []
   },
   "outputs": [],
   "source": [
    "#Initialize paths for data\n",
    "path_abs = '/kaggle/input/coleridgeinitiative-show-us-the-data/'\n",
    "path_test = os.path.join(path_abs, 'test/')\n",
    "path_train = os.path.join(path_abs, 'train/')\n",
    "path_metadata = os.path.join(path_abs, 'train.csv')\n",
    "path_ner_json = '/kaggle/input/tdmsci/train_ner.json'\n",
    "sample_submission_path = '../input/coleridgeinitiative-show-us-the-data/sample_submission.csv'\n",
    "sample_submission = pd.read_csv(sample_submission_path)\n",
    "\n",
    "adnl_govt_labels_path = '../input/coleridge-additional-gov-datasets-22000popular/data_set_800_with10000popular.csv'\n",
    "\n",
    "onlyBert = True #CHANGE THIS TO FALSE FOR FINAL SUBMSSION "
   ]
  },
  {
   "cell_type": "markdown",
   "metadata": {
    "papermill": {
     "duration": 0.057098,
     "end_time": "2021-06-13T09:31:43.796135",
     "exception": false,
     "start_time": "2021-06-13T09:31:43.739037",
     "status": "completed"
    },
    "tags": []
   },
   "source": [
    "# 3. Get to know the data"
   ]
  },
  {
   "cell_type": "markdown",
   "metadata": {
    "papermill": {
     "duration": 0.055427,
     "end_time": "2021-06-13T09:31:43.909758",
     "exception": false,
     "start_time": "2021-06-13T09:31:43.854331",
     "status": "completed"
    },
    "tags": []
   },
   "source": [
    "## 3.1. Load data"
   ]
  },
  {
   "cell_type": "code",
   "execution_count": 5,
   "metadata": {
    "execution": {
     "iopub.execute_input": "2021-06-13T09:31:44.025552Z",
     "iopub.status.busy": "2021-06-13T09:31:44.024782Z",
     "iopub.status.idle": "2021-06-13T09:31:44.584885Z",
     "shell.execute_reply": "2021-06-13T09:31:44.583859Z",
     "shell.execute_reply.started": "2021-06-13T09:04:14.70788Z"
    },
    "papermill": {
     "duration": 0.620309,
     "end_time": "2021-06-13T09:31:44.585127",
     "exception": false,
     "start_time": "2021-06-13T09:31:43.964818",
     "status": "completed"
    },
    "tags": []
   },
   "outputs": [
    {
     "data": {
      "text/html": [
       "<div>\n",
       "<style scoped>\n",
       "    .dataframe tbody tr th:only-of-type {\n",
       "        vertical-align: middle;\n",
       "    }\n",
       "\n",
       "    .dataframe tbody tr th {\n",
       "        vertical-align: top;\n",
       "    }\n",
       "\n",
       "    .dataframe thead th {\n",
       "        text-align: right;\n",
       "    }\n",
       "</style>\n",
       "<table border=\"1\" class=\"dataframe\">\n",
       "  <thead>\n",
       "    <tr style=\"text-align: right;\">\n",
       "      <th></th>\n",
       "      <th>Id</th>\n",
       "      <th>pub_title</th>\n",
       "      <th>dataset_title</th>\n",
       "      <th>dataset_label</th>\n",
       "      <th>cleaned_label</th>\n",
       "    </tr>\n",
       "  </thead>\n",
       "  <tbody>\n",
       "    <tr>\n",
       "      <th>0</th>\n",
       "      <td>0007f880-0a9b-492d-9a58-76eb0b0e0bd7</td>\n",
       "      <td>The Impact of ICT Training on Income Generatio...</td>\n",
       "      <td>Program for the International Assessment of Ad...</td>\n",
       "      <td>Program for the International Assessment of Ad...</td>\n",
       "      <td>program for the international assessment of ad...</td>\n",
       "    </tr>\n",
       "    <tr>\n",
       "      <th>1</th>\n",
       "      <td>0008656f-0ba2-4632-8602-3017b44c2e90</td>\n",
       "      <td>Finnish Ninth Graders’ Gender Appropriateness ...</td>\n",
       "      <td>Trends in International Mathematics and Scienc...</td>\n",
       "      <td>Trends in International Mathematics and Scienc...</td>\n",
       "      <td>trends in international mathematics and scienc...</td>\n",
       "    </tr>\n",
       "    <tr>\n",
       "      <th>2</th>\n",
       "      <td>000e04d6-d6ef-442f-b070-4309493221ba</td>\n",
       "      <td>Economic Research Service: Specialized Agency...</td>\n",
       "      <td>Agricultural Resource Management Survey</td>\n",
       "      <td>Agricultural Resources Management Survey</td>\n",
       "      <td>agricultural resources management survey</td>\n",
       "    </tr>\n",
       "    <tr>\n",
       "      <th>3</th>\n",
       "      <td>000efc17-13d8-433d-8f62-a3932fe4f3b8</td>\n",
       "      <td>Risk factors and global cognitive status relat...</td>\n",
       "      <td>Alzheimer's Disease Neuroimaging Initiative (A...</td>\n",
       "      <td>ADNI|Alzheimer's Disease Neuroimaging Initiati...</td>\n",
       "      <td>adni|alzheimer s disease neuroimaging initiati...</td>\n",
       "    </tr>\n",
       "    <tr>\n",
       "      <th>4</th>\n",
       "      <td>0010357a-6365-4e5f-b982-582e6d32c3ee</td>\n",
       "      <td>Timelines of COVID-19 Vaccines</td>\n",
       "      <td>SARS-CoV-2 genome sequence</td>\n",
       "      <td>genome sequence of COVID-19</td>\n",
       "      <td>genome sequence of covid 19</td>\n",
       "    </tr>\n",
       "  </tbody>\n",
       "</table>\n",
       "</div>"
      ],
      "text/plain": [
       "                                     Id  \\\n",
       "0  0007f880-0a9b-492d-9a58-76eb0b0e0bd7   \n",
       "1  0008656f-0ba2-4632-8602-3017b44c2e90   \n",
       "2  000e04d6-d6ef-442f-b070-4309493221ba   \n",
       "3  000efc17-13d8-433d-8f62-a3932fe4f3b8   \n",
       "4  0010357a-6365-4e5f-b982-582e6d32c3ee   \n",
       "\n",
       "                                           pub_title  \\\n",
       "0  The Impact of ICT Training on Income Generatio...   \n",
       "1  Finnish Ninth Graders’ Gender Appropriateness ...   \n",
       "2   Economic Research Service: Specialized Agency...   \n",
       "3  Risk factors and global cognitive status relat...   \n",
       "4                     Timelines of COVID-19 Vaccines   \n",
       "\n",
       "                                       dataset_title  \\\n",
       "0  Program for the International Assessment of Ad...   \n",
       "1  Trends in International Mathematics and Scienc...   \n",
       "2            Agricultural Resource Management Survey   \n",
       "3  Alzheimer's Disease Neuroimaging Initiative (A...   \n",
       "4                         SARS-CoV-2 genome sequence   \n",
       "\n",
       "                                       dataset_label  \\\n",
       "0  Program for the International Assessment of Ad...   \n",
       "1  Trends in International Mathematics and Scienc...   \n",
       "2           Agricultural Resources Management Survey   \n",
       "3  ADNI|Alzheimer's Disease Neuroimaging Initiati...   \n",
       "4                        genome sequence of COVID-19   \n",
       "\n",
       "                                       cleaned_label  \n",
       "0  program for the international assessment of ad...  \n",
       "1  trends in international mathematics and scienc...  \n",
       "2           agricultural resources management survey  \n",
       "3  adni|alzheimer s disease neuroimaging initiati...  \n",
       "4                        genome sequence of covid 19  "
      ]
     },
     "execution_count": 5,
     "metadata": {},
     "output_type": "execute_result"
    }
   ],
   "source": [
    "#Load metadata\n",
    "label_df = pd.read_csv(path_metadata)\n",
    "label_df = label_df.groupby('Id').agg({\n",
    "    'pub_title': 'first',\n",
    "    'dataset_title': '|'.join,\n",
    "    'dataset_label': '|'.join,\n",
    "    'cleaned_label': '|'.join\n",
    "}).reset_index()\n",
    "\n",
    "# sample_submission = pd.read_csv(path_sample_submission)\n",
    "# #Inpsect data\n",
    "\n",
    "label_df.head()"
   ]
  },
  {
   "cell_type": "code",
   "execution_count": 6,
   "metadata": {
    "execution": {
     "iopub.execute_input": "2021-06-13T09:31:44.698647Z",
     "iopub.status.busy": "2021-06-13T09:31:44.696285Z",
     "iopub.status.idle": "2021-06-13T09:31:44.699383Z",
     "shell.execute_reply": "2021-06-13T09:31:44.699978Z",
     "shell.execute_reply.started": "2021-06-13T09:04:15.211818Z"
    },
    "papermill": {
     "duration": 0.062631,
     "end_time": "2021-06-13T09:31:44.700197",
     "exception": false,
     "start_time": "2021-06-13T09:31:44.637566",
     "status": "completed"
    },
    "tags": []
   },
   "outputs": [],
   "source": [
    "computeFBeta = True\n",
    "if(len(sample_submission) > 4):\n",
    "    computeFBeta = False"
   ]
  },
  {
   "cell_type": "markdown",
   "metadata": {
    "papermill": {
     "duration": 0.069991,
     "end_time": "2021-06-13T09:31:44.823780",
     "exception": false,
     "start_time": "2021-06-13T09:31:44.753789",
     "status": "completed"
    },
    "tags": []
   },
   "source": [
    "# 4. Create testdata (and basic NLP)\n",
    "\n",
    "Here, we will load our provided test data and apply basic NLP methods on this. "
   ]
  },
  {
   "cell_type": "code",
   "execution_count": 7,
   "metadata": {
    "execution": {
     "iopub.execute_input": "2021-06-13T09:31:45.082289Z",
     "iopub.status.busy": "2021-06-13T09:31:45.069836Z",
     "iopub.status.idle": "2021-06-13T09:31:45.087321Z",
     "shell.execute_reply": "2021-06-13T09:31:45.086671Z",
     "shell.execute_reply.started": "2021-06-13T09:04:15.220685Z"
    },
    "papermill": {
     "duration": 0.152768,
     "end_time": "2021-06-13T09:31:45.087518",
     "exception": false,
     "start_time": "2021-06-13T09:31:44.934750",
     "status": "completed"
    },
    "tags": []
   },
   "outputs": [],
   "source": [
    "MAX_LENGTH = 64\n",
    "OVERLAP = 20\n",
    "\n",
    "def clean_paper_sentence(s):\n",
    "    \"\"\"\n",
    "    This function is essentially clean_text without lowercasing.\n",
    "    \"\"\"\n",
    "    s = re.sub('[^A-Za-z0-9]+', ' ', str(s)).strip()\n",
    "    s = re.sub(' +', ' ', s)\n",
    "    return s\n",
    "\n",
    "def shorten_sentences(sentences):\n",
    "    \"\"\"\n",
    "    Sentences that have more than MAX_LENGTH words will be split\n",
    "    into multiple sentences with overlappings.\n",
    "    \"\"\"\n",
    "    short_sentences = []\n",
    "    for sentence in sentences:\n",
    "        words = sentence.split()\n",
    "        if len(words) > MAX_LENGTH:\n",
    "            for p in range(0, len(words), MAX_LENGTH - OVERLAP):\n",
    "                short_sentences.append(' '.join(words[p:p+MAX_LENGTH]))\n",
    "        else:\n",
    "            short_sentences.append(sentence)\n",
    "    return short_sentences\n",
    "\n",
    "#Concatenate text and split sentences, as the BERT (and SciBERT) model \n",
    "#has the contraint of maximum sequence length of 512.\n",
    "def concatenate_text(json_dict):\n",
    "    total_text = \"\"\n",
    "        \n",
    "    for section_dict in json_dict:\n",
    "        total_text += section_dict['text']+ '\\n'\n",
    "    #sentences = nltk.tokenize.sent_tokenize(total_text) # This seems to take a lot of time?\n",
    "    sentences = re.split('\\. ', total_text)\n",
    "    sentences = [clean_paper_sentence(s) for s in sentences]\n",
    "   \n",
    "    sentences = shorten_sentences(sentences)\n",
    "    return sentences\n",
    "\n",
    "def create_test_df(path, dataset, N_test):\n",
    "    '''\n",
    "    \n",
    "    '''\n",
    "    #Initialize dictionary with right keys\n",
    "    final_dict = dict()\n",
    "    final_dict[\"Id\"] = []\n",
    "    final_dict[\"Sentences\"] = []\n",
    "    \n",
    "    max_length = N_test\n",
    "    \n",
    "    counter = 0\n",
    "    for root, _, files in os.walk(path):\n",
    "        for filename in range(0,max_length):#files:\n",
    "            id = files[filename][:-5] #Remove .json from filename to retrieve id\n",
    "            with open(path + files[filename]) as f:\n",
    "                json_dict = json.load(f)\n",
    "                sentences = concatenate_text(json_dict)\n",
    "                final_dict[\"Id\"].append(id)\n",
    "                final_dict[\"Sentences\"].append(sentences)\n",
    "                \n",
    "            counter += 1\n",
    "    df = pd.DataFrame.from_dict(final_dict)\n",
    "\n",
    "    return df\n",
    "\n",
    "\n"
   ]
  },
  {
   "cell_type": "code",
   "execution_count": 8,
   "metadata": {
    "execution": {
     "iopub.execute_input": "2021-06-13T09:31:45.277536Z",
     "iopub.status.busy": "2021-06-13T09:31:45.276547Z",
     "iopub.status.idle": "2021-06-13T09:31:45.419468Z",
     "shell.execute_reply": "2021-06-13T09:31:45.418827Z",
     "shell.execute_reply.started": "2021-06-13T09:04:15.290853Z"
    },
    "papermill": {
     "duration": 0.239949,
     "end_time": "2021-06-13T09:31:45.419643",
     "exception": false,
     "start_time": "2021-06-13T09:31:45.179694",
     "status": "completed"
    },
    "tags": []
   },
   "outputs": [
    {
     "name": "stdout",
     "output_type": "stream",
     "text": [
      "4\n"
     ]
    }
   ],
   "source": [
    "#Create dataframe with labels\n",
    "#label_df = label_df[['Id','cleaned_label']]\n",
    "\n",
    "/#Create train test data for NER classification\n",
    "if(computeFBeta):\n",
    "    N_test = len([name for name in os.listdir(path_test)])\n",
    "    print(N_test)\n",
    "    test_df_ner = create_test_df(path_test, \"test\", N_test)\n",
    "\n",
    "#create test data for MLM classification\n",
    "#test_df_mlm = create_train_test_df(path_test, \"test\",0, N_test)"
   ]
  },
  {
   "cell_type": "markdown",
   "metadata": {
    "papermill": {
     "duration": 0.05229,
     "end_time": "2021-06-13T09:31:45.866691",
     "exception": false,
     "start_time": "2021-06-13T09:31:45.814401",
     "status": "completed"
    },
    "tags": []
   },
   "source": [
    "# 5. Literal matching\n",
    "\n",
    "To improve performance, we introduce literal matching, where sentences from the test data are matched against a created knowledge bank. Here, literal matches between datasets in the knowledge bank and sentences in the test data are found. \n",
    "\n",
    "Furthermore, we add the top [10,000 datasets](https://www.kaggle.com/chienhsianghung/coleridge-additional-gov-datasets-22000popular) from the [U.S. Government's open data](https://www.data.gov/). To exclude datasets exiting of one word - mostly a common used word like \"earth\" - we restricted the inclusion of a dataset with a wordcount larger than 3."
   ]
  },
  {
   "cell_type": "code",
   "execution_count": 10,
   "metadata": {
    "execution": {
     "iopub.execute_input": "2021-06-13T09:31:45.979951Z",
     "iopub.status.busy": "2021-06-13T09:31:45.978748Z",
     "iopub.status.idle": "2021-06-13T09:32:52.009488Z",
     "shell.execute_reply": "2021-06-13T09:32:52.010189Z",
     "shell.execute_reply.started": "2021-06-13T09:04:15.964716Z"
    },
    "papermill": {
     "duration": 66.09109,
     "end_time": "2021-06-13T09:32:52.010391",
     "exception": false,
     "start_time": "2021-06-13T09:31:45.919301",
     "status": "completed"
    },
    "tags": []
   },
   "outputs": [
    {
     "name": "stdout",
     "output_type": "stream",
     "text": [
      "14316\n"
     ]
    }
   ],
   "source": [
    "#Literal matching (create knowledge bank)\n",
    "train = pd.read_csv(path_metadata)\n",
    "papers = {}\n",
    "\n",
    "for paper_id in train['Id'].unique():\n",
    "    with open(f'{path_train}/{paper_id}.json', 'r') as f:\n",
    "        paper = json.load(f)\n",
    "        papers[paper_id] = paper\n",
    "\n",
    "print(len(list(papers.keys())))\n"
   ]
  },
  {
   "cell_type": "code",
   "execution_count": 11,
   "metadata": {
    "execution": {
     "iopub.execute_input": "2021-06-13T09:32:52.133788Z",
     "iopub.status.busy": "2021-06-13T09:32:52.132962Z",
     "iopub.status.idle": "2021-06-13T09:32:52.142162Z",
     "shell.execute_reply": "2021-06-13T09:32:52.141283Z",
     "shell.execute_reply.started": "2021-06-13T09:05:17.66038Z"
    },
    "papermill": {
     "duration": 0.075623,
     "end_time": "2021-06-13T09:32:52.142303",
     "exception": false,
     "start_time": "2021-06-13T09:32:52.066680",
     "status": "completed"
    },
    "tags": []
   },
   "outputs": [],
   "source": [
    "sample_submission_path = '../input/coleridgeinitiative-show-us-the-data/sample_submission.csv'\n",
    "sample_submission = pd.read_csv(sample_submission_path)\n",
    "paper_test_folder = '../input/coleridgeinitiative-show-us-the-data/test'\n",
    "for paper_id in sample_submission['Id']:\n",
    "    with open(f'{paper_test_folder}/{paper_id}.json', 'r') as f:\n",
    "        paper = json.load(f)\n",
    "        papers[paper_id] = paper"
   ]
  },
  {
   "cell_type": "code",
   "execution_count": 12,
   "metadata": {
    "execution": {
     "iopub.execute_input": "2021-06-13T09:32:52.266232Z",
     "iopub.status.busy": "2021-06-13T09:32:52.265099Z",
     "iopub.status.idle": "2021-06-13T09:32:52.547283Z",
     "shell.execute_reply": "2021-06-13T09:32:52.546054Z",
     "shell.execute_reply.started": "2021-06-13T09:05:17.682686Z"
    },
    "papermill": {
     "duration": 0.347951,
     "end_time": "2021-06-13T09:32:52.547432",
     "exception": false,
     "start_time": "2021-06-13T09:32:52.199481",
     "status": "completed"
    },
    "tags": []
   },
   "outputs": [
    {
     "name": "stdout",
     "output_type": "stream",
     "text": [
      "No. different labels: 12230\n"
     ]
    }
   ],
   "source": [
    "all_labels = set()\n",
    "\n",
    "for label_1, label_2, label_3 in train[['dataset_title', 'dataset_label', 'cleaned_label']].itertuples(index=False):\n",
    "    all_labels.add(str(label_1).lower())\n",
    "    all_labels.add(str(label_2).lower())\n",
    "    all_labels.add(str(label_3).lower())\n",
    "\n",
    "adnl_govt_labels = pd.read_csv(adnl_govt_labels_path)\n",
    "\n",
    "for l in adnl_govt_labels.title:\n",
    "    \n",
    "    if (len(l.split()) > 3):\n",
    "        all_labels.add(l.lower())\n",
    "        all_labels.add(l)\n",
    "        all_labels.add(clean_paper_sentence(l))\n",
    "    \n",
    "    \n",
    "all_labels = set(all_labels)\n",
    "print(f'No. different labels: {len(all_labels)}')\n"
   ]
  },
  {
   "cell_type": "markdown",
   "metadata": {
    "papermill": {
     "duration": 0.056614,
     "end_time": "2021-06-13T09:32:52.662170",
     "exception": false,
     "start_time": "2021-06-13T09:32:52.605556",
     "status": "completed"
    },
    "tags": []
   },
   "source": [
    "# 6. NER with BERT\n",
    "\n",
    "Here we apply NER on the pretrained model."
   ]
  },
  {
   "cell_type": "code",
   "execution_count": 13,
   "metadata": {
    "execution": {
     "iopub.execute_input": "2021-06-13T09:32:52.895412Z",
     "iopub.status.busy": "2021-06-13T09:32:52.894430Z",
     "iopub.status.idle": "2021-06-13T09:32:52.897869Z",
     "shell.execute_reply": "2021-06-13T09:32:52.897326Z",
     "shell.execute_reply.started": "2021-06-13T09:05:17.955977Z"
    },
    "papermill": {
     "duration": 0.066387,
     "end_time": "2021-06-13T09:32:52.898075",
     "exception": false,
     "start_time": "2021-06-13T09:32:52.831688",
     "status": "completed"
    },
    "tags": []
   },
   "outputs": [],
   "source": [
    "def clean_text(txt):\n",
    "    return re.sub('[^A-Za-z0-9]+', ' ', str(txt).lower()).strip()\n",
    "\n",
    "def totally_clean_text(txt):\n",
    "    txt = clean_text(txt)\n",
    "    txt = re.sub(' +', ' ', txt)\n",
    "    return txt"
   ]
  },
  {
   "cell_type": "markdown",
   "metadata": {
    "papermill": {
     "duration": 0.056555,
     "end_time": "2021-06-13T09:32:53.011260",
     "exception": false,
     "start_time": "2021-06-13T09:32:52.954705",
     "status": "completed"
    },
    "tags": []
   },
   "source": [
    "## 6.1. Apply  Literal matching\n",
    "\n",
    "After we have created the knowledgebank, we can now apply our literal matches by looping over the papers and see wheter the text contains a label out of the knowledgebank."
   ]
  },
  {
   "cell_type": "code",
   "execution_count": 14,
   "metadata": {
    "execution": {
     "iopub.execute_input": "2021-06-13T09:32:53.133709Z",
     "iopub.status.busy": "2021-06-13T09:32:53.133042Z",
     "iopub.status.idle": "2021-06-13T09:33:31.867584Z",
     "shell.execute_reply": "2021-06-13T09:33:31.866569Z",
     "shell.execute_reply.started": "2021-06-13T09:05:17.96935Z"
    },
    "papermill": {
     "duration": 38.799804,
     "end_time": "2021-06-13T09:33:31.867746",
     "exception": false,
     "start_time": "2021-06-13T09:32:53.067942",
     "status": "completed"
    },
    "tags": []
   },
   "outputs": [],
   "source": [
    "literal_preds = []\n",
    "\n",
    "if(not computeFBeta):\n",
    "    for paper_id in sample_submission['Id']:\n",
    "        paper = papers[paper_id]\n",
    "        text_1 = '. '.join(section['text'] for section in paper).lower()\n",
    "        text_2 = totally_clean_text(text_1)\n",
    "\n",
    "        labels = set()\n",
    "        for label in all_labels:\n",
    "            if label in text_1 or label in text_2:\n",
    "                labels.add(clean_text(label))\n",
    "\n",
    "        literal_preds.append('|'.join(labels))\n",
    "else:\n",
    "      first_100_papers = sorted(os.listdir(path_train))[0:100]\n",
    "  \n",
    "      for papername in first_100_papers:\n",
    "        with open(f'{path_train}{papername}', 'r') as f:\n",
    "            paper = json.load(f)\n",
    "       \n",
    "        text_1 = '. '.join(section['text'] for section in paper).lower()\n",
    "        text_2 = totally_clean_text(text_1)\n",
    "\n",
    "        labels = set()\n",
    "        for label in all_labels:\n",
    "            if label in text_1 or label in text_2:\n",
    "                labels.add(clean_text(label))\n",
    "\n",
    "        literal_preds.append('|'.join(labels))"
   ]
  },
  {
   "cell_type": "code",
   "execution_count": 15,
   "metadata": {
    "execution": {
     "iopub.execute_input": "2021-06-13T09:33:31.985855Z",
     "iopub.status.busy": "2021-06-13T09:33:31.984724Z",
     "iopub.status.idle": "2021-06-13T09:33:31.989830Z",
     "shell.execute_reply": "2021-06-13T09:33:31.989278Z",
     "shell.execute_reply.started": "2021-06-13T09:05:55.596827Z"
    },
    "papermill": {
     "duration": 0.067036,
     "end_time": "2021-06-13T09:33:31.989990",
     "exception": false,
     "start_time": "2021-06-13T09:33:31.922954",
     "status": "completed"
    },
    "tags": []
   },
   "outputs": [
    {
     "data": {
      "text/plain": [
       "['program for the international assessment of adult competencies',\n",
       " 'trends in international mathematics and science study',\n",
       " 'agricultural resources management survey',\n",
       " 'adni|alzheimer s disease neuroimaging initiative adni',\n",
       " 'genome sequence of covid 19']"
      ]
     },
     "execution_count": 15,
     "metadata": {},
     "output_type": "execute_result"
    }
   ],
   "source": [
    "literal_preds[:5]"
   ]
  },
  {
   "cell_type": "markdown",
   "metadata": {},
   "source": [
    "## 6.2. Preprocess test data\n",
    "\n",
    "After applying literal matching, we preprocess our test data by applying the same basic NLP techniques to our test data. Furthermore, to make the input suitable for BERT, dummy tags are added.\n"
   ]
  },
  {
   "cell_type": "code",
   "execution_count": 16,
   "metadata": {
    "execution": {
     "iopub.execute_input": "2021-06-13T09:33:32.111924Z",
     "iopub.status.busy": "2021-06-13T09:33:32.110756Z",
     "iopub.status.idle": "2021-06-13T09:33:32.550187Z",
     "shell.execute_reply": "2021-06-13T09:33:32.549592Z",
     "shell.execute_reply.started": "2021-06-13T09:05:55.607366Z"
    },
    "papermill": {
     "duration": 0.502743,
     "end_time": "2021-06-13T09:33:32.550338",
     "exception": false,
     "start_time": "2021-06-13T09:33:32.047595",
     "status": "completed"
    },
    "tags": []
   },
   "outputs": [
    {
     "name": "stdout",
     "output_type": "stream",
     "text": [
      "No. grouped training rows: 14316\n"
     ]
    }
   ],
   "source": [
    "train = train.groupby('Id').agg({\n",
    "    'pub_title': 'first',\n",
    "    'dataset_title': '|'.join,\n",
    "    'dataset_label': '|'.join,\n",
    "    'cleaned_label': '|'.join\n",
    "}).reset_index()\n",
    "\n",
    "print(f'No. grouped training rows: {len(train)}')"
   ]
  },
  {
   "cell_type": "code",
   "execution_count": 17,
   "metadata": {
    "execution": {
     "iopub.execute_input": "2021-06-13T09:33:32.671715Z",
     "iopub.status.busy": "2021-06-13T09:33:32.670796Z",
     "iopub.status.idle": "2021-06-13T09:33:32.674880Z",
     "shell.execute_reply": "2021-06-13T09:33:32.674258Z",
     "shell.execute_reply.started": "2021-06-13T09:05:56.038963Z"
    },
    "papermill": {
     "duration": 0.067595,
     "end_time": "2021-06-13T09:33:32.675063",
     "exception": false,
     "start_time": "2021-06-13T09:33:32.607468",
     "status": "completed"
    },
    "tags": []
   },
   "outputs": [],
   "source": [
    "def clean_training_text(txt):\n",
    "    \"\"\"\n",
    "    similar to the default clean_text function but without lowercasing.\n",
    "    \"\"\"\n",
    "    return re.sub('[^A-Za-z0-9]+', ' ', str(txt)).strip()\n",
    "\n",
    "def shorten_sentences(sentences):\n",
    "    short_sentences = []\n",
    "    for sentence in sentences:\n",
    "        words = sentence.split()\n",
    "        if len(words) > MAX_LENGTH:\n",
    "            for p in range(0, len(words), MAX_LENGTH - OVERLAP):\n",
    "                short_sentences.append(' '.join(words[p:p+MAX_LENGTH]))\n",
    "        else:\n",
    "            short_sentences.append(sentence)\n",
    "    return short_sentences"
   ]
  },
  {
   "cell_type": "code",
   "execution_count": 18,
   "metadata": {
    "execution": {
     "iopub.execute_input": "2021-06-13T09:33:32.804134Z",
     "iopub.status.busy": "2021-06-13T09:33:32.803139Z",
     "iopub.status.idle": "2021-06-13T09:33:32.806392Z",
     "shell.execute_reply": "2021-06-13T09:33:32.806942Z",
     "shell.execute_reply.started": "2021-06-13T09:05:56.050877Z"
    },
    "papermill": {
     "duration": 0.074588,
     "end_time": "2021-06-13T09:33:32.807175",
     "exception": false,
     "start_time": "2021-06-13T09:33:32.732587",
     "status": "completed"
    },
    "tags": []
   },
   "outputs": [],
   "source": [
    "def preprocess_test_ner():\n",
    "    test_rows = [] # test data in NER format\n",
    "    paper_lengths = []\n",
    "\n",
    "    for paper_id in sample_submission['Id']:\n",
    "       \n",
    "        paper = papers[paper_id]\n",
    "        \n",
    "        sentences = [clean_training_text(sentence) for section in paper \n",
    "                 for sentence in section['text'].split('.')\n",
    "                ]\n",
    "        #The author of this code does this, but I am not sure if this is necessary\n",
    "        sentences = [sentence for sentence in sentences if len(sentence) > 10] # only accept sentences with length > 10 chars\n",
    "        sentences = [sentence for sentence in sentences if any(word in sentence.lower() for word in ['data', 'study'])]\n",
    "        \n",
    "        #Add NER-labels to each token of each sentence\n",
    "        for sentence in sentences:\n",
    "            \n",
    "            tokens = sentence.split()\n",
    "            dummy_tags = ['O'] * len(tokens)\n",
    "            \n",
    "            test_rows.append({'tokens' : tokens, 'tags' : dummy_tags, 'id': paper_id})\n",
    "        paper_lengths.append(len(sentences))\n",
    "    \n",
    "\n",
    "\n",
    "    return test_rows, paper_lengths\n",
    "\n",
    "def preprocess_test_validation():\n",
    "    #For testing purposes\n",
    "    test_rows = [] # test data in NER format\n",
    "    paper_lengths = []\n",
    "    ids = []\n",
    "\n",
    "    first_100_papers = sorted(os.listdir(path_train))[0:100]\n",
    "  \n",
    "    for papername in first_100_papers:\n",
    "        ids.append(papername[:-5])\n",
    "        with open(f'{path_train}{papername}', 'r') as f:\n",
    "            paper = json.load(f)\n",
    "          \n",
    "            #print(paper[\"id\"])\n",
    "            sentences = [clean_training_text(sentence) for section in paper \n",
    "                     for sentence in section['text'].split('.')\n",
    "                    ]\n",
    "            #The author of this code does this, but I am not sure if this is necessary\n",
    "            sentences = [sentence for sentence in sentences if len(sentence) > 10] # only accept sentences with length > 10 chars\n",
    "            sentences = [sentence for sentence in sentences if any(word in sentence.lower() for word in ['data', 'study'])]\n",
    "\n",
    "            #Add NER-labels to each token of each sentence\n",
    "            for sentence in sentences:\n",
    "\n",
    "                tokens = sentence.split()\n",
    "                dummy_tags = ['O'] * len(tokens)\n",
    "\n",
    "                test_rows.append({'tokens' : tokens, 'tags' : dummy_tags, 'id': paper_id})\n",
    "            paper_lengths.append(len(sentences))\n",
    "    return test_rows, paper_lengths, ids\n",
    "  \n",
    "        "
   ]
  },
  {
   "cell_type": "markdown",
   "metadata": {
    "papermill": {
     "duration": 0.055353,
     "end_time": "2021-06-13T09:33:32.917306",
     "exception": false,
     "start_time": "2021-06-13T09:33:32.861953",
     "status": "completed"
    },
    "tags": []
   },
   "source": []
  },
  {
   "cell_type": "code",
   "execution_count": 19,
   "metadata": {
    "execution": {
     "iopub.execute_input": "2021-06-13T09:33:33.034090Z",
     "iopub.status.busy": "2021-06-13T09:33:33.033462Z",
     "iopub.status.idle": "2021-06-13T09:33:33.567590Z",
     "shell.execute_reply": "2021-06-13T09:33:33.566457Z",
     "shell.execute_reply.started": "2021-06-13T09:05:56.072556Z"
    },
    "papermill": {
     "duration": 0.594974,
     "end_time": "2021-06-13T09:33:33.567756",
     "exception": false,
     "start_time": "2021-06-13T09:33:32.972782",
     "status": "completed"
    },
    "tags": []
   },
   "outputs": [
    {
     "name": "stdout",
     "output_type": "stream",
     "text": [
      "3079\n",
      "[{'tokens': ['The', 'aim', 'of', 'this', 'study', 'was', 'to', 'identify', 'if', 'acquiring', 'ICT', 'skills', 'through', 'DOT', 'Lebanon', 's', 'ICT', 'training', 'program', 'a', 'local', 'NGO', 'improved', 'income', 'generation', 'opportunities', 'after', '3', 'months', 'of', 'completing', 'the', 'training'], 'tags': ['O', 'O', 'O', 'O', 'O', 'O', 'O', 'O', 'O', 'O', 'O', 'O', 'O', 'O', 'O', 'O', 'O', 'O', 'O', 'O', 'O', 'O', 'O', 'O', 'O', 'O', 'O', 'O', 'O', 'O', 'O', 'O', 'O'], 'id': '8e6996b4-ca08-4c0b-bed2-aaf07a4c6a60'}, {'tokens': ['This', 'study', 'was', 'completed', 'in', 'an', 'effort', 'to', 'find', 'creative', 'and', 'digital', 'solutions', 'to', 'the', 'high', 'rate', 'of', 'youth', 'unemployment', 'in', 'Lebanon', '37', 'one', 'of', 'the', 'highest', 'rates', 'in', 'the', 'world'], 'tags': ['O', 'O', 'O', 'O', 'O', 'O', 'O', 'O', 'O', 'O', 'O', 'O', 'O', 'O', 'O', 'O', 'O', 'O', 'O', 'O', 'O', 'O', 'O', 'O', 'O', 'O', 'O', 'O', 'O', 'O', 'O'], 'id': '8e6996b4-ca08-4c0b-bed2-aaf07a4c6a60'}, {'tokens': ['According', 'to', 'a', 'study', 'completed', 'by', 'UNDP', '2016', '96', 'of', 'semi', 'skilled', 'workers', 'in', 'the', 'Agro', 'food', 'industry', 'suffer', 'from', 'basic', 'ICT', 'skills', 'weaknesses', '89'], 'tags': ['O', 'O', 'O', 'O', 'O', 'O', 'O', 'O', 'O', 'O', 'O', 'O', 'O', 'O', 'O', 'O', 'O', 'O', 'O', 'O', 'O', 'O', 'O', 'O', 'O'], 'id': '8e6996b4-ca08-4c0b-bed2-aaf07a4c6a60'}, {'tokens': ['The', 'subject', 'of', 'this', 'study', 'was', 'one', 'of', 'DOT', 'Lebanon', 's', 'programs', 'Digital', 'Media', 'Literacy', 'Program', 'DML', 'a', '2', 'level', 'digital', 'youth', 'training', 'program', 'delivered', 'in', '14', 'different', 'centers', 'across', 'Lebanon'], 'tags': ['O', 'O', 'O', 'O', 'O', 'O', 'O', 'O', 'O', 'O', 'O', 'O', 'O', 'O', 'O', 'O', 'O', 'O', 'O', 'O', 'O', 'O', 'O', 'O', 'O', 'O', 'O', 'O', 'O', 'O', 'O'], 'id': '8e6996b4-ca08-4c0b-bed2-aaf07a4c6a60'}, {'tokens': ['The', 'aim', 'of', 'this', 'study', 'was', 'to', 'identify', 'if', 'acquiring', 'ICT', 'skills', 'through', 'DOT', 'Lebanon', 's', 'ICT', 'training', 'program', 'improved', 'income', 'generation', 'opportunities', 'after', '3', 'months', 'for', 'DOT', 'Lebanon', 's', 'beneficiaries', 'enrolled', 'in', 'the', 'training', 'from', 'February', '2018', 'till', 'September', '2018'], 'tags': ['O', 'O', 'O', 'O', 'O', 'O', 'O', 'O', 'O', 'O', 'O', 'O', 'O', 'O', 'O', 'O', 'O', 'O', 'O', 'O', 'O', 'O', 'O', 'O', 'O', 'O', 'O', 'O', 'O', 'O', 'O', 'O', 'O', 'O', 'O', 'O', 'O', 'O', 'O', 'O', 'O'], 'id': '8e6996b4-ca08-4c0b-bed2-aaf07a4c6a60'}]\n"
     ]
    }
   ],
   "source": [
    "\n",
    "if(not computeFBeta):\n",
    "    test_rows, paper_lengths = preprocess_test_ner()\n",
    "else:\n",
    "    test_rows, paper_lengths, validationIds = preprocess_test_validation()\n",
    "    \n",
    "print(len(test_rows))\n",
    "print(test_rows[0:5])"
   ]
  },
  {
   "cell_type": "markdown",
   "metadata": {
    "papermill": {
     "duration": 0.056298,
     "end_time": "2021-06-13T09:33:33.680743",
     "exception": false,
     "start_time": "2021-06-13T09:33:33.624445",
     "status": "completed"
    },
    "tags": []
   },
   "source": [
    "## 6.3. Predict with BERT\n",
    "\n",
    "Now we run the BERT model with the preloaded trained model on the test set and save the results in *bert\\_outputs*."
   ]
  },
  {
   "cell_type": "code",
   "execution_count": 20,
   "metadata": {
    "execution": {
     "iopub.execute_input": "2021-06-13T09:33:33.806679Z",
     "iopub.status.busy": "2021-06-13T09:33:33.805720Z",
     "iopub.status.idle": "2021-06-13T09:33:33.808955Z",
     "shell.execute_reply": "2021-06-13T09:33:33.809570Z",
     "shell.execute_reply.started": "2021-06-13T09:05:56.587328Z"
    },
    "papermill": {
     "duration": 0.071379,
     "end_time": "2021-06-13T09:33:33.809731",
     "exception": false,
     "start_time": "2021-06-13T09:33:33.738352",
     "status": "completed"
    },
    "tags": []
   },
   "outputs": [],
   "source": [
    "max_length = 64 # max no. words for each sentence.\n",
    "overlap = 20 # if a sentence exceeds MAX_LENGTH, we split it to multiple sentences with overlapping\n",
    "path_train_nerjson = '/kaggle/input/tdmsci/train_ner.json'\n",
    "pred_save_path = './pred'\n",
    "prediction_file = 'test_predictions.txt'\n",
    "test_input_save_path = './input_data'\n",
    "path_pretrained_scibert = '/kaggle/input/tdmsci/scibert/output' \n",
    "path_pretrained_bert =  '/kaggle/input/tdmsci/results/output' \n",
    "train_file = path_train_nerjson\n",
    "filename_test = 'test_ner_input.json'\n",
    "\n",
    "os.environ[\"MODEL_PATH\"] = f\"{path_pretrained_scibert}\"\n",
    "os.environ[\"TRAIN_FILE\"] = f\"{train_file}\"\n",
    "os.environ[\"VALIDATION_FILE\"] = f\"{train_file}\"\n",
    "os.environ[\"TEST_FILE\"] = f\"{test_input_save_path}/{filename_test}\"\n",
    "os.environ[\"OUTPUT_DIR\"] = f\"{pred_save_path}\"\n"
   ]
  },
  {
   "cell_type": "code",
   "execution_count": 21,
   "metadata": {
    "execution": {
     "iopub.execute_input": "2021-06-13T09:33:33.932039Z",
     "iopub.status.busy": "2021-06-13T09:33:33.931064Z",
     "iopub.status.idle": "2021-06-13T09:33:34.759220Z",
     "shell.execute_reply": "2021-06-13T09:33:34.758506Z",
     "shell.execute_reply.started": "2021-06-13T09:05:56.600471Z"
    },
    "papermill": {
     "duration": 0.891779,
     "end_time": "2021-06-13T09:33:34.759377",
     "exception": false,
     "start_time": "2021-06-13T09:33:33.867598",
     "status": "completed"
    },
    "tags": []
   },
   "outputs": [],
   "source": [
    "# copy my_seqeval.py to the working directory because the input directory is non-writable\n",
    "!cp /kaggle/input/coleridge-packages/my_seqeval.py ./\n",
    "os.makedirs(test_input_save_path, exist_ok=True)"
   ]
  },
  {
   "cell_type": "code",
   "execution_count": 22,
   "metadata": {
    "execution": {
     "iopub.execute_input": "2021-06-13T09:33:34.986180Z",
     "iopub.status.busy": "2021-06-13T09:33:34.984317Z",
     "iopub.status.idle": "2021-06-13T09:33:34.987211Z",
     "shell.execute_reply": "2021-06-13T09:33:34.985230Z",
     "shell.execute_reply.started": "2021-06-13T09:05:57.414884Z"
    },
    "papermill": {
     "duration": 0.133556,
     "end_time": "2021-06-13T09:33:34.987428",
     "exception": false,
     "start_time": "2021-06-13T09:33:34.853872",
     "status": "completed"
    },
    "tags": []
   },
   "outputs": [],
   "source": [
    "def predict_scibert_ner():\n",
    "    !python ../input/kaggle-ner-utils/kaggle_run_ner.py \\\n",
    "    --model_name_or_path \"$MODEL_PATH\" \\\n",
    "    --train_file \"$TRAIN_FILE\" \\\n",
    "    --validation_file \"$VALIDATION_FILE\" \\\n",
    "    --test_file \"$TEST_FILE\" \\\n",
    "    --output_dir \"$OUTPUT_DIR\" \\\n",
    "    --report_to 'none' \\\n",
    "    --seed 123 \\\n",
    "    --do_predict"
   ]
  },
  {
   "cell_type": "code",
   "execution_count": 24,
   "metadata": {
    "execution": {
     "iopub.execute_input": "2021-06-13T09:33:35.403159Z",
     "iopub.status.busy": "2021-06-13T09:33:35.402175Z",
     "iopub.status.idle": "2021-06-13T09:34:54.348342Z",
     "shell.execute_reply": "2021-06-13T09:34:54.347683Z",
     "shell.execute_reply.started": "2021-06-13T09:05:57.436688Z"
    },
    "papermill": {
     "duration": 79.054901,
     "end_time": "2021-06-13T09:34:54.348512",
     "exception": false,
     "start_time": "2021-06-13T09:33:35.293611",
     "status": "completed"
    },
    "tags": []
   },
   "outputs": [
    {
     "name": "stdout",
     "output_type": "stream",
     "text": [
      "3079\n",
      "rm: cannot remove './pred': No such file or directory\r\n",
      "2021-06-13 09:33:39.742308: I tensorflow/stream_executor/platform/default/dso_loader.cc:49] Successfully opened dynamic library libcudart.so.10.2\r\n",
      "Downloading and preparing dataset json/default (download: Unknown size, generated: Unknown size, post-processed: Unknown size, total: Unknown size) to /root/.cache/huggingface/datasets/json/default-3c03f9c9b0b394d7/0.0.0/83d5b3a2f62630efc6b5315f00f20209b4ad91a00ac586597caee3a4da0bef02...\r\n",
      "Dataset json downloaded and prepared to /root/.cache/huggingface/datasets/json/default-3c03f9c9b0b394d7/0.0.0/83d5b3a2f62630efc6b5315f00f20209b4ad91a00ac586597caee3a4da0bef02. Subsequent calls will reuse this data.\r\n",
      "[INFO|configuration_utils.py:470] 2021-06-13 09:34:09,129 >> loading configuration file /kaggle/input/tdmsci/scibert/output/config.json\r\n",
      "[INFO|configuration_utils.py:508] 2021-06-13 09:34:09,130 >> Model config BertConfig {\r\n",
      "  \"_name_or_path\": \"allenai/scibert_scivocab_cased\",\r\n",
      "  \"architectures\": [\r\n",
      "    \"BertForTokenClassification\"\r\n",
      "  ],\r\n",
      "  \"attention_probs_dropout_prob\": 0.1,\r\n",
      "  \"finetuning_task\": \"ner\",\r\n",
      "  \"gradient_checkpointing\": false,\r\n",
      "  \"hidden_act\": \"gelu\",\r\n",
      "  \"hidden_dropout_prob\": 0.1,\r\n",
      "  \"hidden_size\": 768,\r\n",
      "  \"id2label\": {\r\n",
      "    \"0\": \"LABEL_0\",\r\n",
      "    \"1\": \"LABEL_1\",\r\n",
      "    \"2\": \"LABEL_2\"\r\n",
      "  },\r\n",
      "  \"initializer_range\": 0.02,\r\n",
      "  \"intermediate_size\": 3072,\r\n",
      "  \"label2id\": {\r\n",
      "    \"LABEL_0\": 0,\r\n",
      "    \"LABEL_1\": 1,\r\n",
      "    \"LABEL_2\": 2\r\n",
      "  },\r\n",
      "  \"layer_norm_eps\": 1e-12,\r\n",
      "  \"max_position_embeddings\": 512,\r\n",
      "  \"model_type\": \"bert\",\r\n",
      "  \"num_attention_heads\": 12,\r\n",
      "  \"num_hidden_layers\": 12,\r\n",
      "  \"pad_token_id\": 0,\r\n",
      "  \"position_embedding_type\": \"absolute\",\r\n",
      "  \"transformers_version\": \"4.5.0.dev0\",\r\n",
      "  \"type_vocab_size\": 2,\r\n",
      "  \"use_cache\": true,\r\n",
      "  \"vocab_size\": 31116\r\n",
      "}\r\n",
      "\r\n",
      "[INFO|configuration_utils.py:470] 2021-06-13 09:34:09,131 >> loading configuration file /kaggle/input/tdmsci/scibert/output/config.json\r\n",
      "[INFO|configuration_utils.py:508] 2021-06-13 09:34:09,132 >> Model config BertConfig {\r\n",
      "  \"_name_or_path\": \"allenai/scibert_scivocab_cased\",\r\n",
      "  \"architectures\": [\r\n",
      "    \"BertForTokenClassification\"\r\n",
      "  ],\r\n",
      "  \"attention_probs_dropout_prob\": 0.1,\r\n",
      "  \"finetuning_task\": \"ner\",\r\n",
      "  \"gradient_checkpointing\": false,\r\n",
      "  \"hidden_act\": \"gelu\",\r\n",
      "  \"hidden_dropout_prob\": 0.1,\r\n",
      "  \"hidden_size\": 768,\r\n",
      "  \"id2label\": {\r\n",
      "    \"0\": \"LABEL_0\",\r\n",
      "    \"1\": \"LABEL_1\",\r\n",
      "    \"2\": \"LABEL_2\"\r\n",
      "  },\r\n",
      "  \"initializer_range\": 0.02,\r\n",
      "  \"intermediate_size\": 3072,\r\n",
      "  \"label2id\": {\r\n",
      "    \"LABEL_0\": 0,\r\n",
      "    \"LABEL_1\": 1,\r\n",
      "    \"LABEL_2\": 2\r\n",
      "  },\r\n",
      "  \"layer_norm_eps\": 1e-12,\r\n",
      "  \"max_position_embeddings\": 512,\r\n",
      "  \"model_type\": \"bert\",\r\n",
      "  \"num_attention_heads\": 12,\r\n",
      "  \"num_hidden_layers\": 12,\r\n",
      "  \"pad_token_id\": 0,\r\n",
      "  \"position_embedding_type\": \"absolute\",\r\n",
      "  \"transformers_version\": \"4.5.0.dev0\",\r\n",
      "  \"type_vocab_size\": 2,\r\n",
      "  \"use_cache\": true,\r\n",
      "  \"vocab_size\": 31116\r\n",
      "}\r\n",
      "\r\n",
      "[INFO|tokenization_utils_base.py:1637] 2021-06-13 09:34:09,135 >> Didn't find file /kaggle/input/tdmsci/scibert/output/tokenizer.json. We won't load it.\r\n",
      "[INFO|tokenization_utils_base.py:1637] 2021-06-13 09:34:09,142 >> Didn't find file /kaggle/input/tdmsci/scibert/output/added_tokens.json. We won't load it.\r\n",
      "[INFO|tokenization_utils_base.py:1700] 2021-06-13 09:34:09,147 >> loading file /kaggle/input/tdmsci/scibert/output/vocab.txt\r\n",
      "[INFO|tokenization_utils_base.py:1700] 2021-06-13 09:34:09,147 >> loading file None\r\n",
      "[INFO|tokenization_utils_base.py:1700] 2021-06-13 09:34:09,147 >> loading file None\r\n",
      "[INFO|tokenization_utils_base.py:1700] 2021-06-13 09:34:09,147 >> loading file /kaggle/input/tdmsci/scibert/output/special_tokens_map.json\r\n",
      "[INFO|tokenization_utils_base.py:1700] 2021-06-13 09:34:09,147 >> loading file /kaggle/input/tdmsci/scibert/output/tokenizer_config.json\r\n",
      "[INFO|modeling_utils.py:1049] 2021-06-13 09:34:09,275 >> loading weights file /kaggle/input/tdmsci/scibert/output/pytorch_model.bin\r\n",
      "[INFO|modeling_utils.py:1167] 2021-06-13 09:34:17,510 >> All model checkpoint weights were used when initializing BertForTokenClassification.\r\n",
      "\r\n",
      "[INFO|modeling_utils.py:1176] 2021-06-13 09:34:17,510 >> All the weights of BertForTokenClassification were initialized from the model checkpoint at /kaggle/input/tdmsci/scibert/output.\r\n",
      "If your task is similar to the task the model of the checkpoint was trained on, you can already use BertForTokenClassification for predictions without further training.\r\n",
      "[WARNING|tokenization_utils_base.py:2137] 2021-06-13 09:34:17,511 >> Asking to truncate to max_length but no maximum length is provided and the model has no predefined maximum length. Default to no truncation.\r\n",
      "100%|█████████████████████████████████████████████| 4/4 [00:01<00:00,  3.45ba/s]\r\n",
      "[INFO|trainer.py:485] 2021-06-13 09:34:27,166 >> The following columns in the test set  don't have a corresponding argument in `BertForTokenClassification.forward` and have been ignored: id, tokens, tags.\r\n",
      "[INFO|trainer.py:1817] 2021-06-13 09:34:27,168 >> ***** Running Prediction *****\r\n",
      "[INFO|trainer.py:1818] 2021-06-13 09:34:27,168 >>   Num examples = 3079\r\n",
      "[INFO|trainer.py:1819] 2021-06-13 09:34:27,168 >>   Batch size = 8\r\n",
      "100%|█████████████████████████████████████████| 385/385 [00:20<00:00, 18.83it/s]/opt/conda/lib/python3.7/site-packages/seqeval/metrics/v1.py:57: UndefinedMetricWarning: Recall and F-score are ill-defined and being set to 0.0 due to no true samples. Use `zero_division` parameter to control this behavior.\r\n",
      "  _warn_prf(average, modifier, msg_start, len(result))\r\n",
      "[INFO|trainer_pt_utils.py:735] 2021-06-13 09:34:53,186 >> ***** test metrics *****\r\n",
      "[INFO|trainer_pt_utils.py:740] 2021-06-13 09:34:53,187 >>   init_mem_cpu_alloc_delta  =     1571MB\r\n",
      "[INFO|trainer_pt_utils.py:740] 2021-06-13 09:34:53,187 >>   init_mem_cpu_peaked_delta =      306MB\r\n",
      "[INFO|trainer_pt_utils.py:740] 2021-06-13 09:34:53,187 >>   init_mem_gpu_alloc_delta  =      418MB\r\n",
      "[INFO|trainer_pt_utils.py:740] 2021-06-13 09:34:53,187 >>   init_mem_gpu_peaked_delta =        0MB\r\n",
      "[INFO|trainer_pt_utils.py:740] 2021-06-13 09:34:53,187 >>   test_accuracy             =     0.9939\r\n",
      "[INFO|trainer_pt_utils.py:740] 2021-06-13 09:34:53,187 >>   test_f1                   =        0.0\r\n",
      "[INFO|trainer_pt_utils.py:740] 2021-06-13 09:34:53,187 >>   test_loss                 =     0.0308\r\n",
      "[INFO|trainer_pt_utils.py:740] 2021-06-13 09:34:53,187 >>   test_mem_cpu_alloc_delta  =      104MB\r\n",
      "[INFO|trainer_pt_utils.py:740] 2021-06-13 09:34:53,187 >>   test_mem_cpu_peaked_delta =        1MB\r\n",
      "[INFO|trainer_pt_utils.py:740] 2021-06-13 09:34:53,188 >>   test_mem_gpu_alloc_delta  =        0MB\r\n",
      "[INFO|trainer_pt_utils.py:740] 2021-06-13 09:34:53,188 >>   test_mem_gpu_peaked_delta =       75MB\r\n",
      "[INFO|trainer_pt_utils.py:740] 2021-06-13 09:34:53,188 >>   test_precision            =        0.0\r\n",
      "[INFO|trainer_pt_utils.py:740] 2021-06-13 09:34:53,188 >>   test_recall               =        0.0\r\n",
      "[INFO|trainer_pt_utils.py:740] 2021-06-13 09:34:53,188 >>   test_runtime              = 0:00:25.34\r\n",
      "[INFO|trainer_pt_utils.py:740] 2021-06-13 09:34:53,188 >>   test_samples_per_second   =    121.491\r\n",
      "100%|█████████████████████████████████████████| 385/385 [00:25<00:00, 15.29it/s]\r\n"
     ]
    }
   ],
   "source": [
    "bert_outputs = []\n",
    "batch_size = 64000\n",
    "\n",
    "for batch_begin in range(0, len(test_rows), batch_size):#len(test_rows), batch_size):\n",
    "    print(len(test_rows))\n",
    "    # write data rows to input file\n",
    "    with open(f\"{test_input_save_path}/{filename_test}\", 'w') as f:\n",
    "        for row in test_rows[batch_begin:batch_begin+batch_size]:\n",
    "            json.dump(row, f)\n",
    "            f.write('\\n')\n",
    "            \n",
    "    with open(f\"{test_input_save_path}/{filename_test}\", 'r') as f:\n",
    "        content = f.read()\n",
    "        \n",
    "    # remove output dir\n",
    "    !rm -r \"$OUTPUT_DIR\"\n",
    "    \n",
    "    # do predict\n",
    "    predict_scibert_ner()\n",
    "    \n",
    "    # read predictions\n",
    "    with open(f'{pred_save_path}/{prediction_file}') as f:\n",
    "        this_preds = f.read().split('\\n')[:-1]\n",
    "        bert_outputs += [pred.split() for pred in this_preds]"
   ]
  },
  {
   "cell_type": "markdown",
   "metadata": {
    "papermill": {
     "duration": 0.123308,
     "end_time": "2021-06-13T09:34:54.845280",
     "exception": false,
     "start_time": "2021-06-13T09:34:54.721972",
     "status": "completed"
    },
    "tags": []
   },
   "source": [
    "## 6.4. Restore labels\n",
    "After prediction, we need to restore the labels to actual words, with the use of the earleir defined paper lengths"
   ]
  },
  {
   "cell_type": "code",
   "execution_count": 26,
   "metadata": {
    "execution": {
     "iopub.execute_input": "2021-06-13T09:34:55.119814Z",
     "iopub.status.busy": "2021-06-13T09:34:55.105930Z",
     "iopub.status.idle": "2021-06-13T09:34:55.143792Z",
     "shell.execute_reply": "2021-06-13T09:34:55.144591Z",
     "shell.execute_reply.started": "2021-06-13T09:07:16.768132Z"
    },
    "papermill": {
     "duration": 0.175206,
     "end_time": "2021-06-13T09:34:55.144833",
     "exception": false,
     "start_time": "2021-06-13T09:34:54.969627",
     "status": "completed"
    },
    "tags": []
   },
   "outputs": [
    {
     "name": "stdout",
     "output_type": "stream",
     "text": [
      "14\n",
      "38\n",
      "46\n",
      "61\n",
      "2\n",
      "26\n",
      "41\n",
      "29\n",
      "43\n",
      "14\n",
      "38\n",
      "56\n",
      "40\n",
      "25\n",
      "6\n",
      "19\n",
      "43\n",
      "38\n",
      "20\n",
      "15\n",
      "25\n",
      "41\n",
      "6\n",
      "24\n",
      "22\n",
      "16\n",
      "19\n",
      "16\n",
      "62\n",
      "31\n",
      "28\n",
      "18\n",
      "27\n",
      "5\n",
      "28\n",
      "26\n",
      "36\n",
      "24\n",
      "14\n",
      "23\n",
      "14\n",
      "42\n",
      "24\n",
      "21\n",
      "89\n",
      "36\n",
      "65\n",
      "30\n",
      "21\n",
      "31\n",
      "96\n",
      "21\n",
      "42\n",
      "2\n",
      "1\n",
      "47\n",
      "15\n",
      "47\n",
      "36\n",
      "13\n",
      "106\n",
      "11\n",
      "10\n",
      "35\n",
      "26\n",
      "53\n",
      "23\n",
      "28\n",
      "26\n",
      "41\n",
      "45\n",
      "28\n",
      "8\n",
      "11\n",
      "15\n",
      "26\n",
      "33\n",
      "33\n",
      "31\n",
      "21\n",
      "22\n",
      "13\n",
      "10\n",
      "7\n",
      "23\n",
      "1\n",
      "7\n",
      "48\n",
      "28\n",
      "21\n",
      "10\n",
      "45\n",
      "38\n",
      "71\n",
      "41\n",
      "23\n",
      "12\n",
      "200\n",
      "27\n",
      "24\n"
     ]
    }
   ],
   "source": [
    "\n",
    "test_sentences = [row['tokens'] for row in test_rows]\n",
    "#del test_rows\n",
    "\n",
    "bert_dataset_labels = [] # store all dataset labels for each publication\n",
    "\n",
    "for length in paper_lengths:\n",
    "    print(length)\n",
    "    labels = set()\n",
    "    for sentence, pred in zip(test_sentences[:length], bert_outputs[:length]):\n",
    "        curr_phrase = ''\n",
    "        for word, tag in zip(sentence, pred):\n",
    "            if tag == 'B-DATASET': # start a new phrase\n",
    "                if curr_phrase:\n",
    "                    labels.add(curr_phrase)\n",
    "                    curr_phrase = ''\n",
    "                curr_phrase = word\n",
    "            elif tag == 'I-DATASET' and curr_phrase: # continue the phrase\n",
    "                curr_phrase += ' ' + word\n",
    "            else: # end last phrase (if any)\n",
    "                if curr_phrase:\n",
    "                    labels.add(curr_phrase)\n",
    "                    curr_phrase = ''\n",
    "        # check if the label is the suffix of the sentence\n",
    "        if curr_phrase:\n",
    "            labels.add(curr_phrase)\n",
    "            curr_phrase = ''\n",
    "    \n",
    "    # record dataset labels for this publication\n",
    "    bert_dataset_labels.append(labels)\n",
    "    \n",
    "    del test_sentences[:length], bert_outputs[:length]\n",
    "#print(len(bert_outputs))\n",
    "\n",
    "# def getTags(sentences, preds):\n",
    "#     labels = []\n",
    "#     dataset = \"\"\n",
    "\n",
    "#     for sentence, preds in zip(sentences, preds):\n",
    "#         dataset = \"\"\n",
    "\n",
    "#         for word, tag in zip(sentence.split(), preds):\n",
    "#             #print(\"Word:{}, tag:{}\".format(word,tag) )\n",
    "#             if(tag == \"B-DATASET\"):\n",
    "#                 dataset += tag + ' '\n",
    "#             elif (tag == \"I-DATASET\" and dataset != \"\"):\n",
    "#                 print(\"dfsdfdsf\")\n",
    "#                 dataset += tag + ' '\n",
    "#             elif(tag != \"B-DATSET\" and tag != \"I-DATASET\" and dataset != \"\"):\n",
    "#                 labels.append(dataset)\n",
    "#                 dataset= \"\"\n",
    "    \n",
    "#     if(dataset ==\"\"):\n",
    "#         labels.append(\"\")\n",
    "#     return (\"|\".join(labels))\n",
    "            \n",
    "    \n",
    "# def restoreLabels(predictions, test_df):\n",
    "#     test_sentences_papers = test_df[\"Sentences\"]\n",
    "#     ids = test_df[\"Id\"]\n",
    "#     startIndex = 0\n",
    "    \n",
    "#     acc = 0\n",
    "#     predictionStrings = []\n",
    "#     for paper_i in range(len(test_sentences_papers)):\n",
    "#         length = len(test_sentences_papers[paper_i])\n",
    "#         paper_id = ids[paper_i]\n",
    "#         predictions_paper = predictions[startIndex:startIndex+length]\n",
    "#         labels = getTags(test_sentences_papers[paper_i], predictions_paper)\n",
    "#         predictionStrings.append(labels)\n",
    "#         startIndex += length\n",
    "#         acc += 1\n",
    "#     return predictionStrings\n",
    "      \n",
    "\n"
   ]
  },
  {
   "cell_type": "code",
   "execution_count": 27,
   "metadata": {
    "execution": {
     "iopub.execute_input": "2021-06-13T09:34:55.396252Z",
     "iopub.status.busy": "2021-06-13T09:34:55.395174Z",
     "iopub.status.idle": "2021-06-13T09:34:55.400495Z",
     "shell.execute_reply": "2021-06-13T09:34:55.399892Z",
     "shell.execute_reply.started": "2021-06-13T09:07:16.825324Z"
    },
    "papermill": {
     "duration": 0.130106,
     "end_time": "2021-06-13T09:34:55.400623",
     "exception": false,
     "start_time": "2021-06-13T09:34:55.270517",
     "status": "completed"
    },
    "tags": []
   },
   "outputs": [
    {
     "data": {
      "text/plain": [
       "[set(),\n",
       " {'Trends in International Mathematics and Science Study'},\n",
       " set(),\n",
       " {'ADNI', 'Alzheimer s Disease Neuroimaging Initiative ADNI'},\n",
       " set()]"
      ]
     },
     "execution_count": 27,
     "metadata": {},
     "output_type": "execute_result"
    }
   ],
   "source": [
    "bert_dataset_labels[:5]\n"
   ]
  },
  {
   "cell_type": "markdown",
   "metadata": {},
   "source": [
    "## 6.5. Filter results\n",
    "We filter the reults by first looking at the jaccard simalirty between the predicted labels, to not get nearly-duplicates.\n",
    "After this, we match our results to the literal matching list defined earlier in this notebook. In case a literal match is present for a predicted label, the literal match will be taken as final output."
   ]
  },
  {
   "cell_type": "code",
   "execution_count": 28,
   "metadata": {
    "execution": {
     "iopub.execute_input": "2021-06-13T09:34:55.653404Z",
     "iopub.status.busy": "2021-06-13T09:34:55.652614Z",
     "iopub.status.idle": "2021-06-13T09:34:55.655728Z",
     "shell.execute_reply": "2021-06-13T09:34:55.656285Z",
     "shell.execute_reply.started": "2021-06-13T09:07:16.839636Z"
    },
    "papermill": {
     "duration": 0.133032,
     "end_time": "2021-06-13T09:34:55.656463",
     "exception": false,
     "start_time": "2021-06-13T09:34:55.523431",
     "status": "completed"
    },
    "tags": []
   },
   "outputs": [],
   "source": [
    "def jaccard_similarity(s1, s2):\n",
    "    l1 = s1.split(\" \")\n",
    "    l2 = s2.split(\" \")    \n",
    "    intersection = len(list(set(l1).intersection(l2)))\n",
    "    union = (len(l1) + len(l2)) - intersection\n",
    "    return float(intersection) / union\n",
    "\n",
    "filtered_bert_labels = []\n",
    "\n",
    "for labels in bert_dataset_labels:\n",
    "    filtered = []\n",
    "    \n",
    "    for label in sorted(labels, key=len):\n",
    "        label = clean_text(label)\n",
    "        if len(filtered) == 0 or all(jaccard_similarity(label, got_label) < 0.75 for got_label in filtered):\n",
    "            filtered.append(label)\n",
    "    \n",
    "    filtered_bert_labels.append('|'.join(filtered))"
   ]
  },
  {
   "cell_type": "code",
   "execution_count": 29,
   "metadata": {
    "execution": {
     "iopub.execute_input": "2021-06-13T09:34:55.907587Z",
     "iopub.status.busy": "2021-06-13T09:34:55.906451Z",
     "iopub.status.idle": "2021-06-13T09:34:55.912214Z",
     "shell.execute_reply": "2021-06-13T09:34:55.911562Z",
     "shell.execute_reply.started": "2021-06-13T09:07:16.860673Z"
    },
    "papermill": {
     "duration": 0.135719,
     "end_time": "2021-06-13T09:34:55.912343",
     "exception": false,
     "start_time": "2021-06-13T09:34:55.776624",
     "status": "completed"
    },
    "tags": []
   },
   "outputs": [
    {
     "data": {
      "text/plain": [
       "['',\n",
       " 'trends in international mathematics and science study',\n",
       " '',\n",
       " 'adni|alzheimer s disease neuroimaging initiative adni',\n",
       " '',\n",
       " 'adni|alzheimer s disease neuroimaging initiative adni',\n",
       " 'early childhood longitudinal study',\n",
       " 'baltimore longitudinal study of aging',\n",
       " '',\n",
       " 'baltimore longitudinal study of aging',\n",
       " 'baltimore longitudinal study of aging',\n",
       " 'adni|alzheimer s disease neuroimaging initiative adni',\n",
       " 'adni',\n",
       " 'baltimore longitudinal study of aging',\n",
       " 'adni',\n",
       " '',\n",
       " 'adni|alzheimer s disease neuroimaging initiative adni',\n",
       " 'adni',\n",
       " 'beginning postsecondary students',\n",
       " '',\n",
       " 'covid 19 death data',\n",
       " 'early childhood longitudinal study',\n",
       " '',\n",
       " 'education longitudinal study|early childhood longitudinal study',\n",
       " '',\n",
       " 'survey of earned doctorates',\n",
       " 'education longitudinal study',\n",
       " '',\n",
       " '',\n",
       " 'adni|alzheimer s disease neuroimaging initiative adni',\n",
       " 'adni|alzheimer s disease neuroimaging initiative adni',\n",
       " '',\n",
       " 'agricultural resource management survey',\n",
       " 'survey of earned doctorates|survey of doctorate recipients',\n",
       " 'adni',\n",
       " 'education longitudinal study',\n",
       " '',\n",
       " 'baltimore longitudinal study of aging',\n",
       " 'survey of earned doctorates',\n",
       " 'baltimore longitudinal study of aging',\n",
       " '',\n",
       " 'school survey on crime and safety',\n",
       " 'rural urban continuum codes',\n",
       " 'census of agriculture',\n",
       " 'slosh model|noaa tide gauge',\n",
       " 'trends in international mathematics and science study',\n",
       " 'covid 19 open research dataset',\n",
       " 'trends in international mathematics and science study',\n",
       " 'sars cov 2 genome sequences',\n",
       " 'world ocean database',\n",
       " '',\n",
       " 'adni',\n",
       " 'noaa tide gauge',\n",
       " '',\n",
       " '',\n",
       " 'adni|alzheimer s disease neuroimaging initiative adni',\n",
       " 'noaa tide gauge',\n",
       " '',\n",
       " 'trends in international mathematics and science study',\n",
       " 'baltimore longitudinal study of aging',\n",
       " 'world ocean database',\n",
       " '',\n",
       " 'alzheimer s disease neuroimaging initiative adni',\n",
       " 'national assessment of education progress',\n",
       " 'baccalaureate and beyond',\n",
       " '',\n",
       " 'baltimore longitudinal study of aging',\n",
       " '',\n",
       " 'covid 19 image data collection',\n",
       " 'adni',\n",
       " 'world ocean database',\n",
       " '',\n",
       " '',\n",
       " '',\n",
       " 'adni',\n",
       " 'alzheimer s disease neuroimaging initiative adni',\n",
       " 'covid 19 open research dataset',\n",
       " 'trends in international mathematics and science study',\n",
       " 'adni|alzheimer s disease neuroimaging initiative adni',\n",
       " '',\n",
       " 'adni',\n",
       " 'agricultural resource management survey',\n",
       " 'census of agriculture',\n",
       " 'early childhood longitudinal study',\n",
       " 'adni|alzheimer s disease neuroimaging initiative adni',\n",
       " '',\n",
       " '',\n",
       " 'education longitudinal study|early childhood longitudinal study',\n",
       " '',\n",
       " '',\n",
       " '',\n",
       " 'adni|alzheimer s disease neuroimaging initiative adni',\n",
       " 'alzheimer s disease neuroimaging initiative adni',\n",
       " 'adni',\n",
       " 'alzheimer s disease neuroimaging initiative adni',\n",
       " '',\n",
       " 'agricultural resource management survey',\n",
       " 'adni|alzheimer s disease neuroimaging initiative adni',\n",
       " 'adni|alzheimer|alzheimer s disease neuroimaging initiative adni',\n",
       " 'national education longitudinal study']"
      ]
     },
     "execution_count": 29,
     "metadata": {},
     "output_type": "execute_result"
    }
   ],
   "source": [
    "filtered_bert_labels[:100]\n"
   ]
  },
  {
   "cell_type": "code",
   "execution_count": 30,
   "metadata": {
    "execution": {
     "iopub.execute_input": "2021-06-13T09:34:56.404432Z",
     "iopub.status.busy": "2021-06-13T09:34:56.403553Z",
     "iopub.status.idle": "2021-06-13T09:34:56.408100Z",
     "shell.execute_reply": "2021-06-13T09:34:56.407571Z",
     "shell.execute_reply.started": "2021-06-13T09:07:16.884649Z"
    },
    "papermill": {
     "duration": 0.131313,
     "end_time": "2021-06-13T09:34:56.408245",
     "exception": false,
     "start_time": "2021-06-13T09:34:56.276932",
     "status": "completed"
    },
    "tags": []
   },
   "outputs": [
    {
     "name": "stdout",
     "output_type": "stream",
     "text": [
      "No literal matching!\n"
     ]
    }
   ],
   "source": [
    "\n",
    "if(not onlyBert):\n",
    "    print(\"Adding literal matching!\")\n",
    "    final_predictions = []\n",
    "    for literal_match, bert_pred in zip(literal_preds, filtered_bert_labels):\n",
    "        if literal_match:\n",
    "            final_predictions.append(literal_match)\n",
    "        else:\n",
    "            final_predictions.append(bert_pred)\n",
    "else:\n",
    "    print(\"No literal matching!\")\n",
    "    final_predictions = filtered_bert_labels"
   ]
  },
  {
   "cell_type": "code",
   "execution_count": 31,
   "metadata": {
    "execution": {
     "iopub.execute_input": "2021-06-13T09:34:56.661970Z",
     "iopub.status.busy": "2021-06-13T09:34:56.660852Z",
     "iopub.status.idle": "2021-06-13T09:34:56.666021Z",
     "shell.execute_reply": "2021-06-13T09:34:56.665523Z",
     "shell.execute_reply.started": "2021-06-13T09:07:16.898035Z"
    },
    "papermill": {
     "duration": 0.135867,
     "end_time": "2021-06-13T09:34:56.666167",
     "exception": false,
     "start_time": "2021-06-13T09:34:56.530300",
     "status": "completed"
    },
    "tags": []
   },
   "outputs": [
    {
     "data": {
      "text/plain": [
       "['',\n",
       " 'trends in international mathematics and science study',\n",
       " '',\n",
       " 'adni|alzheimer s disease neuroimaging initiative adni',\n",
       " '',\n",
       " 'adni|alzheimer s disease neuroimaging initiative adni',\n",
       " 'early childhood longitudinal study',\n",
       " 'baltimore longitudinal study of aging',\n",
       " '',\n",
       " 'baltimore longitudinal study of aging',\n",
       " 'baltimore longitudinal study of aging',\n",
       " 'adni|alzheimer s disease neuroimaging initiative adni',\n",
       " 'adni',\n",
       " 'baltimore longitudinal study of aging',\n",
       " 'adni',\n",
       " '',\n",
       " 'adni|alzheimer s disease neuroimaging initiative adni',\n",
       " 'adni',\n",
       " 'beginning postsecondary students',\n",
       " '',\n",
       " 'covid 19 death data',\n",
       " 'early childhood longitudinal study',\n",
       " '',\n",
       " 'education longitudinal study|early childhood longitudinal study',\n",
       " '',\n",
       " 'survey of earned doctorates',\n",
       " 'education longitudinal study',\n",
       " '',\n",
       " '',\n",
       " 'adni|alzheimer s disease neuroimaging initiative adni',\n",
       " 'adni|alzheimer s disease neuroimaging initiative adni',\n",
       " '',\n",
       " 'agricultural resource management survey',\n",
       " 'survey of earned doctorates|survey of doctorate recipients',\n",
       " 'adni',\n",
       " 'education longitudinal study',\n",
       " '',\n",
       " 'baltimore longitudinal study of aging',\n",
       " 'survey of earned doctorates',\n",
       " 'baltimore longitudinal study of aging',\n",
       " '',\n",
       " 'school survey on crime and safety',\n",
       " 'rural urban continuum codes',\n",
       " 'census of agriculture',\n",
       " 'slosh model|noaa tide gauge',\n",
       " 'trends in international mathematics and science study',\n",
       " 'covid 19 open research dataset',\n",
       " 'trends in international mathematics and science study',\n",
       " 'sars cov 2 genome sequences',\n",
       " 'world ocean database',\n",
       " '',\n",
       " 'adni',\n",
       " 'noaa tide gauge',\n",
       " '',\n",
       " '',\n",
       " 'adni|alzheimer s disease neuroimaging initiative adni',\n",
       " 'noaa tide gauge',\n",
       " '',\n",
       " 'trends in international mathematics and science study',\n",
       " 'baltimore longitudinal study of aging',\n",
       " 'world ocean database',\n",
       " '',\n",
       " 'alzheimer s disease neuroimaging initiative adni',\n",
       " 'national assessment of education progress',\n",
       " 'baccalaureate and beyond',\n",
       " '',\n",
       " 'baltimore longitudinal study of aging',\n",
       " '',\n",
       " 'covid 19 image data collection',\n",
       " 'adni',\n",
       " 'world ocean database',\n",
       " '',\n",
       " '',\n",
       " '',\n",
       " 'adni',\n",
       " 'alzheimer s disease neuroimaging initiative adni',\n",
       " 'covid 19 open research dataset',\n",
       " 'trends in international mathematics and science study',\n",
       " 'adni|alzheimer s disease neuroimaging initiative adni',\n",
       " '',\n",
       " 'adni',\n",
       " 'agricultural resource management survey',\n",
       " 'census of agriculture',\n",
       " 'early childhood longitudinal study',\n",
       " 'adni|alzheimer s disease neuroimaging initiative adni',\n",
       " '',\n",
       " '',\n",
       " 'education longitudinal study|early childhood longitudinal study',\n",
       " '',\n",
       " '',\n",
       " '',\n",
       " 'adni|alzheimer s disease neuroimaging initiative adni',\n",
       " 'alzheimer s disease neuroimaging initiative adni',\n",
       " 'adni',\n",
       " 'alzheimer s disease neuroimaging initiative adni',\n",
       " '',\n",
       " 'agricultural resource management survey',\n",
       " 'adni|alzheimer s disease neuroimaging initiative adni',\n",
       " 'adni|alzheimer|alzheimer s disease neuroimaging initiative adni',\n",
       " 'national education longitudinal study']"
      ]
     },
     "execution_count": 31,
     "metadata": {},
     "output_type": "execute_result"
    }
   ],
   "source": [
    "final_predictions[0:100]\n"
   ]
  },
  {
   "cell_type": "markdown",
   "metadata": {},
   "source": [
    "## 6.6. Generate submission file"
   ]
  },
  {
   "cell_type": "code",
   "execution_count": 32,
   "metadata": {
    "execution": {
     "iopub.execute_input": "2021-06-13T09:34:56.923840Z",
     "iopub.status.busy": "2021-06-13T09:34:56.922828Z",
     "iopub.status.idle": "2021-06-13T09:34:56.926746Z",
     "shell.execute_reply": "2021-06-13T09:34:56.926263Z",
     "shell.execute_reply.started": "2021-06-13T09:07:16.913795Z"
    },
    "papermill": {
     "duration": 0.135199,
     "end_time": "2021-06-13T09:34:56.926876",
     "exception": false,
     "start_time": "2021-06-13T09:34:56.791677",
     "status": "completed"
    },
    "tags": []
   },
   "outputs": [],
   "source": [
    "if(not computeFBeta):\n",
    "    sample_submission['PredictionString'] = final_predictions\n",
    "    sample_submission.head()\n",
    "    "
   ]
  },
  {
   "cell_type": "code",
   "execution_count": 33,
   "metadata": {
    "execution": {
     "iopub.execute_input": "2021-06-13T09:34:57.179765Z",
     "iopub.status.busy": "2021-06-13T09:34:57.178877Z",
     "iopub.status.idle": "2021-06-13T09:34:57.182122Z",
     "shell.execute_reply": "2021-06-13T09:34:57.182619Z",
     "shell.execute_reply.started": "2021-06-13T09:07:16.925106Z"
    },
    "papermill": {
     "duration": 0.130437,
     "end_time": "2021-06-13T09:34:57.182797",
     "exception": false,
     "start_time": "2021-06-13T09:34:57.052360",
     "status": "completed"
    },
    "tags": []
   },
   "outputs": [],
   "source": [
    "if(not computeFBeta):\n",
    "    sample_submission.to_csv(f'submission.csv', index=False)"
   ]
  },
  {
   "cell_type": "markdown",
   "metadata": {},
   "source": [
    "## 6.7. Perform validation\n",
    "In Part I of this set of notebooks, we left the first 100 papers out for validation. Here,  we perfrom evaluation on the first 100 papers by computing the Jaccard-based FBeta score."
   ]
  },
  {
   "cell_type": "code",
   "execution_count": 34,
   "metadata": {
    "execution": {
     "iopub.execute_input": "2021-06-13T09:34:57.449507Z",
     "iopub.status.busy": "2021-06-13T09:34:57.448537Z",
     "iopub.status.idle": "2021-06-13T09:34:57.452327Z",
     "shell.execute_reply": "2021-06-13T09:34:57.451763Z",
     "shell.execute_reply.started": "2021-06-13T09:07:16.935889Z"
    },
    "papermill": {
     "duration": 0.141734,
     "end_time": "2021-06-13T09:34:57.452458",
     "exception": false,
     "start_time": "2021-06-13T09:34:57.310724",
     "status": "completed"
    },
    "tags": []
   },
   "outputs": [],
   "source": [
    "def compute_fbeta(y_true: List[List[str]],\n",
    "                  y_pred: List[List[str]],\n",
    "                  beta: float = 0.5) -> float:\n",
    "    \"\"\"Compute the Jaccard-based micro FBeta score.\n",
    "\n",
    "    References\n",
    "    ----------\n",
    "    - https://www.kaggle.com/c/coleridgeinitiative-show-us-the-data/overview/evaluation\n",
    "    \"\"\"\n",
    "\n",
    "    def _jaccard_similarity(str1: str, str2: str) -> float:\n",
    "        a = set(str1.split()) \n",
    "        b = set(str2.split())\n",
    "        c = a.intersection(b)\n",
    "        return float(len(c)) / (len(a) + len(b) - len(c))\n",
    "\n",
    "    tp = 0  # true positive\n",
    "    fp = 0  # false positive\n",
    "    fn = 0  # false negative\n",
    "    for ground_truth_list, predicted_string_list in zip(y_true, y_pred):\n",
    "        \n",
    "\n",
    "        predicted_string_list_sorted = sorted(predicted_string_list)\n",
    "        for ground_truth in sorted(ground_truth_list):         \n",
    "\n",
    "            if len(predicted_string_list_sorted) == 0:\n",
    "                fn += 1\n",
    "            else:\n",
    "                similarity_scores = [\n",
    "                    _jaccard_similarity(ground_truth, predicted_string)\n",
    "                    for predicted_string in predicted_string_list_sorted\n",
    "                ]\n",
    "                matched_idx = np.argmax(similarity_scores)\n",
    "                if similarity_scores[matched_idx] >= 0.5:\n",
    "                    predicted_string_list_sorted.pop(matched_idx)\n",
    "                    tp += 1\n",
    "                else:\n",
    "                    fn += 1\n",
    "        fp += len(predicted_string_list_sorted)\n",
    "\n",
    "    tp *= (1 + beta ** 2)\n",
    "    fn *= beta ** 2\n",
    "    fbeta_score = tp / (tp+ fp + fn)\n",
    "    return fbeta_score"
   ]
  },
  {
   "cell_type": "code",
   "execution_count": 35,
   "metadata": {
    "execution": {
     "iopub.execute_input": "2021-06-13T09:34:57.711285Z",
     "iopub.status.busy": "2021-06-13T09:34:57.710352Z",
     "iopub.status.idle": "2021-06-13T09:34:57.714083Z",
     "shell.execute_reply": "2021-06-13T09:34:57.713564Z",
     "shell.execute_reply.started": "2021-06-13T09:08:53.923252Z"
    },
    "papermill": {
     "duration": 0.134763,
     "end_time": "2021-06-13T09:34:57.714220",
     "exception": false,
     "start_time": "2021-06-13T09:34:57.579457",
     "status": "completed"
    },
    "tags": []
   },
   "outputs": [],
   "source": [
    "def getTrainLabels(ids, final_predictions, label_df):\n",
    "    labels = []\n",
    "    for paper_id in ids:\n",
    "        \n",
    "        \n",
    "        \n",
    "        value = label_df.loc[label_df['Id'] == paper_id]\n",
    "        cleanedLabel = value[\"cleaned_label\"].values\n",
    "        labels.append(cleanedLabel)\n",
    "    return labels\n",
    "      "
   ]
  },
  {
   "cell_type": "code",
   "execution_count": 36,
   "metadata": {
    "execution": {
     "iopub.execute_input": "2021-06-13T09:34:57.975963Z",
     "iopub.status.busy": "2021-06-13T09:34:57.975004Z",
     "iopub.status.idle": "2021-06-13T09:34:58.235203Z",
     "shell.execute_reply": "2021-06-13T09:34:58.234558Z",
     "shell.execute_reply.started": "2021-06-13T09:08:54.119843Z"
    },
    "papermill": {
     "duration": 0.396133,
     "end_time": "2021-06-13T09:34:58.235365",
     "exception": false,
     "start_time": "2021-06-13T09:34:57.839232",
     "status": "completed"
    },
    "tags": []
   },
   "outputs": [
    {
     "name": "stdout",
     "output_type": "stream",
     "text": [
      "[array(['program for the international assessment of adult competencies'],\n",
      "      dtype=object), array(['trends in international mathematics and science study'],\n",
      "      dtype=object), array(['agricultural resources management survey'], dtype=object), array(['adni|alzheimer s disease neuroimaging initiative adni '],\n",
      "      dtype=object), array(['genome sequence of covid 19'], dtype=object), array(['adni|alzheimer s disease neuroimaging initiative adni '],\n",
      "      dtype=object), array(['early childhood longitudinal study'], dtype=object), array(['baltimore longitudinal study of aging blsa |baltimore longitudinal study of aging'],\n",
      "      dtype=object), array(['noaa tide gauge'], dtype=object), array(['baltimore longitudinal study of aging'], dtype=object), array(['baltimore longitudinal study of aging blsa |baltimore longitudinal study of aging'],\n",
      "      dtype=object), array(['adni|alzheimer s disease neuroimaging initiative adni '],\n",
      "      dtype=object), array(['adni'], dtype=object), array(['baltimore longitudinal study of aging blsa |baltimore longitudinal study of aging'],\n",
      "      dtype=object), array(['adni'], dtype=object), array(['optimum interpolation sea surface temperature|noaa optimum interpolation sea surface temperature'],\n",
      "      dtype=object), array(['adni|alzheimer s disease neuroimaging initiative adni '],\n",
      "      dtype=object), array(['adni|alzheimer s disease neuroimaging initiative adni '],\n",
      "      dtype=object), array(['beginning postsecondary students'], dtype=object), array(['slosh model'], dtype=object), array(['covid 19 death data'], dtype=object), array(['early childhood longitudinal study'], dtype=object), array(['international best track archive for climate stewardship'],\n",
      "      dtype=object), array(['national education longitudinal study|early childhood longitudinal study|education longitudinal study'],\n",
      "      dtype=object), array(['survey of earned doctorates'], dtype=object), array(['survey of earned doctorates'], dtype=object), array(['education longitudinal study|national education longitudinal study'],\n",
      "      dtype=object), array(['adni'], dtype=object), array(['adni'], dtype=object), array(['adni|alzheimer s disease neuroimaging initiative adni '],\n",
      "      dtype=object), array(['adni'], dtype=object), array(['adni|alzheimer s disease neuroimaging initiative adni '],\n",
      "      dtype=object), array(['agricultural resource management survey'], dtype=object), array(['survey of earned doctorates|survey of doctorate recipients'],\n",
      "      dtype=object), array(['adni'], dtype=object), array(['national education longitudinal study|education longitudinal study'],\n",
      "      dtype=object), array(['rural urban continuum codes'], dtype=object), array(['baltimore longitudinal study of aging'], dtype=object), array(['survey of earned doctorates'], dtype=object), array(['baltimore longitudinal study of aging'], dtype=object), array(['rural urban continuum codes'], dtype=object), array(['school survey on crime and safety'], dtype=object), array(['rural urban continuum codes'], dtype=object), array(['census of agriculture'], dtype=object), array(['slosh model|noaa tide station|noaa tide gauge'], dtype=object), array(['trends in international mathematics and science study'],\n",
      "      dtype=object), array(['covid 19 open research dataset'], dtype=object), array(['trends in international mathematics and science study'],\n",
      "      dtype=object), array(['sars cov 2 genome sequence|sars cov 2 genome sequences'],\n",
      "      dtype=object), array(['world ocean database'], dtype=object), array(['rural urban continuum codes'], dtype=object), array(['adni'], dtype=object), array(['noaa tide gauge'], dtype=object), array(['agricultural resource management survey'], dtype=object), array(['national assessment of education progress'], dtype=object), array(['alzheimer s disease neuroimaging initiative adni '], dtype=object), array(['noaa tide gauge'], dtype=object), array(['national assessment of education progress'], dtype=object), array(['trends in international mathematics and science study'],\n",
      "      dtype=object), array(['baltimore longitudinal study of aging blsa |baltimore longitudinal study of aging'],\n",
      "      dtype=object), array(['world ocean database'], dtype=object), array(['slosh model'], dtype=object), array(['adni|alzheimer s disease neuroimaging initiative adni '],\n",
      "      dtype=object), array(['national assessment of education progress'], dtype=object), array(['baccalaureate and beyond'], dtype=object), array(['adni'], dtype=object), array(['baltimore longitudinal study of aging blsa |baltimore longitudinal study of aging'],\n",
      "      dtype=object), array(['national science foundation survey of earned doctorates|survey of earned doctorates'],\n",
      "      dtype=object), array(['covid 19 image data collection'], dtype=object), array(['adni'], dtype=object), array(['world ocean database'], dtype=object), array(['national assessment of education progress'], dtype=object), array(['rural urban continuum codes'], dtype=object), array(['adni|alzheimer s disease neuroimaging initiative adni '],\n",
      "      dtype=object), array(['adni'], dtype=object), array(['adni|alzheimer s disease neuroimaging initiative adni '],\n",
      "      dtype=object), array(['covid 19 open research dataset'], dtype=object), array(['trends in international mathematics and science study'],\n",
      "      dtype=object), array(['alzheimer s disease neuroimaging initiative adni '], dtype=object), array(['adni'], dtype=object), array(['adni'], dtype=object), array(['agricultural resource management survey'], dtype=object), array(['census of agriculture'], dtype=object), array(['early childhood longitudinal study'], dtype=object), array(['adni|alzheimer s disease neuroimaging initiative adni '],\n",
      "      dtype=object), array(['noaa tide gauge'], dtype=object), array(['sars cov 2 full genome sequences'], dtype=object), array(['national education longitudinal study|early childhood longitudinal study|education longitudinal study'],\n",
      "      dtype=object), array(['adni|alzheimer s disease neuroimaging initiative adni '],\n",
      "      dtype=object), array(['coastal change analysis program'], dtype=object), array(['survey of industrial research and development'], dtype=object), array(['adni|alzheimer s disease neuroimaging initiative adni '],\n",
      "      dtype=object), array(['adni|alzheimer s disease neuroimaging initiative adni '],\n",
      "      dtype=object), array(['adni'], dtype=object), array(['adni|alzheimer s disease neuroimaging initiative adni '],\n",
      "      dtype=object), array(['adni'], dtype=object), array(['agricultural resource management survey'], dtype=object), array(['adni|alzheimer s disease neuroimaging initiative adni '],\n",
      "      dtype=object), array(['adni|alzheimer s disease neuroimaging initiative adni '],\n",
      "      dtype=object), array(['education longitudinal study|national education longitudinal study'],\n",
      "      dtype=object)]\n",
      "['', 'trends in international mathematics and science study', '', 'adni|alzheimer s disease neuroimaging initiative adni', '', 'adni|alzheimer s disease neuroimaging initiative adni', 'early childhood longitudinal study', 'baltimore longitudinal study of aging', '', 'baltimore longitudinal study of aging', 'baltimore longitudinal study of aging', 'adni|alzheimer s disease neuroimaging initiative adni', 'adni', 'baltimore longitudinal study of aging', 'adni', '', 'adni|alzheimer s disease neuroimaging initiative adni', 'adni', 'beginning postsecondary students', '', 'covid 19 death data', 'early childhood longitudinal study', '', 'education longitudinal study|early childhood longitudinal study', '', 'survey of earned doctorates', 'education longitudinal study', '', '', 'adni|alzheimer s disease neuroimaging initiative adni', 'adni|alzheimer s disease neuroimaging initiative adni', '', 'agricultural resource management survey', 'survey of earned doctorates|survey of doctorate recipients', 'adni', 'education longitudinal study', '', 'baltimore longitudinal study of aging', 'survey of earned doctorates', 'baltimore longitudinal study of aging', '', 'school survey on crime and safety', 'rural urban continuum codes', 'census of agriculture', 'slosh model|noaa tide gauge', 'trends in international mathematics and science study', 'covid 19 open research dataset', 'trends in international mathematics and science study', 'sars cov 2 genome sequences', 'world ocean database', '', 'adni', 'noaa tide gauge', '', '', 'adni|alzheimer s disease neuroimaging initiative adni', 'noaa tide gauge', '', 'trends in international mathematics and science study', 'baltimore longitudinal study of aging', 'world ocean database', '', 'alzheimer s disease neuroimaging initiative adni', 'national assessment of education progress', 'baccalaureate and beyond', '', 'baltimore longitudinal study of aging', '', 'covid 19 image data collection', 'adni', 'world ocean database', '', '', '', 'adni', 'alzheimer s disease neuroimaging initiative adni', 'covid 19 open research dataset', 'trends in international mathematics and science study', 'adni|alzheimer s disease neuroimaging initiative adni', '', 'adni', 'agricultural resource management survey', 'census of agriculture', 'early childhood longitudinal study', 'adni|alzheimer s disease neuroimaging initiative adni', '', '', 'education longitudinal study|early childhood longitudinal study', '', '', '', 'adni|alzheimer s disease neuroimaging initiative adni', 'alzheimer s disease neuroimaging initiative adni', 'adni', 'alzheimer s disease neuroimaging initiative adni', '', 'agricultural resource management survey', 'adni|alzheimer s disease neuroimaging initiative adni', 'adni|alzheimer|alzheimer s disease neuroimaging initiative adni', 'national education longitudinal study']\n",
      "0.5809859154929577\n"
     ]
    }
   ],
   "source": [
    "#In case of development (using the validation set)\n",
    "if(computeFBeta):\n",
    "    trainLabels = getTrainLabels(validationIds, final_predictions,  label_df)\n",
    "    print(trainLabels)\n",
    "    print(final_predictions)\n",
    "    fbeta = compute_fbeta(trainLabels, [x.split('|')for x in final_predictions])\n",
    "    print(fbeta)\n"
   ]
  },
  {
   "cell_type": "markdown",
   "metadata": {
    "papermill": {
     "duration": 0.12868,
     "end_time": "2021-06-13T09:34:58.490847",
     "exception": false,
     "start_time": "2021-06-13T09:34:58.362167",
     "status": "completed"
    },
    "tags": []
   },
   "source": [
    "## Generate submission file"
   ]
  },
  {
   "cell_type": "code",
   "execution_count": 37,
   "metadata": {
    "execution": {
     "iopub.execute_input": "2021-06-13T09:34:58.747492Z",
     "iopub.status.busy": "2021-06-13T09:34:58.746448Z",
     "iopub.status.idle": "2021-06-13T09:34:58.750395Z",
     "shell.execute_reply": "2021-06-13T09:34:58.749789Z",
     "shell.execute_reply.started": "2021-06-12T07:10:24.819969Z"
    },
    "papermill": {
     "duration": 0.13279,
     "end_time": "2021-06-13T09:34:58.750522",
     "exception": false,
     "start_time": "2021-06-13T09:34:58.617732",
     "status": "completed"
    },
    "tags": []
   },
   "outputs": [],
   "source": [
    "# def generate_submission_file(test_ids, test_predictions):\n",
    "#     submission_dict = {\"Id\": test_ids, \"PredictionString\": test_predictions}\n",
    "#     submission_df = pd.DataFrame.from_dict(submission_dict)\n",
    "#     submission_df.to_csv(f'submission.csv', index=False)\n",
    "    \n",
    "    \n",
    "\n",
    "# generate_submission_file(test_df_ner[\"Id\"], final_predictions)"
   ]
  },
  {
   "cell_type": "markdown",
   "metadata": {
    "papermill": {
     "duration": 0.122532,
     "end_time": "2021-06-13T09:34:58.995412",
     "exception": false,
     "start_time": "2021-06-13T09:34:58.872880",
     "status": "completed"
    },
    "tags": []
   },
   "source": []
  },
  {
   "cell_type": "code",
   "execution_count": null,
   "metadata": {
    "papermill": {
     "duration": 0.126144,
     "end_time": "2021-06-13T09:34:59.246191",
     "exception": false,
     "start_time": "2021-06-13T09:34:59.120047",
     "status": "completed"
    },
    "tags": []
   },
   "outputs": [],
   "source": []
  },
  {
   "cell_type": "code",
   "execution_count": null,
   "metadata": {
    "papermill": {
     "duration": 0.123166,
     "end_time": "2021-06-13T09:34:59.494565",
     "exception": false,
     "start_time": "2021-06-13T09:34:59.371399",
     "status": "completed"
    },
    "tags": []
   },
   "outputs": [],
   "source": []
  }
 ],
 "metadata": {
  "kernelspec": {
   "display_name": "Python 3",
   "language": "python",
   "name": "python3"
  },
  "language_info": {
   "codemirror_mode": {
    "name": "ipython",
    "version": 3
   },
   "file_extension": ".py",
   "mimetype": "text/x-python",
   "name": "python",
   "nbconvert_exporter": "python",
   "pygments_lexer": "ipython3",
   "version": "3.6.5"
  },
  "papermill": {
   "default_parameters": {},
   "duration": 338.876733,
   "end_time": "2021-06-13T09:35:01.434129",
   "environment_variables": {},
   "exception": null,
   "input_path": "__notebook__.ipynb",
   "output_path": "__notebook__.ipynb",
   "parameters": {},
   "start_time": "2021-06-13T09:29:22.557396",
   "version": "2.3.2"
  }
 },
 "nbformat": 4,
 "nbformat_minor": 5
}
