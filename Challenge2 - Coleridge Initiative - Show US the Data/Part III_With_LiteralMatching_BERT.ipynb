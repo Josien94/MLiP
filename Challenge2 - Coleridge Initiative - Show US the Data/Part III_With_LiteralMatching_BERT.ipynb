{
 "cells": [
  {
   "cell_type": "markdown",
   "metadata": {
    "papermill": {
     "duration": 0.035788,
     "end_time": "2021-06-13T10:43:42.868487",
     "exception": false,
     "start_time": "2021-06-13T10:43:42.832699",
     "status": "completed"
    },
    "tags": []
   },
   "source": [
    "# Part III (Testing)\n",
    "\n",
    "# 1. Introduction\n",
    "\n",
    "This notebook contains the prediction phase for the Kaggle challenge \"Coleridge Initative: Show US the Data\" (https://www.kaggle.com/c/coleridgeinitiative-show-us-the-data/). To recap, this challenge is about datasets used in scientific papers. In particular, we want to extract the datasets for scientific paper, with several NLP approaches. In this notebook, we test both BERT and SciBERT. The first model is introduced by Devlin, J., Chang, M. W., Lee, K., and Toutanova, K., in 2018 [1]. Source code of BERT can be fuond [here](https://github.com/google-research/bert). The second model is  introduced by Beltagy, I., Lo, K., and Cohan, A. in 2019 [2]. Source code of SciBERT can be found [here](https://github.com/allenai/scibert).\n",
    "\n",
    "\n",
    "Furthermore, we append the existing data with a specialized Corpus for dataset tagging. TDMSci is a Corpus existing of annotated data for tasks, metrices and datasets. Here, B-DATASET and I-DATASET are the NER-labels indicating a word is (part of) a dataset [3]. Source code (and annotated data) of TDMSci can be found [here](https://github.com/IBM/science-result-extractor).\n",
    "\n",
    "This boils down to exectuing Named Entity Recognition (NER), in particular token classfication.\n",
    "\n",
    "We have created three notebooks, one for **dataset creation** ([Part I](https://github.com/Josien94/MLiP/blob/main/Challenge2%20-%20Coleridge%20Initiative%20-%20Show%20US%20the%20Data/Part%20I_Creating_Dataset.ipynb)), one for **training** ([Part IIa](https://github.com/Josien94/MLiP/blob/main/Challenge2%20-%20Coleridge%20Initiative%20-%20Show%20US%20the%20Data/Part_IIa_BERT_Training.ipynb) and [Part IIb](https://github.com/Josien94/MLiP/blob/main/Challenge2%20-%20Coleridge%20Initiative%20-%20Show%20US%20the%20Data/Part_IIb_SciBERT_Training.ipynb)) and this one for **testing** (Part III). This part exists of the testing phase of the model. We loaded the pre-trained model from either _part IIa_ or _part IIb_, and executed predictions with the pre-trained model on our validation set.\n",
    "\n",
    "\n",
    "[1] Devlin, J., Chang, M. W., Lee, K., & Toutanova, K. (2018). Bert: Pre-training of deep bidirectional transformers for language understanding. arXiv preprint arXiv:1810.04805.  \n",
    "[2] Beltagy, I., Lo, K., & Cohan, A. (2019). SciBERT: A pretrained language model for scientific text. arXiv preprint arXiv:1903.10676.  \n",
    "[3] Hou, Y., Jochim, C., Gleize, M., Bonin, F., & Ganguly, D. (2021). TDMSci: A Specialized Corpus for Scientific Literature Entity Tagging of Tasks Datasets and Metrics. arXiv preprint arXiv:2101.10273.\n"
   ]
  },
  {
   "cell_type": "markdown",
   "metadata": {
    "papermill": {
     "duration": 0.032943,
     "end_time": "2021-06-13T10:43:42.934809",
     "exception": false,
     "start_time": "2021-06-13T10:43:42.901866",
     "status": "completed"
    },
    "tags": []
   },
   "source": [
    "# 2. Preparing Notebook"
   ]
  },
  {
   "cell_type": "code",
   "execution_count": 1,
   "metadata": {
    "execution": {
     "iopub.execute_input": "2021-06-13T10:43:43.006310Z",
     "iopub.status.busy": "2021-06-13T10:43:43.004752Z",
     "iopub.status.idle": "2021-06-13T10:45:35.362225Z",
     "shell.execute_reply": "2021-06-13T10:45:35.360690Z",
     "shell.execute_reply.started": "2021-06-13T08:59:37.127064Z"
    },
    "papermill": {
     "duration": 112.394369,
     "end_time": "2021-06-13T10:45:35.362389",
     "exception": false,
     "start_time": "2021-06-13T10:43:42.968020",
     "status": "completed"
    },
    "tags": []
   },
   "outputs": [
    {
     "name": "stdout",
     "output_type": "stream",
     "text": [
      "Looking in links: file:///kaggle/input/coleridge-packages/packages/datasets\r\n",
      "Processing /kaggle/input/coleridge-packages/packages/datasets/datasets-1.5.0-py3-none-any.whl\r\n",
      "Requirement already satisfied: importlib-metadata in /opt/conda/lib/python3.7/site-packages (from datasets) (3.4.0)\r\n",
      "Requirement already satisfied: fsspec in /opt/conda/lib/python3.7/site-packages (from datasets) (0.8.5)\r\n",
      "Requirement already satisfied: pandas in /opt/conda/lib/python3.7/site-packages (from datasets) (1.1.5)\r\n",
      "Processing /kaggle/input/coleridge-packages/packages/datasets/huggingface_hub-0.0.7-py3-none-any.whl\r\n",
      "Requirement already satisfied: pyarrow>=0.17.1 in /opt/conda/lib/python3.7/site-packages (from datasets) (1.0.1)\r\n",
      "Requirement already satisfied: multiprocess in /opt/conda/lib/python3.7/site-packages (from datasets) (0.70.11.1)\r\n",
      "Requirement already satisfied: numpy>=1.17 in /opt/conda/lib/python3.7/site-packages (from datasets) (1.19.5)\r\n",
      "Processing /kaggle/input/coleridge-packages/packages/datasets/tqdm-4.49.0-py2.py3-none-any.whl\r\n",
      "Requirement already satisfied: requests>=2.19.0 in /opt/conda/lib/python3.7/site-packages (from datasets) (2.25.1)\r\n",
      "Processing /kaggle/input/coleridge-packages/packages/datasets/xxhash-2.0.0-cp37-cp37m-manylinux2010_x86_64.whl\r\n",
      "Requirement already satisfied: dill in /opt/conda/lib/python3.7/site-packages (from datasets) (0.3.3)\r\n",
      "Requirement already satisfied: filelock in /opt/conda/lib/python3.7/site-packages (from huggingface-hub<0.1.0->datasets) (3.0.12)\r\n",
      "Requirement already satisfied: certifi>=2017.4.17 in /opt/conda/lib/python3.7/site-packages (from requests>=2.19.0->datasets) (2020.12.5)\r\n",
      "Requirement already satisfied: chardet<5,>=3.0.2 in /opt/conda/lib/python3.7/site-packages (from requests>=2.19.0->datasets) (3.0.4)\r\n",
      "Requirement already satisfied: urllib3<1.27,>=1.21.1 in /opt/conda/lib/python3.7/site-packages (from requests>=2.19.0->datasets) (1.26.3)\r\n",
      "Requirement already satisfied: idna<3,>=2.5 in /opt/conda/lib/python3.7/site-packages (from requests>=2.19.0->datasets) (2.10)\r\n",
      "Requirement already satisfied: typing-extensions>=3.6.4 in /opt/conda/lib/python3.7/site-packages (from importlib-metadata->datasets) (3.7.4.3)\r\n",
      "Requirement already satisfied: zipp>=0.5 in /opt/conda/lib/python3.7/site-packages (from importlib-metadata->datasets) (3.4.0)\r\n",
      "Requirement already satisfied: python-dateutil>=2.7.3 in /opt/conda/lib/python3.7/site-packages (from pandas->datasets) (2.8.1)\r\n",
      "Requirement already satisfied: pytz>=2017.2 in /opt/conda/lib/python3.7/site-packages (from pandas->datasets) (2021.1)\r\n",
      "Requirement already satisfied: six>=1.5 in /opt/conda/lib/python3.7/site-packages (from python-dateutil>=2.7.3->pandas->datasets) (1.15.0)\r\n",
      "Installing collected packages: tqdm, xxhash, huggingface-hub, datasets\r\n",
      "  Attempting uninstall: tqdm\r\n",
      "    Found existing installation: tqdm 4.56.2\r\n",
      "    Uninstalling tqdm-4.56.2:\r\n",
      "      Successfully uninstalled tqdm-4.56.2\r\n",
      "Successfully installed datasets-1.5.0 huggingface-hub-0.0.7 tqdm-4.49.0 xxhash-2.0.0\r\n",
      "Processing /kaggle/input/coleridge-packages/seqeval-1.2.2-py3-none-any.whl\r\n",
      "Requirement already satisfied: scikit-learn>=0.21.3 in /opt/conda/lib/python3.7/site-packages (from seqeval==1.2.2) (0.24.1)\r\n",
      "Requirement already satisfied: numpy>=1.14.0 in /opt/conda/lib/python3.7/site-packages (from seqeval==1.2.2) (1.19.5)\r\n",
      "Requirement already satisfied: scipy>=0.19.1 in /opt/conda/lib/python3.7/site-packages (from scikit-learn>=0.21.3->seqeval==1.2.2) (1.5.4)\r\n",
      "Requirement already satisfied: threadpoolctl>=2.0.0 in /opt/conda/lib/python3.7/site-packages (from scikit-learn>=0.21.3->seqeval==1.2.2) (2.1.0)\r\n",
      "Requirement already satisfied: joblib>=0.11 in /opt/conda/lib/python3.7/site-packages (from scikit-learn>=0.21.3->seqeval==1.2.2) (1.0.1)\r\n",
      "Installing collected packages: seqeval\r\n",
      "Successfully installed seqeval-1.2.2\r\n",
      "Processing /kaggle/input/coleridge-packages/tokenizers-0.10.1-cp37-cp37m-manylinux1_x86_64.whl\r\n",
      "tokenizers is already installed with the same version as the provided wheel. Use --force-reinstall to force an installation of the wheel.\r\n",
      "Processing /kaggle/input/coleridge-packages/transformers-4.5.0.dev0-py3-none-any.whl\r\n",
      "Requirement already satisfied: sacremoses in /opt/conda/lib/python3.7/site-packages (from transformers==4.5.0.dev0) (0.0.43)\r\n",
      "Requirement already satisfied: tokenizers<0.11,>=0.10.1 in /opt/conda/lib/python3.7/site-packages (from transformers==4.5.0.dev0) (0.10.1)\r\n",
      "Requirement already satisfied: filelock in /opt/conda/lib/python3.7/site-packages (from transformers==4.5.0.dev0) (3.0.12)\r\n",
      "Requirement already satisfied: tqdm>=4.27 in /opt/conda/lib/python3.7/site-packages (from transformers==4.5.0.dev0) (4.49.0)\r\n",
      "Requirement already satisfied: packaging in /opt/conda/lib/python3.7/site-packages (from transformers==4.5.0.dev0) (20.9)\r\n",
      "Requirement already satisfied: regex!=2019.12.17 in /opt/conda/lib/python3.7/site-packages (from transformers==4.5.0.dev0) (2020.11.13)\r\n",
      "Requirement already satisfied: numpy>=1.17 in /opt/conda/lib/python3.7/site-packages (from transformers==4.5.0.dev0) (1.19.5)\r\n",
      "Requirement already satisfied: importlib-metadata in /opt/conda/lib/python3.7/site-packages (from transformers==4.5.0.dev0) (3.4.0)\r\n",
      "Requirement already satisfied: requests in /opt/conda/lib/python3.7/site-packages (from transformers==4.5.0.dev0) (2.25.1)\r\n",
      "Requirement already satisfied: typing-extensions>=3.6.4 in /opt/conda/lib/python3.7/site-packages (from importlib-metadata->transformers==4.5.0.dev0) (3.7.4.3)\r\n",
      "Requirement already satisfied: zipp>=0.5 in /opt/conda/lib/python3.7/site-packages (from importlib-metadata->transformers==4.5.0.dev0) (3.4.0)\r\n",
      "Requirement already satisfied: pyparsing>=2.0.2 in /opt/conda/lib/python3.7/site-packages (from packaging->transformers==4.5.0.dev0) (2.4.7)\r\n",
      "Requirement already satisfied: certifi>=2017.4.17 in /opt/conda/lib/python3.7/site-packages (from requests->transformers==4.5.0.dev0) (2020.12.5)\r\n",
      "Requirement already satisfied: chardet<5,>=3.0.2 in /opt/conda/lib/python3.7/site-packages (from requests->transformers==4.5.0.dev0) (3.0.4)\r\n",
      "Requirement already satisfied: idna<3,>=2.5 in /opt/conda/lib/python3.7/site-packages (from requests->transformers==4.5.0.dev0) (2.10)\r\n",
      "Requirement already satisfied: urllib3<1.27,>=1.21.1 in /opt/conda/lib/python3.7/site-packages (from requests->transformers==4.5.0.dev0) (1.26.3)\r\n",
      "Requirement already satisfied: joblib in /opt/conda/lib/python3.7/site-packages (from sacremoses->transformers==4.5.0.dev0) (1.0.1)\r\n",
      "Requirement already satisfied: click in /opt/conda/lib/python3.7/site-packages (from sacremoses->transformers==4.5.0.dev0) (7.1.2)\r\n",
      "Requirement already satisfied: six in /opt/conda/lib/python3.7/site-packages (from sacremoses->transformers==4.5.0.dev0) (1.15.0)\r\n",
      "Installing collected packages: transformers\r\n",
      "  Attempting uninstall: transformers\r\n",
      "    Found existing installation: transformers 4.4.2\r\n",
      "    Uninstalling transformers-4.4.2:\r\n",
      "      Successfully uninstalled transformers-4.4.2\r\n",
      "\u001b[31mERROR: pip's dependency resolver does not currently take into account all the packages that are installed. This behaviour is the source of the following dependency conflicts.\r\n",
      "allennlp 2.2.0 requires transformers<4.5,>=4.1, but you have transformers 4.5.0.dev0 which is incompatible.\u001b[0m\r\n",
      "Successfully installed transformers-4.5.0.dev0\r\n",
      "Requirement already satisfied: datasets in /opt/conda/lib/python3.7/site-packages (1.5.0)\r\n",
      "Requirement already satisfied: multiprocess in /opt/conda/lib/python3.7/site-packages (from datasets) (0.70.11.1)\r\n",
      "Requirement already satisfied: dill in /opt/conda/lib/python3.7/site-packages (from datasets) (0.3.3)\r\n",
      "Requirement already satisfied: fsspec in /opt/conda/lib/python3.7/site-packages (from datasets) (0.8.5)\r\n",
      "Requirement already satisfied: xxhash in /opt/conda/lib/python3.7/site-packages (from datasets) (2.0.0)\r\n",
      "Requirement already satisfied: numpy>=1.17 in /opt/conda/lib/python3.7/site-packages (from datasets) (1.19.5)\r\n",
      "Requirement already satisfied: huggingface-hub<0.1.0 in /opt/conda/lib/python3.7/site-packages (from datasets) (0.0.7)\r\n",
      "Requirement already satisfied: importlib-metadata in /opt/conda/lib/python3.7/site-packages (from datasets) (3.4.0)\r\n",
      "Requirement already satisfied: tqdm<4.50.0,>=4.27 in /opt/conda/lib/python3.7/site-packages (from datasets) (4.49.0)\r\n",
      "Requirement already satisfied: pyarrow>=0.17.1 in /opt/conda/lib/python3.7/site-packages (from datasets) (1.0.1)\r\n",
      "Requirement already satisfied: requests>=2.19.0 in /opt/conda/lib/python3.7/site-packages (from datasets) (2.25.1)\r\n",
      "Requirement already satisfied: pandas in /opt/conda/lib/python3.7/site-packages (from datasets) (1.1.5)\r\n",
      "Requirement already satisfied: filelock in /opt/conda/lib/python3.7/site-packages (from huggingface-hub<0.1.0->datasets) (3.0.12)\r\n",
      "Requirement already satisfied: urllib3<1.27,>=1.21.1 in /opt/conda/lib/python3.7/site-packages (from requests>=2.19.0->datasets) (1.26.3)\r\n",
      "Requirement already satisfied: chardet<5,>=3.0.2 in /opt/conda/lib/python3.7/site-packages (from requests>=2.19.0->datasets) (3.0.4)\r\n",
      "Requirement already satisfied: certifi>=2017.4.17 in /opt/conda/lib/python3.7/site-packages (from requests>=2.19.0->datasets) (2020.12.5)\r\n",
      "Requirement already satisfied: idna<3,>=2.5 in /opt/conda/lib/python3.7/site-packages (from requests>=2.19.0->datasets) (2.10)\r\n",
      "Requirement already satisfied: typing-extensions>=3.6.4 in /opt/conda/lib/python3.7/site-packages (from importlib-metadata->datasets) (3.7.4.3)\r\n",
      "Requirement already satisfied: zipp>=0.5 in /opt/conda/lib/python3.7/site-packages (from importlib-metadata->datasets) (3.4.0)\r\n",
      "Requirement already satisfied: python-dateutil>=2.7.3 in /opt/conda/lib/python3.7/site-packages (from pandas->datasets) (2.8.1)\r\n",
      "Requirement already satisfied: pytz>=2017.2 in /opt/conda/lib/python3.7/site-packages (from pandas->datasets) (2021.1)\r\n",
      "Requirement already satisfied: six>=1.5 in /opt/conda/lib/python3.7/site-packages (from python-dateutil>=2.7.3->pandas->datasets) (1.15.0)\r\n"
     ]
    }
   ],
   "source": [
    "!pip install datasets --no-index --find-links=file:///kaggle/input/coleridge-packages/packages/datasets \n",
    "!pip install ../input/coleridge-packages/seqeval-1.2.2-py3-none-any.whl \n",
    "!pip install ../input/coleridge-packages/tokenizers-0.10.1-cp37-cp37m-manylinux1_x86_64.whl \n",
    "!pip install ../input/coleridge-packages/transformers-4.5.0.dev0-py3-none-any.whl \n",
    "!pip install datasets "
   ]
  },
  {
   "cell_type": "code",
   "execution_count": 2,
   "metadata": {
    "execution": {
     "iopub.execute_input": "2021-06-13T10:45:35.495208Z",
     "iopub.status.busy": "2021-06-13T10:45:35.494355Z",
     "iopub.status.idle": "2021-06-13T10:45:45.747005Z",
     "shell.execute_reply": "2021-06-13T10:45:45.747598Z",
     "shell.execute_reply.started": "2021-06-13T09:01:34.817355Z"
    },
    "papermill": {
     "duration": 10.304931,
     "end_time": "2021-06-13T10:45:45.747811",
     "exception": false,
     "start_time": "2021-06-13T10:45:35.442880",
     "status": "completed"
    },
    "tags": []
   },
   "outputs": [
    {
     "name": "stderr",
     "output_type": "stream",
     "text": [
      "/opt/conda/lib/python3.7/site-packages/torchaudio/backend/utils.py:54: UserWarning: \"sox\" backend is being deprecated. The default backend will be changed to \"sox_io\" backend in 0.8.0 and \"sox\" backend will be removed in 0.9.0. Please migrate to \"sox_io\" backend. Please refer to https://github.com/pytorch/audio/issues/903 for the detail.\n",
      "  '\"sox\" backend is being deprecated. '\n"
     ]
    }
   ],
   "source": [
    "#Import necessary libraries\n",
    "import pandas as pd # data processing, CSV file I/O (e.g. pd.read_csv)\n",
    "import nltk\n",
    "import re\n",
    "import os\n",
    "from os import listdir\n",
    "from os.path import isfile, join\n",
    "import re\n",
    "import json\n",
    "import time\n",
    "import datetime\n",
    "import random\n",
    "import glob\n",
    "import importlib\n",
    "import allennlp\n",
    "import numpy as np\n",
    "import pandas as pd\n",
    "from transformers import *\n",
    "from tqdm import tqdm\n",
    "import matplotlib.pyplot as plt\n",
    "import seaborn as sns\n",
    "import torch\n",
    "from typing import List\n",
    "\n"
   ]
  },
  {
   "cell_type": "code",
   "execution_count": 4,
   "metadata": {
    "execution": {
     "iopub.execute_input": "2021-06-13T10:45:46.626090Z",
     "iopub.status.busy": "2021-06-13T10:45:46.625549Z",
     "iopub.status.idle": "2021-06-13T10:45:46.636544Z",
     "shell.execute_reply": "2021-06-13T10:45:46.636093Z",
     "shell.execute_reply.started": "2021-06-13T09:04:14.260234Z"
    },
    "papermill": {
     "duration": 0.058668,
     "end_time": "2021-06-13T10:45:46.636645",
     "exception": false,
     "start_time": "2021-06-13T10:45:46.577977",
     "status": "completed"
    },
    "tags": []
   },
   "outputs": [],
   "source": [
    "#Initialize paths for data\n",
    "path_abs = '/kaggle/input/coleridgeinitiative-show-us-the-data/'\n",
    "path_test = os.path.join(path_abs, 'test/')\n",
    "path_train = os.path.join(path_abs, 'train/')\n",
    "path_metadata = os.path.join(path_abs, 'train.csv')\n",
    "path_ner_json = '/kaggle/input/tdmsci/train_ner.json'\n",
    "sample_submission_path = '../input/coleridgeinitiative-show-us-the-data/sample_submission.csv'\n",
    "sample_submission = pd.read_csv(sample_submission_path)\n",
    "\n",
    "adnl_govt_labels_path = '../input/coleridge-additional-gov-datasets-22000popular/data_set_800_with10000popular.csv'\n",
    "\n",
    "onlyBert = False #CHANGE THIS TO FALSE FOR FINAL SUBMSSION "
   ]
  },
  {
   "cell_type": "markdown",
   "metadata": {
    "papermill": {
     "duration": 0.040539,
     "end_time": "2021-06-13T10:45:46.718123",
     "exception": false,
     "start_time": "2021-06-13T10:45:46.677584",
     "status": "completed"
    },
    "tags": []
   },
   "source": [
    "# 3. Get to know the data"
   ]
  },
  {
   "cell_type": "markdown",
   "metadata": {
    "papermill": {
     "duration": 0.040172,
     "end_time": "2021-06-13T10:45:46.798817",
     "exception": false,
     "start_time": "2021-06-13T10:45:46.758645",
     "status": "completed"
    },
    "tags": []
   },
   "source": [
    "## 3.1. Load data"
   ]
  },
  {
   "cell_type": "code",
   "execution_count": 5,
   "metadata": {
    "execution": {
     "iopub.execute_input": "2021-06-13T10:45:46.886314Z",
     "iopub.status.busy": "2021-06-13T10:45:46.885806Z",
     "iopub.status.idle": "2021-06-13T10:45:47.344678Z",
     "shell.execute_reply": "2021-06-13T10:45:47.343994Z",
     "shell.execute_reply.started": "2021-06-13T09:04:14.70788Z"
    },
    "papermill": {
     "duration": 0.505748,
     "end_time": "2021-06-13T10:45:47.344829",
     "exception": false,
     "start_time": "2021-06-13T10:45:46.839081",
     "status": "completed"
    },
    "tags": []
   },
   "outputs": [
    {
     "data": {
      "text/html": [
       "<div>\n",
       "<style scoped>\n",
       "    .dataframe tbody tr th:only-of-type {\n",
       "        vertical-align: middle;\n",
       "    }\n",
       "\n",
       "    .dataframe tbody tr th {\n",
       "        vertical-align: top;\n",
       "    }\n",
       "\n",
       "    .dataframe thead th {\n",
       "        text-align: right;\n",
       "    }\n",
       "</style>\n",
       "<table border=\"1\" class=\"dataframe\">\n",
       "  <thead>\n",
       "    <tr style=\"text-align: right;\">\n",
       "      <th></th>\n",
       "      <th>Id</th>\n",
       "      <th>pub_title</th>\n",
       "      <th>dataset_title</th>\n",
       "      <th>dataset_label</th>\n",
       "      <th>cleaned_label</th>\n",
       "    </tr>\n",
       "  </thead>\n",
       "  <tbody>\n",
       "    <tr>\n",
       "      <th>0</th>\n",
       "      <td>0007f880-0a9b-492d-9a58-76eb0b0e0bd7</td>\n",
       "      <td>The Impact of ICT Training on Income Generatio...</td>\n",
       "      <td>Program for the International Assessment of Ad...</td>\n",
       "      <td>Program for the International Assessment of Ad...</td>\n",
       "      <td>program for the international assessment of ad...</td>\n",
       "    </tr>\n",
       "    <tr>\n",
       "      <th>1</th>\n",
       "      <td>0008656f-0ba2-4632-8602-3017b44c2e90</td>\n",
       "      <td>Finnish Ninth Graders’ Gender Appropriateness ...</td>\n",
       "      <td>Trends in International Mathematics and Scienc...</td>\n",
       "      <td>Trends in International Mathematics and Scienc...</td>\n",
       "      <td>trends in international mathematics and scienc...</td>\n",
       "    </tr>\n",
       "    <tr>\n",
       "      <th>2</th>\n",
       "      <td>000e04d6-d6ef-442f-b070-4309493221ba</td>\n",
       "      <td>Economic Research Service: Specialized Agency...</td>\n",
       "      <td>Agricultural Resource Management Survey</td>\n",
       "      <td>Agricultural Resources Management Survey</td>\n",
       "      <td>agricultural resources management survey</td>\n",
       "    </tr>\n",
       "    <tr>\n",
       "      <th>3</th>\n",
       "      <td>000efc17-13d8-433d-8f62-a3932fe4f3b8</td>\n",
       "      <td>Risk factors and global cognitive status relat...</td>\n",
       "      <td>Alzheimer's Disease Neuroimaging Initiative (A...</td>\n",
       "      <td>ADNI|Alzheimer's Disease Neuroimaging Initiati...</td>\n",
       "      <td>adni|alzheimer s disease neuroimaging initiati...</td>\n",
       "    </tr>\n",
       "    <tr>\n",
       "      <th>4</th>\n",
       "      <td>0010357a-6365-4e5f-b982-582e6d32c3ee</td>\n",
       "      <td>Timelines of COVID-19 Vaccines</td>\n",
       "      <td>SARS-CoV-2 genome sequence</td>\n",
       "      <td>genome sequence of COVID-19</td>\n",
       "      <td>genome sequence of covid 19</td>\n",
       "    </tr>\n",
       "  </tbody>\n",
       "</table>\n",
       "</div>"
      ],
      "text/plain": [
       "                                     Id  \\\n",
       "0  0007f880-0a9b-492d-9a58-76eb0b0e0bd7   \n",
       "1  0008656f-0ba2-4632-8602-3017b44c2e90   \n",
       "2  000e04d6-d6ef-442f-b070-4309493221ba   \n",
       "3  000efc17-13d8-433d-8f62-a3932fe4f3b8   \n",
       "4  0010357a-6365-4e5f-b982-582e6d32c3ee   \n",
       "\n",
       "                                           pub_title  \\\n",
       "0  The Impact of ICT Training on Income Generatio...   \n",
       "1  Finnish Ninth Graders’ Gender Appropriateness ...   \n",
       "2   Economic Research Service: Specialized Agency...   \n",
       "3  Risk factors and global cognitive status relat...   \n",
       "4                     Timelines of COVID-19 Vaccines   \n",
       "\n",
       "                                       dataset_title  \\\n",
       "0  Program for the International Assessment of Ad...   \n",
       "1  Trends in International Mathematics and Scienc...   \n",
       "2            Agricultural Resource Management Survey   \n",
       "3  Alzheimer's Disease Neuroimaging Initiative (A...   \n",
       "4                         SARS-CoV-2 genome sequence   \n",
       "\n",
       "                                       dataset_label  \\\n",
       "0  Program for the International Assessment of Ad...   \n",
       "1  Trends in International Mathematics and Scienc...   \n",
       "2           Agricultural Resources Management Survey   \n",
       "3  ADNI|Alzheimer's Disease Neuroimaging Initiati...   \n",
       "4                        genome sequence of COVID-19   \n",
       "\n",
       "                                       cleaned_label  \n",
       "0  program for the international assessment of ad...  \n",
       "1  trends in international mathematics and scienc...  \n",
       "2           agricultural resources management survey  \n",
       "3  adni|alzheimer s disease neuroimaging initiati...  \n",
       "4                        genome sequence of covid 19  "
      ]
     },
     "execution_count": 5,
     "metadata": {},
     "output_type": "execute_result"
    }
   ],
   "source": [
    "#Load metadata\n",
    "label_df = pd.read_csv(path_metadata)\n",
    "label_df = label_df.groupby('Id').agg({\n",
    "    'pub_title': 'first',\n",
    "    'dataset_title': '|'.join,\n",
    "    'dataset_label': '|'.join,\n",
    "    'cleaned_label': '|'.join\n",
    "}).reset_index()\n",
    "\n",
    "# sample_submission = pd.read_csv(path_sample_submission)\n",
    "# #Inpsect data\n",
    "\n",
    "label_df.head()"
   ]
  },
  {
   "cell_type": "code",
   "execution_count": 6,
   "metadata": {
    "execution": {
     "iopub.execute_input": "2021-06-13T10:45:47.436851Z",
     "iopub.status.busy": "2021-06-13T10:45:47.436305Z",
     "iopub.status.idle": "2021-06-13T10:45:47.440344Z",
     "shell.execute_reply": "2021-06-13T10:45:47.439559Z",
     "shell.execute_reply.started": "2021-06-13T09:04:15.211818Z"
    },
    "papermill": {
     "duration": 0.050475,
     "end_time": "2021-06-13T10:45:47.440461",
     "exception": false,
     "start_time": "2021-06-13T10:45:47.389986",
     "status": "completed"
    },
    "tags": []
   },
   "outputs": [],
   "source": [
    "#In case of development (using the validation set)\n",
    "computeFBeta = True\n",
    "if(len(sample_submission) > 4):\n",
    "    computeFBeta = False"
   ]
  },
  {
   "cell_type": "markdown",
   "metadata": {
    "papermill": {
     "duration": 0.04189,
     "end_time": "2021-06-13T10:45:47.527086",
     "exception": false,
     "start_time": "2021-06-13T10:45:47.485196",
     "status": "completed"
    },
    "tags": []
   },
   "source": [
    "# 4. Create testdata (and basic NLP)\n",
    "\n",
    "Here, we will load our provided test data and apply basic NLP methods on this. "
   ]
  },
  {
   "cell_type": "code",
   "execution_count": 7,
   "metadata": {
    "execution": {
     "iopub.execute_input": "2021-06-13T10:45:47.623118Z",
     "iopub.status.busy": "2021-06-13T10:45:47.622422Z",
     "iopub.status.idle": "2021-06-13T10:45:47.626284Z",
     "shell.execute_reply": "2021-06-13T10:45:47.625869Z",
     "shell.execute_reply.started": "2021-06-13T09:04:15.220685Z"
    },
    "papermill": {
     "duration": 0.057458,
     "end_time": "2021-06-13T10:45:47.626384",
     "exception": false,
     "start_time": "2021-06-13T10:45:47.568926",
     "status": "completed"
    },
    "tags": []
   },
   "outputs": [],
   "source": [
    "MAX_LENGTH = 64\n",
    "OVERLAP = 20\n",
    "\n",
    "def clean_paper_sentence(s):\n",
    "    \"\"\"\n",
    "    Arguments: sentence (string), Returns: sentence (string)\n",
    "    This function is essentially clean_text without lowercasing.\n",
    "    \"\"\"\n",
    "    s = re.sub('[^A-Za-z0-9]+', ' ', str(s)).strip()\n",
    "    s = re.sub(' +', ' ', s)\n",
    "    return s\n",
    "\n",
    "def shorten_sentences(sentences):\n",
    "    \"\"\"\n",
    "    Arguments: sentences (list), Returns: short_sentences (list)\n",
    "    \n",
    "    Sentences that have more than MAX_LENGTH words will be split\n",
    "    into multiple sentences with overlappings.\n",
    "    \"\"\"\n",
    "    short_sentences = []\n",
    "    for sentence in sentences:\n",
    "        words = sentence.split()\n",
    "        if len(words) > MAX_LENGTH:\n",
    "            for p in range(0, len(words), MAX_LENGTH - OVERLAP):\n",
    "                short_sentences.append(' '.join(words[p:p+MAX_LENGTH]))\n",
    "        else:\n",
    "            short_sentences.append(sentence)\n",
    "    return short_sentences\n",
    "\n",
    "#Concatenate text and split sentences, as the BERT (and SciBERT) model \n",
    "#has the contraint of maximum sequence length of 512.\n",
    "def concatenate_text(json_dict):\n",
    "    '''\n",
    "    Arguments: json_dict (dictionary), Returns: sentences (list)\n",
    "    \n",
    "    Concatenate text and split sentences, as the BERT (and SciBERT) model\n",
    "    has the contraint of maximum sequence length of 512.\n",
    "    '''\n",
    "    total_text = \"\"\n",
    "        \n",
    "    for section_dict in json_dict:\n",
    "        total_text += section_dict['text']+ '\\n'\n",
    "    #sentences = nltk.tokenize.sent_tokenize(total_text) # This seems to take a lot of time?\n",
    "    sentences = re.split('\\. ', total_text)\n",
    "    sentences = [clean_paper_sentence(s) for s in sentences]\n",
    "   \n",
    "    sentences = shorten_sentences(sentences)\n",
    "    return sentences\n",
    "\n",
    "def create_test_df(path, dataset, N_test):\n",
    "    '''\n",
    "    Arguments: path (filnemae), dataset (string), N_test (itn)\n",
    "    Returns: df (dictionary)\n",
    "    \n",
    "    Create dataframe of the provided testdata \n",
    "    '''\n",
    "    #Initialize dictionary with right keys\n",
    "    final_dict = dict()\n",
    "    final_dict[\"Id\"] = []\n",
    "    final_dict[\"Sentences\"] = []\n",
    "    \n",
    "    max_length = N_test\n",
    "    \n",
    "    counter = 0\n",
    "    for root, _, files in os.walk(path):\n",
    "        for filename in range(0,max_length):#files:\n",
    "            id = files[filename][:-5] #Remove .json from filename to retrieve id\n",
    "            with open(path + files[filename]) as f:\n",
    "                json_dict = json.load(f)\n",
    "                sentences = concatenate_text(json_dict)\n",
    "                final_dict[\"Id\"].append(id)\n",
    "                final_dict[\"Sentences\"].append(sentences)\n",
    "                \n",
    "            counter += 1\n",
    "    df = pd.DataFrame.from_dict(final_dict)\n",
    "\n",
    "    return df\n",
    "\n",
    "\n"
   ]
  },
  {
   "cell_type": "code",
   "execution_count": 8,
   "metadata": {
    "execution": {
     "iopub.execute_input": "2021-06-13T10:45:47.712523Z",
     "iopub.status.busy": "2021-06-13T10:45:47.712025Z",
     "iopub.status.idle": "2021-06-13T10:45:47.794758Z",
     "shell.execute_reply": "2021-06-13T10:45:47.793840Z",
     "shell.execute_reply.started": "2021-06-13T09:04:15.290853Z"
    },
    "papermill": {
     "duration": 0.12784,
     "end_time": "2021-06-13T10:45:47.794910",
     "exception": false,
     "start_time": "2021-06-13T10:45:47.667070",
     "status": "completed"
    },
    "tags": []
   },
   "outputs": [
    {
     "name": "stdout",
     "output_type": "stream",
     "text": [
      "4\n"
     ]
    }
   ],
   "source": [
    "\n",
    "#Create test data for NER classification for validation data only\n",
    "if(computeFBeta):\n",
    "    N_test = len([name for name in os.listdir(path_test)])\n",
    "    print(N_test)\n",
    "    test_df_ner = create_test_df(path_test, \"test\", N_test)\n",
    "\n"
   ]
  },
  {
   "cell_type": "markdown",
   "metadata": {
    "papermill": {
     "duration": 0.041098,
     "end_time": "2021-06-13T10:45:48.131457",
     "exception": false,
     "start_time": "2021-06-13T10:45:48.090359",
     "status": "completed"
    },
    "tags": []
   },
   "source": [
    "# 5. Literal matching\n",
    "\n",
    "To improve performance, we introduce literal matching, where sentences from the test data are matched against a created knowledge bank. Here, literal matches between datasets in the knowledge bank and sentences in the test data are found. \n",
    "\n",
    "Furthermore, we add the top [10,000 datasets](https://www.kaggle.com/chienhsianghung/coleridge-additional-gov-datasets-22000popular) from the [U.S. Government's open data](https://www.data.gov/). To exclude datasets exiting of one word - mostly a common used word like \"earth\" - we restricted the inclusion of a dataset with a wordcount larger than 3."
   ]
  },
  {
   "cell_type": "code",
   "execution_count": 10,
   "metadata": {
    "execution": {
     "iopub.execute_input": "2021-06-13T10:45:48.220714Z",
     "iopub.status.busy": "2021-06-13T10:45:48.219988Z",
     "iopub.status.idle": "2021-06-13T10:46:54.347708Z",
     "shell.execute_reply": "2021-06-13T10:46:54.348142Z",
     "shell.execute_reply.started": "2021-06-13T09:04:15.964716Z"
    },
    "papermill": {
     "duration": 66.175374,
     "end_time": "2021-06-13T10:46:54.348286",
     "exception": false,
     "start_time": "2021-06-13T10:45:48.172912",
     "status": "completed"
    },
    "tags": []
   },
   "outputs": [
    {
     "name": "stdout",
     "output_type": "stream",
     "text": [
      "14316\n"
     ]
    }
   ],
   "source": [
    "#Literal matching (create knowledge bank)\n",
    "train = pd.read_csv(path_metadata)\n",
    "papers = {}\n",
    "\n",
    "for paper_id in train['Id'].unique():\n",
    "    with open(f'{path_train}/{paper_id}.json', 'r') as f:\n",
    "        paper = json.load(f)\n",
    "        papers[paper_id] = paper\n",
    "\n",
    "print(len(list(papers.keys())))\n"
   ]
  },
  {
   "cell_type": "code",
   "execution_count": 11,
   "metadata": {
    "execution": {
     "iopub.execute_input": "2021-06-13T10:46:54.487943Z",
     "iopub.status.busy": "2021-06-13T10:46:54.486949Z",
     "iopub.status.idle": "2021-06-13T10:46:54.507306Z",
     "shell.execute_reply": "2021-06-13T10:46:54.507679Z",
     "shell.execute_reply.started": "2021-06-13T09:05:17.66038Z"
    },
    "papermill": {
     "duration": 0.106948,
     "end_time": "2021-06-13T10:46:54.507888",
     "exception": false,
     "start_time": "2021-06-13T10:46:54.400940",
     "status": "completed"
    },
    "tags": []
   },
   "outputs": [],
   "source": [
    "sample_submission_path = '../input/coleridgeinitiative-show-us-the-data/sample_submission.csv'\n",
    "sample_submission = pd.read_csv(sample_submission_path)\n",
    "paper_test_folder = '../input/coleridgeinitiative-show-us-the-data/test'\n",
    "for paper_id in sample_submission['Id']:\n",
    "    with open(f'{paper_test_folder}/{paper_id}.json', 'r') as f:\n",
    "        paper = json.load(f)\n",
    "        papers[paper_id] = paper"
   ]
  },
  {
   "cell_type": "code",
   "execution_count": 12,
   "metadata": {
    "execution": {
     "iopub.execute_input": "2021-06-13T10:46:54.682137Z",
     "iopub.status.busy": "2021-06-13T10:46:54.660703Z",
     "iopub.status.idle": "2021-06-13T10:46:54.968661Z",
     "shell.execute_reply": "2021-06-13T10:46:54.969102Z",
     "shell.execute_reply.started": "2021-06-13T09:05:17.682686Z"
    },
    "papermill": {
     "duration": 0.389446,
     "end_time": "2021-06-13T10:46:54.969258",
     "exception": false,
     "start_time": "2021-06-13T10:46:54.579812",
     "status": "completed"
    },
    "tags": []
   },
   "outputs": [
    {
     "name": "stdout",
     "output_type": "stream",
     "text": [
      "No. different labels: 12230\n"
     ]
    }
   ],
   "source": [
    "all_labels = set()\n",
    "\n",
    "for label_1, label_2, label_3 in train[['dataset_title', 'dataset_label', 'cleaned_label']].itertuples(index=False):\n",
    "    all_labels.add(str(label_1).lower())\n",
    "    all_labels.add(str(label_2).lower())\n",
    "    all_labels.add(str(label_3).lower())\n",
    "\n",
    "adnl_govt_labels = pd.read_csv(adnl_govt_labels_path)\n",
    "\n",
    "for l in adnl_govt_labels.title:\n",
    "    \n",
    "    if (len(l.split()) > 3):\n",
    "        all_labels.add(l.lower())\n",
    "        all_labels.add(l)\n",
    "        all_labels.add(clean_paper_sentence(l))\n",
    "    \n",
    "    \n",
    "all_labels = set(all_labels)\n",
    "print(f'No. different labels: {len(all_labels)}')\n"
   ]
  },
  {
   "cell_type": "markdown",
   "metadata": {
    "papermill": {
     "duration": 0.04198,
     "end_time": "2021-06-13T10:46:55.053406",
     "exception": false,
     "start_time": "2021-06-13T10:46:55.011426",
     "status": "completed"
    },
    "tags": []
   },
   "source": [
    "# 6. NER with BERT\n",
    "\n",
    "Here we apply NER on the pretrained model."
   ]
  },
  {
   "cell_type": "code",
   "execution_count": 13,
   "metadata": {
    "execution": {
     "iopub.execute_input": "2021-06-13T10:46:55.230612Z",
     "iopub.status.busy": "2021-06-13T10:46:55.230089Z",
     "iopub.status.idle": "2021-06-13T10:46:55.233943Z",
     "shell.execute_reply": "2021-06-13T10:46:55.233434Z",
     "shell.execute_reply.started": "2021-06-13T09:05:17.955977Z"
    },
    "papermill": {
     "duration": 0.054643,
     "end_time": "2021-06-13T10:46:55.234143",
     "exception": false,
     "start_time": "2021-06-13T10:46:55.179500",
     "status": "completed"
    },
    "tags": []
   },
   "outputs": [],
   "source": [
    "def clean_text(txt):\n",
    "     \"\"\"\n",
    "    Input: txt (string), Returns: txt_cleaned (string)\n",
    "    This function is essentially clean_text without lowercasing.\n",
    "    \"\"\"\n",
    "    return re.sub('[^A-Za-z0-9]+', ' ', str(txt).lower()).strip()\n",
    "\n",
    "def totally_clean_text(txt):\n",
    "    txt = clean_text(txt)\n",
    "    txt = re.sub(' +', ' ', txt)\n",
    "    return txt"
   ]
  },
  {
   "cell_type": "markdown",
   "metadata": {
    "papermill": {
     "duration": 0.048503,
     "end_time": "2021-06-13T10:46:55.328139",
     "exception": false,
     "start_time": "2021-06-13T10:46:55.279636",
     "status": "completed"
    },
    "tags": []
   },
   "source": [
    "## 6.1. Apply  Literal matching\n",
    "\n",
    "After we have created the knowledgebank, we can now apply our literal matches by looping over the papers and see wheter the text contains a label out of the knowledgebank."
   ]
  },
  {
   "cell_type": "code",
   "execution_count": 14,
   "metadata": {
    "execution": {
     "iopub.execute_input": "2021-06-13T10:46:55.436096Z",
     "iopub.status.busy": "2021-06-13T10:46:55.435431Z",
     "iopub.status.idle": "2021-06-13T10:47:30.516678Z",
     "shell.execute_reply": "2021-06-13T10:47:30.516210Z",
     "shell.execute_reply.started": "2021-06-13T09:05:17.96935Z"
    },
    "papermill": {
     "duration": 35.140723,
     "end_time": "2021-06-13T10:47:30.516827",
     "exception": false,
     "start_time": "2021-06-13T10:46:55.376104",
     "status": "completed"
    },
    "tags": []
   },
   "outputs": [],
   "source": [
    "literal_preds = []\n",
    "\n",
    "#In case of submission\n",
    "if(not computeFBeta):\n",
    "    for paper_id in sample_submission['Id']:\n",
    "        paper = papers[paper_id]\n",
    "        text_1 = '. '.join(section['text'] for section in paper).lower()\n",
    "        text_2 = totally_clean_text(text_1)\n",
    "\n",
    "        labels = set()\n",
    "        for label in all_labels:\n",
    "            if label in text_1 or label in text_2:\n",
    "                labels.add(clean_text(label))\n",
    "\n",
    "        literal_preds.append('|'.join(labels))\n",
    "        \n",
    "#In case of development (using validation set)\n",
    "else:\n",
    "      first_100_papers = sorted(os.listdir(path_train))[0:100]\n",
    "  \n",
    "      for papername in first_100_papers:\n",
    "        with open(f'{path_train}{papername}', 'r') as f:\n",
    "            paper = json.load(f)\n",
    "       \n",
    "        text_1 = '. '.join(section['text'] for section in paper).lower()\n",
    "        text_2 = totally_clean_text(text_1)\n",
    "\n",
    "        labels = set()\n",
    "        for label in all_labels:\n",
    "            if label in text_1 or label in text_2:\n",
    "                labels.add(clean_text(label))\n",
    "\n",
    "        literal_preds.append('|'.join(labels))"
   ]
  },
  {
   "cell_type": "code",
   "execution_count": 15,
   "metadata": {
    "execution": {
     "iopub.execute_input": "2021-06-13T10:47:30.607555Z",
     "iopub.status.busy": "2021-06-13T10:47:30.606786Z",
     "iopub.status.idle": "2021-06-13T10:47:30.610420Z",
     "shell.execute_reply": "2021-06-13T10:47:30.610017Z",
     "shell.execute_reply.started": "2021-06-13T09:05:55.596827Z"
    },
    "papermill": {
     "duration": 0.050347,
     "end_time": "2021-06-13T10:47:30.610531",
     "exception": false,
     "start_time": "2021-06-13T10:47:30.560184",
     "status": "completed"
    },
    "tags": []
   },
   "outputs": [
    {
     "data": {
      "text/plain": [
       "['program for the international assessment of adult competencies',\n",
       " 'trends in international mathematics and science study',\n",
       " 'agricultural resources management survey',\n",
       " 'adni|alzheimer s disease neuroimaging initiative adni',\n",
       " 'genome sequence of covid 19']"
      ]
     },
     "execution_count": 15,
     "metadata": {},
     "output_type": "execute_result"
    }
   ],
   "source": [
    "literal_preds[:5]"
   ]
  },
  {
   "cell_type": "markdown",
   "metadata": {},
   "source": [
    "## 6.2. Preprocess test data\n",
    "\n",
    "After applying literal matching, we preprocess our test data by applying the same basic NLP techniques to our test data. Furthermore, to make the input suitable for BERT, dummy tags are added."
   ]
  },
  {
   "cell_type": "code",
   "execution_count": 16,
   "metadata": {
    "execution": {
     "iopub.execute_input": "2021-06-13T10:47:30.704258Z",
     "iopub.status.busy": "2021-06-13T10:47:30.703491Z",
     "iopub.status.idle": "2021-06-13T10:47:31.041369Z",
     "shell.execute_reply": "2021-06-13T10:47:31.041788Z",
     "shell.execute_reply.started": "2021-06-13T09:05:55.607366Z"
    },
    "papermill": {
     "duration": 0.388357,
     "end_time": "2021-06-13T10:47:31.041938",
     "exception": false,
     "start_time": "2021-06-13T10:47:30.653581",
     "status": "completed"
    },
    "tags": []
   },
   "outputs": [
    {
     "name": "stdout",
     "output_type": "stream",
     "text": [
      "No. grouped training rows: 14316\n"
     ]
    }
   ],
   "source": [
    "train = train.groupby('Id').agg({\n",
    "    'pub_title': 'first',\n",
    "    'dataset_title': '|'.join,\n",
    "    'dataset_label': '|'.join,\n",
    "    'cleaned_label': '|'.join\n",
    "}).reset_index()\n",
    "\n",
    "print(f'No. grouped training rows: {len(train)}')"
   ]
  },
  {
   "cell_type": "code",
   "execution_count": 17,
   "metadata": {
    "execution": {
     "iopub.execute_input": "2021-06-13T10:47:31.134546Z",
     "iopub.status.busy": "2021-06-13T10:47:31.133814Z",
     "iopub.status.idle": "2021-06-13T10:47:31.136822Z",
     "shell.execute_reply": "2021-06-13T10:47:31.136414Z",
     "shell.execute_reply.started": "2021-06-13T09:05:56.038963Z"
    },
    "papermill": {
     "duration": 0.051381,
     "end_time": "2021-06-13T10:47:31.136933",
     "exception": false,
     "start_time": "2021-06-13T10:47:31.085552",
     "status": "completed"
    },
    "tags": []
   },
   "outputs": [],
   "source": [
    "def clean_training_text(txt):\n",
    "    \"\"\"\n",
    "    Input: sentence (string), Returns: sentence (string)\n",
    "    This function is essentially clean_text without lowercasing.\n",
    "    \"\"\"\n",
    "    return re.sub('[^A-Za-z0-9]+', ' ', str(txt)).strip()\n",
    "\n",
    "def shorten_sentences(sentences):\n",
    "    '''\n",
    "    Input: sentences (list), Returns: short_sentences (list)\n",
    "    \n",
    "    Sentences that have more than MAX_LENGTH words will be split\n",
    "    into multiple sentences with overlappings.\n",
    "    '''\n",
    "    short_sentences = []\n",
    "    for sentence in sentences:\n",
    "        words = sentence.split()\n",
    "        if len(words) > MAX_LENGTH:\n",
    "            for p in range(0, len(words), MAX_LENGTH - OVERLAP):\n",
    "                short_sentences.append(' '.join(words[p:p+MAX_LENGTH]))\n",
    "        else:\n",
    "            short_sentences.append(sentence)\n",
    "    return short_sentences"
   ]
  },
  {
   "cell_type": "code",
   "execution_count": 18,
   "metadata": {
    "execution": {
     "iopub.execute_input": "2021-06-13T10:47:31.234636Z",
     "iopub.status.busy": "2021-06-13T10:47:31.233847Z",
     "iopub.status.idle": "2021-06-13T10:47:31.237615Z",
     "shell.execute_reply": "2021-06-13T10:47:31.237048Z",
     "shell.execute_reply.started": "2021-06-13T09:05:56.050877Z"
    },
    "papermill": {
     "duration": 0.058644,
     "end_time": "2021-06-13T10:47:31.237743",
     "exception": false,
     "start_time": "2021-06-13T10:47:31.179099",
     "status": "completed"
    },
    "tags": []
   },
   "outputs": [],
   "source": [
    "def preprocess_test_ner():\n",
    "    '''\n",
    "    Arugments: None, Returns: test_rows (list), paper_lenghts (list)\n",
    "    \n",
    "    Preprocesses test data for NER, by splitting sentences into words and addnign dummy tags.\n",
    "    For each paper, it store the amount of sentences to restore predicted labels back to words.\n",
    "    '''\n",
    "    test_rows = [] # test data in NER format\n",
    "    paper_lengths = []\n",
    "\n",
    "    for paper_id in sample_submission['Id']:\n",
    "       \n",
    "        paper = papers[paper_id]\n",
    "        \n",
    "        sentences = [clean_training_text(sentence) for section in paper \n",
    "                 for sentence in section['text'].split('.')\n",
    "                ]\n",
    "        #The author of this code does this, but I am not sure if this is necessary\n",
    "        sentences = [sentence for sentence in sentences if len(sentence) > 10] # only accept sentences with length > 10 chars\n",
    "        sentences = [sentence for sentence in sentences if any(word in sentence.lower() for word in ['data', 'study'])]\n",
    "        \n",
    "        #Add NER-labels to each token of each sentence\n",
    "        for sentence in sentences:\n",
    "            \n",
    "            tokens = sentence.split()\n",
    "            dummy_tags = ['O'] * len(tokens)\n",
    "            \n",
    "            test_rows.append({'tokens' : tokens, 'tags' : dummy_tags, 'id': paper_id})\n",
    "        paper_lengths.append(len(sentences))\n",
    "    \n",
    "\n",
    "\n",
    "    return test_rows, paper_lengths\n",
    "\n",
    "def preprocess_test_validation():\n",
    "    '''\n",
    "    Arguments: None, Returns: test_rows (list), paper_lengths (list),  ids (list)\n",
    "    \n",
    "    NB: In case of development (using validation set)\n",
    "    \n",
    "    Preprocesses test data for NER, by splitting sentences into words and addnign dummy tags.\n",
    "    For each paper, it store the amount of sentences to restore predicted labels back to words.\n",
    "    '''\n",
    "    #For testing purposes\n",
    "    test_rows = [] # test data in NER format\n",
    "    paper_lengths = []\n",
    "    ids = []\n",
    "\n",
    "    first_100_papers = sorted(os.listdir(path_train))[0:100]\n",
    "  \n",
    "    for papername in first_100_papers:\n",
    "        ids.append(papername[:-5])\n",
    "        with open(f'{path_train}{papername}', 'r') as f:\n",
    "            paper = json.load(f)\n",
    "          \n",
    "            #print(paper[\"id\"])\n",
    "            sentences = [clean_training_text(sentence) for section in paper \n",
    "                     for sentence in section['text'].split('.')\n",
    "                    ]\n",
    "            #The author of this code does this, but I am not sure if this is necessary\n",
    "            sentences = [sentence for sentence in sentences if len(sentence) > 10] # only accept sentences with length > 10 chars\n",
    "            sentences = [sentence for sentence in sentences if any(word in sentence.lower() for word in ['data', 'study'])]\n",
    "\n",
    "            #Add NER-labels to each token of each sentence\n",
    "            for sentence in sentences:\n",
    "\n",
    "                tokens = sentence.split()\n",
    "                dummy_tags = ['O'] * len(tokens)\n",
    "\n",
    "                test_rows.append({'tokens' : tokens, 'tags' : dummy_tags, 'id': paper_id})\n",
    "            paper_lengths.append(len(sentences))\n",
    "    return test_rows, paper_lengths, ids\n",
    "  \n",
    "        "
   ]
  },
  {
   "cell_type": "markdown",
   "metadata": {
    "papermill": {
     "duration": 0.041887,
     "end_time": "2021-06-13T10:47:31.322512",
     "exception": false,
     "start_time": "2021-06-13T10:47:31.280625",
     "status": "completed"
    },
    "tags": []
   },
   "source": []
  },
  {
   "cell_type": "code",
   "execution_count": 19,
   "metadata": {
    "execution": {
     "iopub.execute_input": "2021-06-13T10:47:31.412262Z",
     "iopub.status.busy": "2021-06-13T10:47:31.411739Z",
     "iopub.status.idle": "2021-06-13T10:47:31.831614Z",
     "shell.execute_reply": "2021-06-13T10:47:31.831202Z",
     "shell.execute_reply.started": "2021-06-13T09:05:56.072556Z"
    },
    "papermill": {
     "duration": 0.467133,
     "end_time": "2021-06-13T10:47:31.831752",
     "exception": false,
     "start_time": "2021-06-13T10:47:31.364619",
     "status": "completed"
    },
    "tags": []
   },
   "outputs": [
    {
     "name": "stdout",
     "output_type": "stream",
     "text": [
      "3079\n",
      "[{'tokens': ['The', 'aim', 'of', 'this', 'study', 'was', 'to', 'identify', 'if', 'acquiring', 'ICT', 'skills', 'through', 'DOT', 'Lebanon', 's', 'ICT', 'training', 'program', 'a', 'local', 'NGO', 'improved', 'income', 'generation', 'opportunities', 'after', '3', 'months', 'of', 'completing', 'the', 'training'], 'tags': ['O', 'O', 'O', 'O', 'O', 'O', 'O', 'O', 'O', 'O', 'O', 'O', 'O', 'O', 'O', 'O', 'O', 'O', 'O', 'O', 'O', 'O', 'O', 'O', 'O', 'O', 'O', 'O', 'O', 'O', 'O', 'O', 'O'], 'id': '8e6996b4-ca08-4c0b-bed2-aaf07a4c6a60'}, {'tokens': ['This', 'study', 'was', 'completed', 'in', 'an', 'effort', 'to', 'find', 'creative', 'and', 'digital', 'solutions', 'to', 'the', 'high', 'rate', 'of', 'youth', 'unemployment', 'in', 'Lebanon', '37', 'one', 'of', 'the', 'highest', 'rates', 'in', 'the', 'world'], 'tags': ['O', 'O', 'O', 'O', 'O', 'O', 'O', 'O', 'O', 'O', 'O', 'O', 'O', 'O', 'O', 'O', 'O', 'O', 'O', 'O', 'O', 'O', 'O', 'O', 'O', 'O', 'O', 'O', 'O', 'O', 'O'], 'id': '8e6996b4-ca08-4c0b-bed2-aaf07a4c6a60'}, {'tokens': ['According', 'to', 'a', 'study', 'completed', 'by', 'UNDP', '2016', '96', 'of', 'semi', 'skilled', 'workers', 'in', 'the', 'Agro', 'food', 'industry', 'suffer', 'from', 'basic', 'ICT', 'skills', 'weaknesses', '89'], 'tags': ['O', 'O', 'O', 'O', 'O', 'O', 'O', 'O', 'O', 'O', 'O', 'O', 'O', 'O', 'O', 'O', 'O', 'O', 'O', 'O', 'O', 'O', 'O', 'O', 'O'], 'id': '8e6996b4-ca08-4c0b-bed2-aaf07a4c6a60'}, {'tokens': ['The', 'subject', 'of', 'this', 'study', 'was', 'one', 'of', 'DOT', 'Lebanon', 's', 'programs', 'Digital', 'Media', 'Literacy', 'Program', 'DML', 'a', '2', 'level', 'digital', 'youth', 'training', 'program', 'delivered', 'in', '14', 'different', 'centers', 'across', 'Lebanon'], 'tags': ['O', 'O', 'O', 'O', 'O', 'O', 'O', 'O', 'O', 'O', 'O', 'O', 'O', 'O', 'O', 'O', 'O', 'O', 'O', 'O', 'O', 'O', 'O', 'O', 'O', 'O', 'O', 'O', 'O', 'O', 'O'], 'id': '8e6996b4-ca08-4c0b-bed2-aaf07a4c6a60'}, {'tokens': ['The', 'aim', 'of', 'this', 'study', 'was', 'to', 'identify', 'if', 'acquiring', 'ICT', 'skills', 'through', 'DOT', 'Lebanon', 's', 'ICT', 'training', 'program', 'improved', 'income', 'generation', 'opportunities', 'after', '3', 'months', 'for', 'DOT', 'Lebanon', 's', 'beneficiaries', 'enrolled', 'in', 'the', 'training', 'from', 'February', '2018', 'till', 'September', '2018'], 'tags': ['O', 'O', 'O', 'O', 'O', 'O', 'O', 'O', 'O', 'O', 'O', 'O', 'O', 'O', 'O', 'O', 'O', 'O', 'O', 'O', 'O', 'O', 'O', 'O', 'O', 'O', 'O', 'O', 'O', 'O', 'O', 'O', 'O', 'O', 'O', 'O', 'O', 'O', 'O', 'O', 'O'], 'id': '8e6996b4-ca08-4c0b-bed2-aaf07a4c6a60'}]\n"
     ]
    }
   ],
   "source": [
    "#In case of submission\n",
    "if(not computeFBeta):\n",
    "    test_rows, paper_lengths = preprocess_test_ner()\n",
    "#In case of development (using validation set)\n",
    "else:\n",
    "    test_rows, paper_lengths, validationIds = preprocess_test_validation()\n",
    "    \n",
    "print(len(test_rows))\n",
    "print(test_rows[0:5])"
   ]
  },
  {
   "cell_type": "markdown",
   "metadata": {},
   "source": [
    "## 6.3. Predict with BERT\n",
    "\n",
    "Now we run the BERT model with the preloaded trained model on the test set and save the results in *bert\\_outputs*."
   ]
  },
  {
   "cell_type": "code",
   "execution_count": 20,
   "metadata": {
    "execution": {
     "iopub.execute_input": "2021-06-13T10:47:32.013536Z",
     "iopub.status.busy": "2021-06-13T10:47:32.011628Z",
     "iopub.status.idle": "2021-06-13T10:47:32.014207Z",
     "shell.execute_reply": "2021-06-13T10:47:32.014600Z",
     "shell.execute_reply.started": "2021-06-13T09:05:56.587328Z"
    },
    "papermill": {
     "duration": 0.053723,
     "end_time": "2021-06-13T10:47:32.014742",
     "exception": false,
     "start_time": "2021-06-13T10:47:31.961019",
     "status": "completed"
    },
    "tags": []
   },
   "outputs": [],
   "source": [
    "max_length = 64 # max no. words for each sentence.\n",
    "overlap = 20 # if a sentence exceeds MAX_LENGTH, we split it to multiple sentences with overlapping\n",
    "path_train_nerjson = '/kaggle/input/tdmsci/train_ner.json'\n",
    "pred_save_path = './pred'\n",
    "prediction_file = 'test_predictions.txt'\n",
    "test_input_save_path = './input_data'\n",
    "path_pretrained_scibert = '/kaggle/input/tdmsci/scibert/output' \n",
    "path_pretrained_bert =  '/kaggle/input/tdmsci/results/output' \n",
    "train_file = path_train_nerjson\n",
    "filename_test = 'test_ner_input.json'\n",
    "\n",
    "os.environ[\"MODEL_PATH\"] = f\"{path_pretrained_bert}\"\n",
    "os.environ[\"TRAIN_FILE\"] = f\"{train_file}\"\n",
    "os.environ[\"VALIDATION_FILE\"] = f\"{train_file}\"\n",
    "os.environ[\"TEST_FILE\"] = f\"{test_input_save_path}/{filename_test}\"\n",
    "os.environ[\"OUTPUT_DIR\"] = f\"{pred_save_path}\"\n"
   ]
  },
  {
   "cell_type": "code",
   "execution_count": 21,
   "metadata": {
    "execution": {
     "iopub.execute_input": "2021-06-13T10:47:32.106540Z",
     "iopub.status.busy": "2021-06-13T10:47:32.105817Z",
     "iopub.status.idle": "2021-06-13T10:47:32.772936Z",
     "shell.execute_reply": "2021-06-13T10:47:32.772415Z",
     "shell.execute_reply.started": "2021-06-13T09:05:56.600471Z"
    },
    "papermill": {
     "duration": 0.715169,
     "end_time": "2021-06-13T10:47:32.773060",
     "exception": false,
     "start_time": "2021-06-13T10:47:32.057891",
     "status": "completed"
    },
    "tags": []
   },
   "outputs": [],
   "source": [
    "# copy my_seqeval.py to the working directory because the input directory is non-writable\n",
    "!cp /kaggle/input/coleridge-packages/my_seqeval.py ./\n",
    "os.makedirs(test_input_save_path, exist_ok=True)"
   ]
  },
  {
   "cell_type": "code",
   "execution_count": 22,
   "metadata": {
    "execution": {
     "iopub.execute_input": "2021-06-13T10:47:32.865081Z",
     "iopub.status.busy": "2021-06-13T10:47:32.864351Z",
     "iopub.status.idle": "2021-06-13T10:47:32.867461Z",
     "shell.execute_reply": "2021-06-13T10:47:32.866957Z",
     "shell.execute_reply.started": "2021-06-13T09:05:57.414884Z"
    },
    "papermill": {
     "duration": 0.051546,
     "end_time": "2021-06-13T10:47:32.867578",
     "exception": false,
     "start_time": "2021-06-13T10:47:32.816032",
     "status": "completed"
    },
    "tags": []
   },
   "outputs": [],
   "source": [
    "def predict_scibert_ner():\n",
    "    !python ../input/kaggle-ner-utils/kaggle_run_ner.py \\\n",
    "    --model_name_or_path \"$MODEL_PATH\" \\\n",
    "    --train_file \"$TRAIN_FILE\" \\\n",
    "    --validation_file \"$VALIDATION_FILE\" \\\n",
    "    --test_file \"$TEST_FILE\" \\\n",
    "    --output_dir \"$OUTPUT_DIR\" \\\n",
    "    --report_to 'none' \\\n",
    "    --seed 123 \\\n",
    "    --do_predict"
   ]
  },
  {
   "cell_type": "code",
   "execution_count": 24,
   "metadata": {
    "execution": {
     "iopub.execute_input": "2021-06-13T10:47:33.053379Z",
     "iopub.status.busy": "2021-06-13T10:47:33.052627Z",
     "iopub.status.idle": "2021-06-13T10:48:40.652455Z",
     "shell.execute_reply": "2021-06-13T10:48:40.651136Z",
     "shell.execute_reply.started": "2021-06-13T09:05:57.436688Z"
    },
    "papermill": {
     "duration": 67.651086,
     "end_time": "2021-06-13T10:48:40.652614",
     "exception": false,
     "start_time": "2021-06-13T10:47:33.001528",
     "status": "completed"
    },
    "tags": []
   },
   "outputs": [
    {
     "name": "stdout",
     "output_type": "stream",
     "text": [
      "3079\n",
      "rm: cannot remove './pred': No such file or directory\r\n",
      "2021-06-13 10:47:36.480030: I tensorflow/stream_executor/platform/default/dso_loader.cc:49] Successfully opened dynamic library libcudart.so.10.2\r\n",
      "Downloading and preparing dataset json/default (download: Unknown size, generated: Unknown size, post-processed: Unknown size, total: Unknown size) to /root/.cache/huggingface/datasets/json/default-f9795f4dbbd61a21/0.0.0/83d5b3a2f62630efc6b5315f00f20209b4ad91a00ac586597caee3a4da0bef02...\r\n",
      "Dataset json downloaded and prepared to /root/.cache/huggingface/datasets/json/default-f9795f4dbbd61a21/0.0.0/83d5b3a2f62630efc6b5315f00f20209b4ad91a00ac586597caee3a4da0bef02. Subsequent calls will reuse this data.\r\n",
      "[INFO|configuration_utils.py:470] 2021-06-13 10:48:04,423 >> loading configuration file /kaggle/input/tdmsci/results/output/config.json\r\n",
      "[INFO|configuration_utils.py:508] 2021-06-13 10:48:04,424 >> Model config BertConfig {\r\n",
      "  \"_name_or_path\": \"allenai/scibert_scivocab_cased\",\r\n",
      "  \"architectures\": [\r\n",
      "    \"BertForTokenClassification\"\r\n",
      "  ],\r\n",
      "  \"attention_probs_dropout_prob\": 0.1,\r\n",
      "  \"finetuning_task\": \"ner\",\r\n",
      "  \"gradient_checkpointing\": false,\r\n",
      "  \"hidden_act\": \"gelu\",\r\n",
      "  \"hidden_dropout_prob\": 0.1,\r\n",
      "  \"hidden_size\": 768,\r\n",
      "  \"id2label\": {\r\n",
      "    \"0\": \"LABEL_0\",\r\n",
      "    \"1\": \"LABEL_1\",\r\n",
      "    \"2\": \"LABEL_2\"\r\n",
      "  },\r\n",
      "  \"initializer_range\": 0.02,\r\n",
      "  \"intermediate_size\": 3072,\r\n",
      "  \"label2id\": {\r\n",
      "    \"LABEL_0\": 0,\r\n",
      "    \"LABEL_1\": 1,\r\n",
      "    \"LABEL_2\": 2\r\n",
      "  },\r\n",
      "  \"layer_norm_eps\": 1e-12,\r\n",
      "  \"max_position_embeddings\": 512,\r\n",
      "  \"model_type\": \"bert\",\r\n",
      "  \"num_attention_heads\": 12,\r\n",
      "  \"num_hidden_layers\": 12,\r\n",
      "  \"pad_token_id\": 0,\r\n",
      "  \"position_embedding_type\": \"absolute\",\r\n",
      "  \"transformers_version\": \"4.5.0.dev0\",\r\n",
      "  \"type_vocab_size\": 2,\r\n",
      "  \"use_cache\": true,\r\n",
      "  \"vocab_size\": 31116\r\n",
      "}\r\n",
      "\r\n",
      "[INFO|configuration_utils.py:470] 2021-06-13 10:48:04,424 >> loading configuration file /kaggle/input/tdmsci/results/output/config.json\r\n",
      "[INFO|configuration_utils.py:508] 2021-06-13 10:48:04,425 >> Model config BertConfig {\r\n",
      "  \"_name_or_path\": \"allenai/scibert_scivocab_cased\",\r\n",
      "  \"architectures\": [\r\n",
      "    \"BertForTokenClassification\"\r\n",
      "  ],\r\n",
      "  \"attention_probs_dropout_prob\": 0.1,\r\n",
      "  \"finetuning_task\": \"ner\",\r\n",
      "  \"gradient_checkpointing\": false,\r\n",
      "  \"hidden_act\": \"gelu\",\r\n",
      "  \"hidden_dropout_prob\": 0.1,\r\n",
      "  \"hidden_size\": 768,\r\n",
      "  \"id2label\": {\r\n",
      "    \"0\": \"LABEL_0\",\r\n",
      "    \"1\": \"LABEL_1\",\r\n",
      "    \"2\": \"LABEL_2\"\r\n",
      "  },\r\n",
      "  \"initializer_range\": 0.02,\r\n",
      "  \"intermediate_size\": 3072,\r\n",
      "  \"label2id\": {\r\n",
      "    \"LABEL_0\": 0,\r\n",
      "    \"LABEL_1\": 1,\r\n",
      "    \"LABEL_2\": 2\r\n",
      "  },\r\n",
      "  \"layer_norm_eps\": 1e-12,\r\n",
      "  \"max_position_embeddings\": 512,\r\n",
      "  \"model_type\": \"bert\",\r\n",
      "  \"num_attention_heads\": 12,\r\n",
      "  \"num_hidden_layers\": 12,\r\n",
      "  \"pad_token_id\": 0,\r\n",
      "  \"position_embedding_type\": \"absolute\",\r\n",
      "  \"transformers_version\": \"4.5.0.dev0\",\r\n",
      "  \"type_vocab_size\": 2,\r\n",
      "  \"use_cache\": true,\r\n",
      "  \"vocab_size\": 31116\r\n",
      "}\r\n",
      "\r\n",
      "[INFO|tokenization_utils_base.py:1637] 2021-06-13 10:48:04,427 >> Didn't find file /kaggle/input/tdmsci/results/output/tokenizer.json. We won't load it.\r\n",
      "[INFO|tokenization_utils_base.py:1637] 2021-06-13 10:48:04,427 >> Didn't find file /kaggle/input/tdmsci/results/output/added_tokens.json. We won't load it.\r\n",
      "[INFO|tokenization_utils_base.py:1700] 2021-06-13 10:48:04,430 >> loading file /kaggle/input/tdmsci/results/output/vocab.txt\r\n",
      "[INFO|tokenization_utils_base.py:1700] 2021-06-13 10:48:04,430 >> loading file None\r\n",
      "[INFO|tokenization_utils_base.py:1700] 2021-06-13 10:48:04,430 >> loading file None\r\n",
      "[INFO|tokenization_utils_base.py:1700] 2021-06-13 10:48:04,430 >> loading file /kaggle/input/tdmsci/results/output/special_tokens_map.json\r\n",
      "[INFO|tokenization_utils_base.py:1700] 2021-06-13 10:48:04,430 >> loading file /kaggle/input/tdmsci/results/output/tokenizer_config.json\r\n",
      "[INFO|modeling_utils.py:1049] 2021-06-13 10:48:04,530 >> loading weights file /kaggle/input/tdmsci/results/output/pytorch_model.bin\r\n",
      "[INFO|modeling_utils.py:1167] 2021-06-13 10:48:13,505 >> All model checkpoint weights were used when initializing BertForTokenClassification.\r\n",
      "\r\n",
      "[INFO|modeling_utils.py:1176] 2021-06-13 10:48:13,506 >> All the weights of BertForTokenClassification were initialized from the model checkpoint at /kaggle/input/tdmsci/results/output.\r\n",
      "If your task is similar to the task the model of the checkpoint was trained on, you can already use BertForTokenClassification for predictions without further training.\r\n",
      "[WARNING|tokenization_utils_base.py:2137] 2021-06-13 10:48:13,507 >> Asking to truncate to max_length but no maximum length is provided and the model has no predefined maximum length. Default to no truncation.\r\n",
      "100%|█████████████████████████████████████████████| 4/4 [00:00<00:00,  4.28ba/s]\r\n",
      "[INFO|trainer.py:485] 2021-06-13 10:48:21,313 >> The following columns in the test set  don't have a corresponding argument in `BertForTokenClassification.forward` and have been ignored: tokens, id, tags.\r\n",
      "[INFO|trainer.py:1817] 2021-06-13 10:48:21,314 >> ***** Running Prediction *****\r\n",
      "[INFO|trainer.py:1818] 2021-06-13 10:48:21,314 >>   Num examples = 3079\r\n",
      "[INFO|trainer.py:1819] 2021-06-13 10:48:21,314 >>   Batch size = 8\r\n",
      "100%|█████████████████████████████████████████| 385/385 [00:14<00:00, 27.71it/s]/opt/conda/lib/python3.7/site-packages/seqeval/metrics/v1.py:57: UndefinedMetricWarning: Recall and F-score are ill-defined and being set to 0.0 due to no true samples. Use `zero_division` parameter to control this behavior.\r\n",
      "  _warn_prf(average, modifier, msg_start, len(result))\r\n",
      "[INFO|trainer_pt_utils.py:735] 2021-06-13 10:48:39,583 >> ***** test metrics *****\r\n",
      "[INFO|trainer_pt_utils.py:740] 2021-06-13 10:48:39,583 >>   init_mem_cpu_alloc_delta  =     1568MB\r\n",
      "[INFO|trainer_pt_utils.py:740] 2021-06-13 10:48:39,583 >>   init_mem_cpu_peaked_delta =      306MB\r\n",
      "[INFO|trainer_pt_utils.py:740] 2021-06-13 10:48:39,583 >>   init_mem_gpu_alloc_delta  =      418MB\r\n",
      "[INFO|trainer_pt_utils.py:740] 2021-06-13 10:48:39,583 >>   init_mem_gpu_peaked_delta =        0MB\r\n",
      "[INFO|trainer_pt_utils.py:740] 2021-06-13 10:48:39,583 >>   test_accuracy             =     0.9938\r\n",
      "[INFO|trainer_pt_utils.py:740] 2021-06-13 10:48:39,583 >>   test_f1                   =        0.0\r\n",
      "[INFO|trainer_pt_utils.py:740] 2021-06-13 10:48:39,583 >>   test_loss                 =     0.0434\r\n",
      "[INFO|trainer_pt_utils.py:740] 2021-06-13 10:48:39,583 >>   test_mem_cpu_alloc_delta  =      106MB\r\n",
      "[INFO|trainer_pt_utils.py:740] 2021-06-13 10:48:39,583 >>   test_mem_cpu_peaked_delta =        0MB\r\n",
      "[INFO|trainer_pt_utils.py:740] 2021-06-13 10:48:39,583 >>   test_mem_gpu_alloc_delta  =        0MB\r\n",
      "[INFO|trainer_pt_utils.py:740] 2021-06-13 10:48:39,584 >>   test_mem_gpu_peaked_delta =       75MB\r\n",
      "[INFO|trainer_pt_utils.py:740] 2021-06-13 10:48:39,584 >>   test_precision            =        0.0\r\n",
      "[INFO|trainer_pt_utils.py:740] 2021-06-13 10:48:39,584 >>   test_recall               =        0.0\r\n",
      "[INFO|trainer_pt_utils.py:740] 2021-06-13 10:48:39,584 >>   test_runtime              = 0:00:17.67\r\n",
      "[INFO|trainer_pt_utils.py:740] 2021-06-13 10:48:39,584 >>   test_samples_per_second   =    174.198\r\n",
      "100%|█████████████████████████████████████████| 385/385 [00:17<00:00, 21.92it/s]\r\n"
     ]
    }
   ],
   "source": [
    "bert_outputs = []\n",
    "batch_size = 64000\n",
    "\n",
    "for batch_begin in range(0, len(test_rows), batch_size):#len(test_rows), batch_size):\n",
    "    print(len(test_rows))\n",
    "    # write data rows to input file\n",
    "    with open(f\"{test_input_save_path}/{filename_test}\", 'w') as f:\n",
    "        for row in test_rows[batch_begin:batch_begin+batch_size]:\n",
    "            json.dump(row, f)\n",
    "            f.write('\\n')\n",
    "            \n",
    "    with open(f\"{test_input_save_path}/{filename_test}\", 'r') as f:\n",
    "        content = f.read()\n",
    "        \n",
    "    # remove output dir\n",
    "    !rm -r \"$OUTPUT_DIR\"\n",
    "    \n",
    "    # do predict\n",
    "    predict_scibert_ner()\n",
    "    \n",
    "    # read predictions\n",
    "    with open(f'{pred_save_path}/{prediction_file}') as f:\n",
    "        this_preds = f.read().split('\\n')[:-1]\n",
    "        bert_outputs += [pred.split() for pred in this_preds]"
   ]
  },
  {
   "cell_type": "markdown",
   "metadata": {
    "papermill": {
     "duration": 0.080921,
     "end_time": "2021-06-13T10:48:40.982692",
     "exception": false,
     "start_time": "2021-06-13T10:48:40.901771",
     "status": "completed"
    },
    "tags": []
   },
   "source": [
    "## 6.4. Restore labels\n",
    "After prediction, we need to restore the labels to actual words, with the use of the earleir defined paper lengths"
   ]
  },
  {
   "cell_type": "code",
   "execution_count": 26,
   "metadata": {
    "execution": {
     "iopub.execute_input": "2021-06-13T10:48:41.164991Z",
     "iopub.status.busy": "2021-06-13T10:48:41.153947Z",
     "iopub.status.idle": "2021-06-13T10:48:41.183172Z",
     "shell.execute_reply": "2021-06-13T10:48:41.182335Z",
     "shell.execute_reply.started": "2021-06-13T09:07:16.768132Z"
    },
    "papermill": {
     "duration": 0.120867,
     "end_time": "2021-06-13T10:48:41.183290",
     "exception": false,
     "start_time": "2021-06-13T10:48:41.062423",
     "status": "completed"
    },
    "tags": []
   },
   "outputs": [
    {
     "name": "stdout",
     "output_type": "stream",
     "text": [
      "14\n",
      "38\n",
      "46\n",
      "61\n",
      "2\n",
      "26\n",
      "41\n",
      "29\n",
      "43\n",
      "14\n",
      "38\n",
      "56\n",
      "40\n",
      "25\n",
      "6\n",
      "19\n",
      "43\n",
      "38\n",
      "20\n",
      "15\n",
      "25\n",
      "41\n",
      "6\n",
      "24\n",
      "22\n",
      "16\n",
      "19\n",
      "16\n",
      "62\n",
      "31\n",
      "28\n",
      "18\n",
      "27\n",
      "5\n",
      "28\n",
      "26\n",
      "36\n",
      "24\n",
      "14\n",
      "23\n",
      "14\n",
      "42\n",
      "24\n",
      "21\n",
      "89\n",
      "36\n",
      "65\n",
      "30\n",
      "21\n",
      "31\n",
      "96\n",
      "21\n",
      "42\n",
      "2\n",
      "1\n",
      "47\n",
      "15\n",
      "47\n",
      "36\n",
      "13\n",
      "106\n",
      "11\n",
      "10\n",
      "35\n",
      "26\n",
      "53\n",
      "23\n",
      "28\n",
      "26\n",
      "41\n",
      "45\n",
      "28\n",
      "8\n",
      "11\n",
      "15\n",
      "26\n",
      "33\n",
      "33\n",
      "31\n",
      "21\n",
      "22\n",
      "13\n",
      "10\n",
      "7\n",
      "23\n",
      "1\n",
      "7\n",
      "48\n",
      "28\n",
      "21\n",
      "10\n",
      "45\n",
      "38\n",
      "71\n",
      "41\n",
      "23\n",
      "12\n",
      "200\n",
      "27\n",
      "24\n"
     ]
    }
   ],
   "source": [
    "\n",
    "test_sentences = [row['tokens'] for row in test_rows]\n",
    "\n",
    "bert_dataset_labels = [] # store all dataset labels for each publication\n",
    "\n",
    "for length in paper_lengths:\n",
    "    print(length)\n",
    "    labels = set()\n",
    "    for sentence, pred in zip(test_sentences[:length], bert_outputs[:length]):\n",
    "        curr_phrase = ''\n",
    "        for word, tag in zip(sentence, pred):\n",
    "            if tag == 'B-DATASET': # start a new phrase\n",
    "                if curr_phrase:\n",
    "                    labels.add(curr_phrase)\n",
    "                    curr_phrase = ''\n",
    "                curr_phrase = word\n",
    "            elif tag == 'I-DATASET' and curr_phrase: # continue the phrase\n",
    "                curr_phrase += ' ' + word\n",
    "            else: # end last phrase (if any)\n",
    "                if curr_phrase:\n",
    "                    labels.add(curr_phrase)\n",
    "                    curr_phrase = ''\n",
    "        # check if the label is the suffix of the sentence\n",
    "        if curr_phrase:\n",
    "            labels.add(curr_phrase)\n",
    "            curr_phrase = ''\n",
    "    \n",
    "    # record dataset labels for this publication\n",
    "    bert_dataset_labels.append(labels)\n",
    "    \n",
    "    del test_sentences[:length], bert_outputs[:length]\n",
    "\n",
    "\n"
   ]
  },
  {
   "cell_type": "code",
   "execution_count": 27,
   "metadata": {
    "execution": {
     "iopub.execute_input": "2021-06-13T10:48:41.382448Z",
     "iopub.status.busy": "2021-06-13T10:48:41.381039Z",
     "iopub.status.idle": "2021-06-13T10:48:41.391456Z",
     "shell.execute_reply": "2021-06-13T10:48:41.392849Z",
     "shell.execute_reply.started": "2021-06-13T09:07:16.825324Z"
    },
    "papermill": {
     "duration": 0.126399,
     "end_time": "2021-06-13T10:48:41.393063",
     "exception": false,
     "start_time": "2021-06-13T10:48:41.266664",
     "status": "completed"
    },
    "tags": []
   },
   "outputs": [
    {
     "data": {
      "text/plain": [
       "[set(),\n",
       " {'Trends in International Mathematics and Science Study'},\n",
       " set(),\n",
       " {'ADNI', 'Alzheimer s Disease Neuroimaging Initiative ADNI'},\n",
       " set()]"
      ]
     },
     "execution_count": 27,
     "metadata": {},
     "output_type": "execute_result"
    }
   ],
   "source": [
    "bert_dataset_labels[:5]\n"
   ]
  },
  {
   "cell_type": "markdown",
   "metadata": {},
   "source": [
    "## 6.5. Filter results\n",
    "We filter the reults by first looking at the jaccard simalirty between the predicted labels, to not get nearly-duplicates.\n",
    "After this, we match our results to the literal matching list defined earlier in this notebook. In case a literal match is present for a predicted label, the literal match will be taken as final output."
   ]
  },
  {
   "cell_type": "code",
   "execution_count": 28,
   "metadata": {
    "execution": {
     "iopub.execute_input": "2021-06-13T10:48:41.674014Z",
     "iopub.status.busy": "2021-06-13T10:48:41.672522Z",
     "iopub.status.idle": "2021-06-13T10:48:41.674768Z",
     "shell.execute_reply": "2021-06-13T10:48:41.673115Z",
     "shell.execute_reply.started": "2021-06-13T09:07:16.839636Z"
    },
    "papermill": {
     "duration": 0.15162,
     "end_time": "2021-06-13T10:48:41.674935",
     "exception": false,
     "start_time": "2021-06-13T10:48:41.523315",
     "status": "completed"
    },
    "tags": []
   },
   "outputs": [],
   "source": [
    "def jaccard_similarity(s1, s2):\n",
    "    l1 = s1.split(\" \")\n",
    "    l2 = s2.split(\" \")    \n",
    "    intersection = len(list(set(l1).intersection(l2)))\n",
    "    union = (len(l1) + len(l2)) - intersection\n",
    "    return float(intersection) / union\n",
    "\n",
    "filtered_bert_labels = []\n",
    "\n",
    "for labels in bert_dataset_labels:\n",
    "    filtered = []\n",
    "    \n",
    "    for label in sorted(labels, key=len):\n",
    "        label = clean_text(label)\n",
    "        if len(filtered) == 0 or all(jaccard_similarity(label, got_label) < 0.75 for got_label in filtered):\n",
    "            filtered.append(label)\n",
    "    \n",
    "    filtered_bert_labels.append('|'.join(filtered))"
   ]
  },
  {
   "cell_type": "code",
   "execution_count": 29,
   "metadata": {
    "execution": {
     "iopub.execute_input": "2021-06-13T10:48:41.942546Z",
     "iopub.status.busy": "2021-06-13T10:48:41.941794Z",
     "iopub.status.idle": "2021-06-13T10:48:41.947769Z",
     "shell.execute_reply": "2021-06-13T10:48:41.948332Z",
     "shell.execute_reply.started": "2021-06-13T09:07:16.860673Z"
    },
    "papermill": {
     "duration": 0.147276,
     "end_time": "2021-06-13T10:48:41.948512",
     "exception": false,
     "start_time": "2021-06-13T10:48:41.801236",
     "status": "completed"
    },
    "tags": []
   },
   "outputs": [
    {
     "data": {
      "text/plain": [
       "['',\n",
       " 'trends in international mathematics and science study',\n",
       " '',\n",
       " 'adni|alzheimer s disease neuroimaging initiative adni',\n",
       " '',\n",
       " 'adni|alzheimer s disease neuroimaging initiative adni',\n",
       " 'early childhood longitudinal study',\n",
       " 'baltimore longitudinal study of aging',\n",
       " '',\n",
       " 'baltimore longitudinal study of aging',\n",
       " 'baltimore longitudinal study of aging',\n",
       " 'adni|alzheimer s disease neuroimaging initiative adni',\n",
       " 'adni',\n",
       " 'baltimore longitudinal study of aging',\n",
       " 'adni',\n",
       " '',\n",
       " 'adni|alzheimer s disease neuroimaging initiative adni',\n",
       " 'adni',\n",
       " 'beginning postsecondary students',\n",
       " '',\n",
       " 'covid 19 death data|covid 19 mortality data',\n",
       " 'early childhood longitudinal study',\n",
       " '',\n",
       " 'early childhood longitudinal study|national education longitudinal study',\n",
       " '',\n",
       " 'survey of earned doctorates',\n",
       " 'education longitudinal study',\n",
       " '',\n",
       " '',\n",
       " 'adni|alzheimer s disease neuroimaging initiative adni',\n",
       " 'adni|alzheimer s disease neuroimaging initiative adni',\n",
       " '',\n",
       " 'agricultural resource management survey',\n",
       " 'survey of earned doctorates|survey of doctorate recipients',\n",
       " 'adni',\n",
       " 'education longitudinal study',\n",
       " '',\n",
       " 'baltimore longitudinal study of aging',\n",
       " 'survey of earned doctorates',\n",
       " 'baltimore longitudinal study of aging',\n",
       " '',\n",
       " 'school survey on crime and safety',\n",
       " 'rural urban continuum codes',\n",
       " 'census of agriculture',\n",
       " 'slosh model|noaa tide gauge',\n",
       " 'trends in international mathematics and science study',\n",
       " 'covid 19 open research dataset',\n",
       " 'trends in international mathematics and science study',\n",
       " 'sars cov 2 genome sequences',\n",
       " 'world ocean database',\n",
       " '',\n",
       " 'adni',\n",
       " 'noaa tide gauge',\n",
       " '',\n",
       " '',\n",
       " 'adni|alzheimer s disease neuroimaging initiative adni',\n",
       " 'noaa tide gauge',\n",
       " '',\n",
       " 'trends in international mathematics and science study',\n",
       " 'baltimore longitudinal study of aging',\n",
       " 'world ocean database|climate change initiative program',\n",
       " '',\n",
       " 'alzheimer s disease neuroimaging initiative adni',\n",
       " 'national assessment of education progress',\n",
       " 'baccalaureate and beyond',\n",
       " '',\n",
       " 'baltimore longitudinal study of aging',\n",
       " '',\n",
       " 'covid image dataset|covid 19 image data collection',\n",
       " 'adni',\n",
       " 'world ocean database',\n",
       " '',\n",
       " '',\n",
       " '',\n",
       " 'adni',\n",
       " 'alzheimer s disease neuroimaging initiative adni',\n",
       " 'covid 19 open research dataset',\n",
       " 'trends in international mathematics and science study',\n",
       " 'adni|alzheimer s disease neuroimaging initiative adni',\n",
       " '',\n",
       " 'adni',\n",
       " 'agricultural resource management survey',\n",
       " 'census of agriculture',\n",
       " 'early childhood longitudinal study',\n",
       " 'adni|alzheimer s disease neuroimaging initiative adni',\n",
       " '',\n",
       " '',\n",
       " 'education longitudinal study|early childhood longitudinal study',\n",
       " '',\n",
       " '',\n",
       " '',\n",
       " 'adni|alzheimer s disease neuroimaging initiative adni',\n",
       " 'alzheimer s disease neuroimaging initiative adni',\n",
       " 'adni',\n",
       " 'alzheimer s disease neuroimaging initiative adni',\n",
       " '',\n",
       " 'agricultural resource management survey',\n",
       " 'adni|alzheimer s disease neuroimaging initiative adni',\n",
       " 'adni|alzheimer s disease neuroimaging initiative adni',\n",
       " 'national education longitudinal study']"
      ]
     },
     "execution_count": 29,
     "metadata": {},
     "output_type": "execute_result"
    }
   ],
   "source": [
    "filtered_bert_labels[:100]\n"
   ]
  },
  {
   "cell_type": "code",
   "execution_count": 30,
   "metadata": {
    "execution": {
     "iopub.execute_input": "2021-06-13T10:48:42.476106Z",
     "iopub.status.busy": "2021-06-13T10:48:42.475170Z",
     "iopub.status.idle": "2021-06-13T10:48:42.478620Z",
     "shell.execute_reply": "2021-06-13T10:48:42.479162Z",
     "shell.execute_reply.started": "2021-06-13T09:07:16.884649Z"
    },
    "papermill": {
     "duration": 0.117722,
     "end_time": "2021-06-13T10:48:42.479303",
     "exception": false,
     "start_time": "2021-06-13T10:48:42.361581",
     "status": "completed"
    },
    "tags": []
   },
   "outputs": [
    {
     "name": "stdout",
     "output_type": "stream",
     "text": [
      "Adding literal matching!\n"
     ]
    }
   ],
   "source": [
    "\n",
    "if(not onlyBert):\n",
    "    print(\"Adding literal matching!\")\n",
    "    final_predictions = []\n",
    "    for literal_match, bert_pred in zip(literal_preds, filtered_bert_labels):\n",
    "        if literal_match:\n",
    "            final_predictions.append(literal_match)\n",
    "        else:\n",
    "            final_predictions.append(bert_pred)\n",
    "else:\n",
    "    print(\"No literal matching!\")\n",
    "    final_predictions = filtered_bert_labels"
   ]
  },
  {
   "cell_type": "code",
   "execution_count": 31,
   "metadata": {
    "execution": {
     "iopub.execute_input": "2021-06-13T10:48:42.653094Z",
     "iopub.status.busy": "2021-06-13T10:48:42.652280Z",
     "iopub.status.idle": "2021-06-13T10:48:42.656137Z",
     "shell.execute_reply": "2021-06-13T10:48:42.656567Z",
     "shell.execute_reply.started": "2021-06-13T09:07:16.898035Z"
    },
    "papermill": {
     "duration": 0.092815,
     "end_time": "2021-06-13T10:48:42.656694",
     "exception": false,
     "start_time": "2021-06-13T10:48:42.563879",
     "status": "completed"
    },
    "tags": []
   },
   "outputs": [
    {
     "data": {
      "text/plain": [
       "['program for the international assessment of adult competencies',\n",
       " 'trends in international mathematics and science study',\n",
       " 'agricultural resources management survey',\n",
       " 'adni|alzheimer s disease neuroimaging initiative adni',\n",
       " 'genome sequence of covid 19',\n",
       " 'adni|alzheimer s disease neuroimaging initiative adni',\n",
       " 'early childhood longitudinal study|national assessment of educational progress',\n",
       " 'baltimore longitudinal study of aging|baltimore longitudinal study of aging blsa',\n",
       " 'noaa tide gauge',\n",
       " 'baltimore longitudinal study of aging|baltimore longitudinal study of aging blsa',\n",
       " 'baltimore longitudinal study of aging|baltimore longitudinal study of aging blsa',\n",
       " 'adni|alzheimer s disease neuroimaging initiative adni',\n",
       " 'adni',\n",
       " 'baltimore longitudinal study of aging|baltimore longitudinal study of aging blsa',\n",
       " 'adni',\n",
       " 'noaa optimum interpolation sea surface temperature|optimum interpolation sea surface temperature',\n",
       " 'adni|alzheimer s disease neuroimaging initiative adni',\n",
       " 'adni|alzheimer s disease neuroimaging initiative adni',\n",
       " 'integrated postsecondary education data system|beginning postsecondary student|beginning postsecondary students',\n",
       " 'slosh model',\n",
       " 'covid 19 death data',\n",
       " 'early childhood longitudinal study',\n",
       " 'ibtracs|international best track archive for climate stewardship',\n",
       " 'national education longitudinal study|education longitudinal study|early childhood longitudinal study',\n",
       " 'survey of earned doctorates',\n",
       " 'survey of earned doctorates',\n",
       " 'national education longitudinal study|education longitudinal study',\n",
       " 'adni',\n",
       " 'adni',\n",
       " 'adni|alzheimer s disease neuroimaging initiative adni',\n",
       " 'adni|alzheimer s disease neuroimaging initiative adni',\n",
       " 'adni|alzheimer s disease neuroimaging initiative adni',\n",
       " 'census of agriculture|agricultural resource management survey',\n",
       " 'survey of doctorate recipients|survey of earned doctorates',\n",
       " 'adni',\n",
       " 'national education longitudinal study|education longitudinal study',\n",
       " 'rural urban continuum codes',\n",
       " 'baltimore longitudinal study of aging',\n",
       " 'survey of earned doctorates',\n",
       " 'baltimore longitudinal study of aging',\n",
       " 'rural urban continuum codes',\n",
       " 'school survey on crime and safety',\n",
       " 'rural urban continuum codes',\n",
       " 'census of agriculture',\n",
       " 'noaa tide station|slosh model|noaa tide gauge|sea lake and overland surges from hurricanes',\n",
       " 'trends in international mathematics and science study',\n",
       " 'covid 19 open research data|covid 19 open research dataset',\n",
       " 'trends in international mathematics and science study',\n",
       " 'sars cov 2 genome sequence|sars cov 2 genome sequences',\n",
       " 'world ocean database',\n",
       " 'rural urban continuum codes',\n",
       " 'adni',\n",
       " 'noaa tide gauge',\n",
       " 'agricultural resource management survey',\n",
       " 'national assessment of education progress|national assessment of educational progress',\n",
       " 'adni|alzheimer s disease neuroimaging initiative adni',\n",
       " 'noaa tide gauge',\n",
       " 'national assessment of education progress',\n",
       " 'trends in international mathematics and science study',\n",
       " 'baltimore longitudinal study of aging|baltimore longitudinal study of aging blsa',\n",
       " 'world ocean database',\n",
       " 'slosh model',\n",
       " 'adni|alzheimer s disease neuroimaging initiative adni',\n",
       " 'national assessment of education progress',\n",
       " 'baccalaureate and beyond|national survey of family growth',\n",
       " 'adni',\n",
       " 'baltimore longitudinal study of aging|baltimore longitudinal study of aging blsa',\n",
       " 'national science foundation survey of earned doctorates|survey of earned doctorates',\n",
       " 'covid 19 image data collection',\n",
       " 'adni',\n",
       " 'world ocean database',\n",
       " 'national assessment of education progress',\n",
       " 'rural urban continuum codes',\n",
       " 'adni|alzheimer s disease neuroimaging initiative adni',\n",
       " 'adni',\n",
       " 'adni|alzheimer s disease neuroimaging initiative adni',\n",
       " 'covid 19 open research data|covid 19 open research dataset',\n",
       " 'trends in international mathematics and science study',\n",
       " 'adni|alzheimer s disease neuroimaging initiative adni',\n",
       " 'adni|alzheimer s disease neuroimaging initiative adni',\n",
       " 'adni',\n",
       " 'agricultural resource management survey',\n",
       " 'census of agriculture',\n",
       " 'early childhood longitudinal study',\n",
       " 'adni|alzheimer s disease neuroimaging initiative adni',\n",
       " 'noaa tide gauge',\n",
       " 'sars cov 2 full genome sequence|sars cov 2 full genome sequences',\n",
       " 'national education longitudinal study|education longitudinal study|head start impact study|early childhood longitudinal study',\n",
       " 'adni|alzheimer s disease neuroimaging initiative adni',\n",
       " 'coastal change analysis program',\n",
       " 'survey of industrial research and development',\n",
       " 'adni|alzheimer s disease neuroimaging initiative adni',\n",
       " 'adni|alzheimer s disease neuroimaging initiative adni',\n",
       " 'adni',\n",
       " 'adni|alzheimer s disease neuroimaging initiative adni',\n",
       " 'adni',\n",
       " 'agricultural resource management survey',\n",
       " 'national database for autism research ndar|adni|alzheimer s disease neuroimaging initiative adni',\n",
       " 'adni|alzheimer s disease neuroimaging initiative adni',\n",
       " 'national education longitudinal study|education longitudinal study']"
      ]
     },
     "execution_count": 31,
     "metadata": {},
     "output_type": "execute_result"
    }
   ],
   "source": [
    "final_predictions[0:100]\n"
   ]
  },
  {
   "cell_type": "markdown",
   "metadata": {},
   "source": [
    "## 6.6. Generate submission file"
   ]
  },
  {
   "cell_type": "code",
   "execution_count": 32,
   "metadata": {
    "execution": {
     "iopub.execute_input": "2021-06-13T10:48:42.825457Z",
     "iopub.status.busy": "2021-06-13T10:48:42.823898Z",
     "iopub.status.idle": "2021-06-13T10:48:42.826203Z",
     "shell.execute_reply": "2021-06-13T10:48:42.826669Z",
     "shell.execute_reply.started": "2021-06-13T09:07:16.913795Z"
    },
    "papermill": {
     "duration": 0.088909,
     "end_time": "2021-06-13T10:48:42.826811",
     "exception": false,
     "start_time": "2021-06-13T10:48:42.737902",
     "status": "completed"
    },
    "tags": []
   },
   "outputs": [],
   "source": [
    "#In case of submission\n",
    "if(not computeFBeta):\n",
    "    sample_submission['PredictionString'] = final_predictions\n",
    "    sample_submission.head()\n",
    "    "
   ]
  },
  {
   "cell_type": "code",
   "execution_count": 33,
   "metadata": {
    "execution": {
     "iopub.execute_input": "2021-06-13T10:48:42.995032Z",
     "iopub.status.busy": "2021-06-13T10:48:42.994437Z",
     "iopub.status.idle": "2021-06-13T10:48:42.998339Z",
     "shell.execute_reply": "2021-06-13T10:48:42.997639Z",
     "shell.execute_reply.started": "2021-06-13T09:07:16.925106Z"
    },
    "papermill": {
     "duration": 0.089444,
     "end_time": "2021-06-13T10:48:42.998455",
     "exception": false,
     "start_time": "2021-06-13T10:48:42.909011",
     "status": "completed"
    },
    "tags": []
   },
   "outputs": [],
   "source": [
    "#In case of submission\n",
    "if(not computeFBeta):\n",
    "    sample_submission.to_csv(f'submission.csv', index=False)"
   ]
  },
  {
   "cell_type": "markdown",
   "metadata": {},
   "source": [
    "## 6.7. Perform validation\n",
    "In Part I of this set of notebooks, we left the first 100 papers out for validation. Here,  we perfrom evaluation on the first 100 papers by computing the Jaccard-based FBeta score."
   ]
  },
  {
   "cell_type": "code",
   "execution_count": 34,
   "metadata": {
    "execution": {
     "iopub.execute_input": "2021-06-13T10:48:43.171383Z",
     "iopub.status.busy": "2021-06-13T10:48:43.170577Z",
     "iopub.status.idle": "2021-06-13T10:48:43.173265Z",
     "shell.execute_reply": "2021-06-13T10:48:43.172860Z",
     "shell.execute_reply.started": "2021-06-13T09:07:16.935889Z"
    },
    "papermill": {
     "duration": 0.093201,
     "end_time": "2021-06-13T10:48:43.173375",
     "exception": false,
     "start_time": "2021-06-13T10:48:43.080174",
     "status": "completed"
    },
    "tags": []
   },
   "outputs": [],
   "source": [
    "def compute_fbeta(y_true: List[List[str]],\n",
    "                  y_pred: List[List[str]],\n",
    "                  beta: float = 0.5) -> float:\n",
    "    \"\"\"Compute the Jaccard-based micro FBeta score.\n",
    "\n",
    "    References\n",
    "    ----------\n",
    "    - https://www.kaggle.com/c/coleridgeinitiative-show-us-the-data/overview/evaluation\n",
    "    \"\"\"\n",
    "\n",
    "    def _jaccard_similarity(str1: str, str2: str) -> float:\n",
    "        a = set(str1.split()) \n",
    "        b = set(str2.split())\n",
    "        c = a.intersection(b)\n",
    "        return float(len(c)) / (len(a) + len(b) - len(c))\n",
    "\n",
    "    tp = 0  # true positive\n",
    "    fp = 0  # false positive\n",
    "    fn = 0  # false negative\n",
    "    for ground_truth_list, predicted_string_list in zip(y_true, y_pred):\n",
    "        \n",
    "\n",
    "        predicted_string_list_sorted = sorted(predicted_string_list)\n",
    "        for ground_truth in sorted(ground_truth_list):         \n",
    "\n",
    "            if len(predicted_string_list_sorted) == 0:\n",
    "                fn += 1\n",
    "            else:\n",
    "                similarity_scores = [\n",
    "                    _jaccard_similarity(ground_truth, predicted_string)\n",
    "                    for predicted_string in predicted_string_list_sorted\n",
    "                ]\n",
    "                matched_idx = np.argmax(similarity_scores)\n",
    "                if similarity_scores[matched_idx] >= 0.5:\n",
    "                    predicted_string_list_sorted.pop(matched_idx)\n",
    "                    tp += 1\n",
    "                else:\n",
    "                    fn += 1\n",
    "        fp += len(predicted_string_list_sorted)\n",
    "\n",
    "    tp *= (1 + beta ** 2)\n",
    "    fn *= beta ** 2\n",
    "    fbeta_score = tp / (tp+ fp + fn)\n",
    "    return fbeta_score"
   ]
  },
  {
   "cell_type": "code",
   "execution_count": 35,
   "metadata": {
    "execution": {
     "iopub.execute_input": "2021-06-13T10:48:43.343135Z",
     "iopub.status.busy": "2021-06-13T10:48:43.342413Z",
     "iopub.status.idle": "2021-06-13T10:48:43.345262Z",
     "shell.execute_reply": "2021-06-13T10:48:43.344853Z",
     "shell.execute_reply.started": "2021-06-13T09:08:53.923252Z"
    },
    "papermill": {
     "duration": 0.08928,
     "end_time": "2021-06-13T10:48:43.345374",
     "exception": false,
     "start_time": "2021-06-13T10:48:43.256094",
     "status": "completed"
    },
    "tags": []
   },
   "outputs": [],
   "source": [
    "def getTrainLabels(ids, final_predictions, label_df):\n",
    "    labels = []\n",
    "    for paper_id in ids:\n",
    "        \n",
    "        \n",
    "        \n",
    "        value = label_df.loc[label_df['Id'] == paper_id]\n",
    "        cleanedLabel = value[\"cleaned_label\"].values\n",
    "        labels.append(cleanedLabel)\n",
    "    return labels\n",
    "      "
   ]
  },
  {
   "cell_type": "code",
   "execution_count": 36,
   "metadata": {
    "execution": {
     "iopub.execute_input": "2021-06-13T10:48:43.520915Z",
     "iopub.status.busy": "2021-06-13T10:48:43.520042Z",
     "iopub.status.idle": "2021-06-13T10:48:43.730302Z",
     "shell.execute_reply": "2021-06-13T10:48:43.730696Z",
     "shell.execute_reply.started": "2021-06-13T09:08:54.119843Z"
    },
    "papermill": {
     "duration": 0.30154,
     "end_time": "2021-06-13T10:48:43.730859",
     "exception": false,
     "start_time": "2021-06-13T10:48:43.429319",
     "status": "completed"
    },
    "tags": []
   },
   "outputs": [
    {
     "name": "stdout",
     "output_type": "stream",
     "text": [
      "[array(['program for the international assessment of adult competencies'],\n",
      "      dtype=object), array(['trends in international mathematics and science study'],\n",
      "      dtype=object), array(['agricultural resources management survey'], dtype=object), array(['adni|alzheimer s disease neuroimaging initiative adni '],\n",
      "      dtype=object), array(['genome sequence of covid 19'], dtype=object), array(['adni|alzheimer s disease neuroimaging initiative adni '],\n",
      "      dtype=object), array(['early childhood longitudinal study'], dtype=object), array(['baltimore longitudinal study of aging blsa |baltimore longitudinal study of aging'],\n",
      "      dtype=object), array(['noaa tide gauge'], dtype=object), array(['baltimore longitudinal study of aging'], dtype=object), array(['baltimore longitudinal study of aging blsa |baltimore longitudinal study of aging'],\n",
      "      dtype=object), array(['adni|alzheimer s disease neuroimaging initiative adni '],\n",
      "      dtype=object), array(['adni'], dtype=object), array(['baltimore longitudinal study of aging blsa |baltimore longitudinal study of aging'],\n",
      "      dtype=object), array(['adni'], dtype=object), array(['optimum interpolation sea surface temperature|noaa optimum interpolation sea surface temperature'],\n",
      "      dtype=object), array(['adni|alzheimer s disease neuroimaging initiative adni '],\n",
      "      dtype=object), array(['adni|alzheimer s disease neuroimaging initiative adni '],\n",
      "      dtype=object), array(['beginning postsecondary students'], dtype=object), array(['slosh model'], dtype=object), array(['covid 19 death data'], dtype=object), array(['early childhood longitudinal study'], dtype=object), array(['international best track archive for climate stewardship'],\n",
      "      dtype=object), array(['national education longitudinal study|early childhood longitudinal study|education longitudinal study'],\n",
      "      dtype=object), array(['survey of earned doctorates'], dtype=object), array(['survey of earned doctorates'], dtype=object), array(['education longitudinal study|national education longitudinal study'],\n",
      "      dtype=object), array(['adni'], dtype=object), array(['adni'], dtype=object), array(['adni|alzheimer s disease neuroimaging initiative adni '],\n",
      "      dtype=object), array(['adni'], dtype=object), array(['adni|alzheimer s disease neuroimaging initiative adni '],\n",
      "      dtype=object), array(['agricultural resource management survey'], dtype=object), array(['survey of earned doctorates|survey of doctorate recipients'],\n",
      "      dtype=object), array(['adni'], dtype=object), array(['national education longitudinal study|education longitudinal study'],\n",
      "      dtype=object), array(['rural urban continuum codes'], dtype=object), array(['baltimore longitudinal study of aging'], dtype=object), array(['survey of earned doctorates'], dtype=object), array(['baltimore longitudinal study of aging'], dtype=object), array(['rural urban continuum codes'], dtype=object), array(['school survey on crime and safety'], dtype=object), array(['rural urban continuum codes'], dtype=object), array(['census of agriculture'], dtype=object), array(['slosh model|noaa tide station|noaa tide gauge'], dtype=object), array(['trends in international mathematics and science study'],\n",
      "      dtype=object), array(['covid 19 open research dataset'], dtype=object), array(['trends in international mathematics and science study'],\n",
      "      dtype=object), array(['sars cov 2 genome sequence|sars cov 2 genome sequences'],\n",
      "      dtype=object), array(['world ocean database'], dtype=object), array(['rural urban continuum codes'], dtype=object), array(['adni'], dtype=object), array(['noaa tide gauge'], dtype=object), array(['agricultural resource management survey'], dtype=object), array(['national assessment of education progress'], dtype=object), array(['alzheimer s disease neuroimaging initiative adni '], dtype=object), array(['noaa tide gauge'], dtype=object), array(['national assessment of education progress'], dtype=object), array(['trends in international mathematics and science study'],\n",
      "      dtype=object), array(['baltimore longitudinal study of aging blsa |baltimore longitudinal study of aging'],\n",
      "      dtype=object), array(['world ocean database'], dtype=object), array(['slosh model'], dtype=object), array(['adni|alzheimer s disease neuroimaging initiative adni '],\n",
      "      dtype=object), array(['national assessment of education progress'], dtype=object), array(['baccalaureate and beyond'], dtype=object), array(['adni'], dtype=object), array(['baltimore longitudinal study of aging blsa |baltimore longitudinal study of aging'],\n",
      "      dtype=object), array(['national science foundation survey of earned doctorates|survey of earned doctorates'],\n",
      "      dtype=object), array(['covid 19 image data collection'], dtype=object), array(['adni'], dtype=object), array(['world ocean database'], dtype=object), array(['national assessment of education progress'], dtype=object), array(['rural urban continuum codes'], dtype=object), array(['adni|alzheimer s disease neuroimaging initiative adni '],\n",
      "      dtype=object), array(['adni'], dtype=object), array(['adni|alzheimer s disease neuroimaging initiative adni '],\n",
      "      dtype=object), array(['covid 19 open research dataset'], dtype=object), array(['trends in international mathematics and science study'],\n",
      "      dtype=object), array(['alzheimer s disease neuroimaging initiative adni '], dtype=object), array(['adni'], dtype=object), array(['adni'], dtype=object), array(['agricultural resource management survey'], dtype=object), array(['census of agriculture'], dtype=object), array(['early childhood longitudinal study'], dtype=object), array(['adni|alzheimer s disease neuroimaging initiative adni '],\n",
      "      dtype=object), array(['noaa tide gauge'], dtype=object), array(['sars cov 2 full genome sequences'], dtype=object), array(['national education longitudinal study|early childhood longitudinal study|education longitudinal study'],\n",
      "      dtype=object), array(['adni|alzheimer s disease neuroimaging initiative adni '],\n",
      "      dtype=object), array(['coastal change analysis program'], dtype=object), array(['survey of industrial research and development'], dtype=object), array(['adni|alzheimer s disease neuroimaging initiative adni '],\n",
      "      dtype=object), array(['adni|alzheimer s disease neuroimaging initiative adni '],\n",
      "      dtype=object), array(['adni'], dtype=object), array(['adni|alzheimer s disease neuroimaging initiative adni '],\n",
      "      dtype=object), array(['adni'], dtype=object), array(['agricultural resource management survey'], dtype=object), array(['adni|alzheimer s disease neuroimaging initiative adni '],\n",
      "      dtype=object), array(['adni|alzheimer s disease neuroimaging initiative adni '],\n",
      "      dtype=object), array(['education longitudinal study|national education longitudinal study'],\n",
      "      dtype=object)]\n",
      "['program for the international assessment of adult competencies', 'trends in international mathematics and science study', 'agricultural resources management survey', 'adni|alzheimer s disease neuroimaging initiative adni', 'genome sequence of covid 19', 'adni|alzheimer s disease neuroimaging initiative adni', 'early childhood longitudinal study|national assessment of educational progress', 'baltimore longitudinal study of aging|baltimore longitudinal study of aging blsa', 'noaa tide gauge', 'baltimore longitudinal study of aging|baltimore longitudinal study of aging blsa', 'baltimore longitudinal study of aging|baltimore longitudinal study of aging blsa', 'adni|alzheimer s disease neuroimaging initiative adni', 'adni', 'baltimore longitudinal study of aging|baltimore longitudinal study of aging blsa', 'adni', 'noaa optimum interpolation sea surface temperature|optimum interpolation sea surface temperature', 'adni|alzheimer s disease neuroimaging initiative adni', 'adni|alzheimer s disease neuroimaging initiative adni', 'integrated postsecondary education data system|beginning postsecondary student|beginning postsecondary students', 'slosh model', 'covid 19 death data', 'early childhood longitudinal study', 'ibtracs|international best track archive for climate stewardship', 'national education longitudinal study|education longitudinal study|early childhood longitudinal study', 'survey of earned doctorates', 'survey of earned doctorates', 'national education longitudinal study|education longitudinal study', 'adni', 'adni', 'adni|alzheimer s disease neuroimaging initiative adni', 'adni|alzheimer s disease neuroimaging initiative adni', 'adni|alzheimer s disease neuroimaging initiative adni', 'census of agriculture|agricultural resource management survey', 'survey of doctorate recipients|survey of earned doctorates', 'adni', 'national education longitudinal study|education longitudinal study', 'rural urban continuum codes', 'baltimore longitudinal study of aging', 'survey of earned doctorates', 'baltimore longitudinal study of aging', 'rural urban continuum codes', 'school survey on crime and safety', 'rural urban continuum codes', 'census of agriculture', 'noaa tide station|slosh model|noaa tide gauge|sea lake and overland surges from hurricanes', 'trends in international mathematics and science study', 'covid 19 open research data|covid 19 open research dataset', 'trends in international mathematics and science study', 'sars cov 2 genome sequence|sars cov 2 genome sequences', 'world ocean database', 'rural urban continuum codes', 'adni', 'noaa tide gauge', 'agricultural resource management survey', 'national assessment of education progress|national assessment of educational progress', 'adni|alzheimer s disease neuroimaging initiative adni', 'noaa tide gauge', 'national assessment of education progress', 'trends in international mathematics and science study', 'baltimore longitudinal study of aging|baltimore longitudinal study of aging blsa', 'world ocean database', 'slosh model', 'adni|alzheimer s disease neuroimaging initiative adni', 'national assessment of education progress', 'baccalaureate and beyond|national survey of family growth', 'adni', 'baltimore longitudinal study of aging|baltimore longitudinal study of aging blsa', 'national science foundation survey of earned doctorates|survey of earned doctorates', 'covid 19 image data collection', 'adni', 'world ocean database', 'national assessment of education progress', 'rural urban continuum codes', 'adni|alzheimer s disease neuroimaging initiative adni', 'adni', 'adni|alzheimer s disease neuroimaging initiative adni', 'covid 19 open research data|covid 19 open research dataset', 'trends in international mathematics and science study', 'adni|alzheimer s disease neuroimaging initiative adni', 'adni|alzheimer s disease neuroimaging initiative adni', 'adni', 'agricultural resource management survey', 'census of agriculture', 'early childhood longitudinal study', 'adni|alzheimer s disease neuroimaging initiative adni', 'noaa tide gauge', 'sars cov 2 full genome sequence|sars cov 2 full genome sequences', 'national education longitudinal study|education longitudinal study|head start impact study|early childhood longitudinal study', 'adni|alzheimer s disease neuroimaging initiative adni', 'coastal change analysis program', 'survey of industrial research and development', 'adni|alzheimer s disease neuroimaging initiative adni', 'adni|alzheimer s disease neuroimaging initiative adni', 'adni', 'adni|alzheimer s disease neuroimaging initiative adni', 'adni', 'agricultural resource management survey', 'national database for autism research ndar|adni|alzheimer s disease neuroimaging initiative adni', 'adni|alzheimer s disease neuroimaging initiative adni', 'national education longitudinal study|education longitudinal study']\n",
      "0.6952247191011236\n"
     ]
    }
   ],
   "source": [
    "#In case of development (using the validation set)\n",
    "if(computeFBeta):\n",
    "    trainLabels = getTrainLabels(validationIds, final_predictions,  label_df)\n",
    "    print(trainLabels)\n",
    "    print(final_predictions)\n",
    "    fbeta = compute_fbeta(trainLabels, [x.split('|')for x in final_predictions])\n",
    "    print(fbeta)\n"
   ]
  }
 ],
 "metadata": {
  "kernelspec": {
   "display_name": "Python 3",
   "language": "python",
   "name": "python3"
  },
  "language_info": {
   "codemirror_mode": {
    "name": "ipython",
    "version": 3
   },
   "file_extension": ".py",
   "mimetype": "text/x-python",
   "name": "python",
   "nbconvert_exporter": "python",
   "pygments_lexer": "ipython3",
   "version": "3.6.5"
  },
  "papermill": {
   "default_parameters": {},
   "duration": 308.675529,
   "end_time": "2021-06-13T10:48:46.530424",
   "environment_variables": {},
   "exception": null,
   "input_path": "__notebook__.ipynb",
   "output_path": "__notebook__.ipynb",
   "parameters": {},
   "start_time": "2021-06-13T10:43:37.854895",
   "version": "2.3.2"
  }
 },
 "nbformat": 4,
 "nbformat_minor": 5
}
